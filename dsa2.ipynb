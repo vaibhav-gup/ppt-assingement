{
 "cells": [
  {
   "cell_type": "code",
   "execution_count": 5,
   "metadata": {},
   "outputs": [
    {
     "data": {
      "text/plain": [
       "(11.8, 20.2)"
      ]
     },
     "execution_count": 5,
     "metadata": {},
     "output_type": "execute_result"
    }
   ],
   "source": [
    "def mean(a,b):\n",
    "    sum1=sum(a)\n",
    "    mean1=sum1/len(a)\n",
    "    sum2=sum(b)\n",
    "    mean2=sum2/len(b)\n",
    "    return mean1,mean2\n",
    "a= [10, 15, 12, 8, 14]\n",
    "b= [18, 20, 16, 22, 25]\n",
    "mean(a,b)\n"
   ]
  },
  {
   "cell_type": "code",
   "execution_count": 19,
   "metadata": {},
   "outputs": [
    {
     "data": {
      "text/plain": [
       "4"
      ]
     },
     "execution_count": 19,
     "metadata": {},
     "output_type": "execute_result"
    }
   ],
   "source": [
    "import statistics\n",
    "def mode(arr):\n",
    "    return statistics.mode(arr)\n",
    "\n",
    "arr= [4, 5, 2, 3, 5, 4, 3, 2, 4, 5]\n",
    "\n",
    "mode(arr)"
   ]
  },
  {
   "cell_type": "code",
   "execution_count": 32,
   "metadata": {},
   "outputs": [
    {
     "name": "stdout",
     "output_type": "stream",
     "text": [
      "5750.0\n",
      "5500\n",
      "5750.0\n",
      "5650.0\n"
     ]
    }
   ],
   "source": [
    "import statistics\n",
    "def median(arr):\n",
    "     return statistics.median(arr)\n",
    " \n",
    "Department_A= [5000, 6000, 5500, 7000]\n",
    "print(median(Department_A))\n",
    "Department_B= [4500, 5500, 5800, 6000, 5200]\n",
    "print(median(Department_B))\n",
    "\n",
    "\n",
    "#or \n",
    "def median_salray(arr):\n",
    "    mid=len(arr)//2\n",
    "    median=0\n",
    "    if mid%2==0:\n",
    "        median+=(arr[mid-1]+arr[mid])/2\n",
    "    else:\n",
    "        median+=arr[mid]\n",
    "    return median\n",
    "\n",
    "Department_A= [5000, 6000, 5500, 7000]\n",
    "print(median_salray(Department_A))\n",
    "Department_B= [4500, 5500, 5800, 6000, 5200]\n",
    "print(median_salray(Department_B))\n",
    "        \n",
    "        \n",
    "        "
   ]
  },
  {
   "cell_type": "code",
   "execution_count": 37,
   "metadata": {},
   "outputs": [
    {
     "data": {
      "text/plain": [
       "1.3000000000000007"
      ]
     },
     "execution_count": 37,
     "metadata": {},
     "output_type": "execute_result"
    }
   ],
   "source": [
    "def stock_price_range(lis):\n",
    "    return max(lis)-min(lis)\n",
    "\n",
    "lis=[25.5, 24.8, 26.1, 25.3, 24.9]\n",
    "stock_price_range(lis)"
   ]
  },
  {
   "cell_type": "code",
   "execution_count": 43,
   "metadata": {},
   "outputs": [
    {
     "data": {
      "text/plain": [
       "(1.4312528946642733, 0.19023970239078333)"
      ]
     },
     "execution_count": 43,
     "metadata": {},
     "output_type": "execute_result"
    }
   ],
   "source": [
    "import scipy.stats as stats\n",
    "def t_test(gp1,gp2):\n",
    "    t_statistic, p_value = stats.ttest_ind(gp1, gp2)\n",
    "    return t_statistic, p_value \n",
    "gp1= [85, 90, 92, 88, 91]\n",
    "gp2=[82, 88, 90, 86, 87]\n",
    "\n",
    "\n",
    "t_test(gp1,gp2)"
   ]
  },
  {
   "cell_type": "code",
   "execution_count": 3,
   "metadata": {},
   "outputs": [
    {
     "name": "stdout",
     "output_type": "stream",
     "text": [
      "Correlation Coefficient: 0.8757511375750132\n"
     ]
    }
   ],
   "source": [
    "import numpy as np\n",
    "def core_coff(gp1,gp2):\n",
    "    Advertising_Expenditure = np.array(gp1)\n",
    "    Sales= np.array(gp2)\n",
    "    correlation_matrix = np.corrcoef(Advertising_Expenditure,Sales)\n",
    "    correlation_coefficient= correlation_matrix[0,1]\n",
    "    print(\"Correlation Coefficient:\", correlation_coefficient) \n",
    "    \n",
    "    \n",
    "gp1= [10, 15, 12, 8, 14]\n",
    "gp2= [25, 30, 28, 20, 26]\n",
    "core_coff(gp1,gp2)\n"
   ]
  },
  {
   "cell_type": "code",
   "execution_count": 5,
   "metadata": {},
   "outputs": [
    {
     "data": {
      "text/plain": [
       "7.953949089757174"
      ]
     },
     "execution_count": 5,
     "metadata": {},
     "output_type": "execute_result"
    }
   ],
   "source": [
    "import numpy as np\n",
    "def stand_devation(arr):\n",
    "    data=np.array(arr)\n",
    "    standard_devation=np.std(data)\n",
    "    \n",
    "    return standard_devation\n",
    "\n",
    "\n",
    "stand_devation(   [160, 170, 165, 155, 175, 180, 170])"
   ]
  },
  {
   "cell_type": "code",
   "execution_count": 7,
   "metadata": {},
   "outputs": [
    {
     "name": "stdout",
     "output_type": "stream",
     "text": [
      "Regression Coefficient (Slope): -0.4680851063829787\n",
      "Intercept: 8.595744680851062\n",
      "Correlation Coefficient (r-value): -0.520573376708331\n",
      "p-value: 0.23095550952297988\n",
      "Standard Error: 0.34333860006713723\n"
     ]
    }
   ],
   "source": [
    "import numpy  as np\n",
    "from  scipy.stats import linregress\n",
    "def linear_regression(arr1,arr2):\n",
    "    Employee_Tenure = np.array(arr1)\n",
    "    Job_Satisfaction = np.array(arr2)\n",
    "    slope, intercept, r_value, p_value, std_err = linregress(Employee_Tenure, Job_Satisfaction)\n",
    "    print(\"Regression Coefficient (Slope):\", slope)\n",
    "    print(\"Intercept:\", intercept)\n",
    "    print(\"Correlation Coefficient (r-value):\", r_value)\n",
    "    print(\"p-value:\", p_value)\n",
    "    print(\"Standard Error:\", std_err)\n",
    "    \n",
    "    \n",
    "linear_regression([2, 3, 5, 4, 6, 2, 4], [7, 8, 6, 9, 5, 7, 6])\n",
    "    "
   ]
  },
  {
   "cell_type": "code",
   "execution_count": 9,
   "metadata": {},
   "outputs": [
    {
     "name": "stdout",
     "output_type": "stream",
     "text": [
      "F-value: 16.0\n",
      "p-value: 0.003949772803445326\n"
     ]
    }
   ],
   "source": [
    "import numpy as np\n",
    "from scipy.stats import f_oneway\n",
    "def anova(arr1,arr2):\n",
    "    med_a= np.array(arr1)\n",
    "    med_b = np.array(arr2)\n",
    "    f_value , p_value =f_oneway(med_a,med_b)\n",
    "    print(\"F-value:\", f_value)\n",
    "    print(\"p-value:\", p_value)\n",
    "anova([10, 12, 14, 11, 13],[15, 17, 16, 14, 18])"
   ]
  },
  {
   "cell_type": "code",
   "execution_count": 12,
   "metadata": {},
   "outputs": [
    {
     "data": {
      "text/plain": [
       "8.75"
      ]
     },
     "execution_count": 12,
     "metadata": {},
     "output_type": "execute_result"
    }
   ],
   "source": [
    "import numpy as np\n",
    "def calculate_75(arr):\n",
    "    rating=np.array(arr)\n",
    "    per_75=np.percentile(rating,75)\n",
    "    return per_75\n",
    "\n",
    "calculate_75( [8, 9, 7, 6, 8, 10, 9, 8, 7, 8])"
   ]
  },
  {
   "cell_type": "code",
   "execution_count": 15,
   "metadata": {},
   "outputs": [
    {
     "data": {
      "text/plain": [
       "(1.5126584522688367, 0.19077595151110102)"
      ]
     },
     "execution_count": 15,
     "metadata": {},
     "output_type": "execute_result"
    }
   ],
   "source": [
    "import numpy as np\n",
    "from scipy.stats import ttest_1samp\n",
    "def hypothesis(weg):\n",
    "    weight=np.array(weg)\n",
    "    t_ststa ,p_value = ttest_1samp(weight,10)\n",
    "    \n",
    "    return t_ststa,p_value\n",
    "\n",
    "hypothesis([10.2, 9.8, 10.0, 10.5, 10.3, 10.1])"
   ]
  },
  {
   "cell_type": "code",
   "execution_count": 17,
   "metadata": {},
   "outputs": [
    {
     "name": "stdout",
     "output_type": "stream",
     "text": [
      "Chi-square Statistic: 6.110658166925435\n",
      "p-value: 0.19103526314060296\n",
      "Degrees of Freedom: 4\n"
     ]
    }
   ],
   "source": [
    "import numpy as np\n",
    "from scipy.stats import chi2_contingency\n",
    "def chi_square(arr1,arr2):\n",
    "    click1= np.array(arr1)\n",
    "    click2= np.array(arr2)\n",
    "    frequency = np.array([click1,click2])\n",
    "    chi2_statistic, p_value, degrees_of_freedom, expected_frequencies = chi2_contingency(frequency)\n",
    "    print(\"Chi-square Statistic:\", chi2_statistic)\n",
    "    print(\"p-value:\", p_value)\n",
    "    print(\"Degrees of Freedom:\", degrees_of_freedom)\n",
    "\n",
    "\n",
    "chi_square([100, 120, 110, 90, 95],[80, 85, 90, 95, 100])\n",
    "    \n",
    "    \n",
    "\n",
    "    "
   ]
  },
  {
   "cell_type": "code",
   "execution_count": 19,
   "metadata": {},
   "outputs": [
    {
     "name": "stdout",
     "output_type": "stream",
     "text": [
      "95% Confidence Interval: [7.21, 8.59]\n"
     ]
    }
   ],
   "source": [
    "import numpy as np\n",
    "from scipy.stats import t\n",
    "def stste(arr):\n",
    "    scores = np.array(arr)\n",
    "    sample_mean = np.mean(scores)\n",
    "    sample_std = np.std(scores, ddof=1)  # ddof=1 for sample standard deviation\n",
    "    sample_size = len(scores)\n",
    "    confidence_level = 0.95\n",
    "    degrees_of_freedom = sample_size - 1\n",
    "    t_critical = t.ppf(confidence_level, degrees_of_freedom)\n",
    "    margin_of_error = t_critical * (sample_std / np.sqrt(sample_size))\n",
    "    lower_bound = sample_mean - margin_of_error\n",
    "    upper_bound = sample_mean + margin_of_error\n",
    "    print(\"95% Confidence Interval: [{:.2f}, {:.2f}]\".format(lower_bound, upper_bound))\n",
    "    \n",
    "stste( [7, 9, 6, 8, 10, 7, 8, 9, 7, 8])\n",
    "\n",
    "\n",
    "\n",
    "    \n",
    "    \n",
    "\n",
    "    "
   ]
  },
  {
   "cell_type": "code",
   "execution_count": 20,
   "metadata": {},
   "outputs": [
    {
     "name": "stdout",
     "output_type": "stream",
     "text": [
      "Regression Coefficient (Slope): 0.5\n",
      "Intercept: -2.9000000000000004\n",
      "Correlation Coefficient (r-value): 0.6933752452815364\n",
      "p-value: 0.19417134561205843\n",
      "Standard Error: 0.30000000000000004\n"
     ]
    }
   ],
   "source": [
    "import numpy  as np\n",
    "from  scipy.stats import linregress\n",
    "def linear_regression(arr1,arr2):\n",
    "    temp = np.array(arr1)\n",
    "    performance = np.array(arr2)\n",
    "    slope, intercept, r_value, p_value, std_err = linregress(temp, performance)\n",
    "    print(\"Regression Coefficient (Slope):\", slope)\n",
    "    print(\"Intercept:\", intercept)\n",
    "    print(\"Correlation Coefficient (r-value):\", r_value)\n",
    "    print(\"p-value:\", p_value)\n",
    "    print(\"Standard Error:\", std_err)\n",
    "    \n",
    "Temperature= [20, 22, 23, 19, 21]\n",
    "Performance = [8, 7, 9, 6, 8]\n",
    "linear_regression(Temperature,Performance)\n"
   ]
  },
  {
   "cell_type": "code",
   "execution_count": 23,
   "metadata": {},
   "outputs": [
    {
     "name": "stdout",
     "output_type": "stream",
     "text": [
      "Mann-Whitney U Statistic: 17.0\n",
      "p-value: 0.380836480306712\n"
     ]
    }
   ],
   "source": [
    "import numpy as np\n",
    "from scipy.stats import mannwhitneyu\n",
    "def function(arr1,arr2):\n",
    "    gp1=np.array(arr1)\n",
    "    gp2=np.array(arr2)\n",
    "    statst , p_value = mannwhitneyu(gp1,gp2)\n",
    "    print(\"Mann-Whitney U Statistic:\",  statst)\n",
    "    print(\"p-value:\", p_value)\n",
    "GroupA=[4, 3, 5, 2, 4]\n",
    "GroupB=[3, 2, 4, 3, 3]\n",
    "function(GroupA,GroupB)\n",
    "\n"
   ]
  },
  {
   "cell_type": "code",
   "execution_count": 26,
   "metadata": {},
   "outputs": [
    {
     "name": "stdout",
     "output_type": "stream",
     "text": [
      "Kruskal-Wallis Statistic: 9.696947935368053\n",
      "p-value: 0.007840333026249539\n"
     ]
    }
   ],
   "source": [
    "import numpy as np\n",
    "from scipy.stats import kruskal\n",
    "def kus(arr1,arr2,arr3):\n",
    "    score1=np.array(arr1)\n",
    "    score2=np.array(arr2)\n",
    "    score3=np.array(arr3)\n",
    "    stst , p_value= kruskal(score1,score2,score3)\n",
    "    print(\"Kruskal-Wallis Statistic:\", stst)\n",
    "    print(\"p-value:\", p_value)\n",
    "    \n",
    "AlgoA=[0.85, 0.80, 0.82, 0.87, 0.83]\n",
    "AlgoB=[0.78, 0.82, 0.84, 0.80, 0.79]\n",
    "AlgoC=[0.90, 0.88, 0.89, 0.86, 0.87]\n",
    "kus(AlgoA,AlgoB,AlgoC)\n",
    "\n",
    "\n",
    "    "
   ]
  },
  {
   "cell_type": "code",
   "execution_count": 27,
   "metadata": {},
   "outputs": [
    {
     "name": "stdout",
     "output_type": "stream",
     "text": [
      "Regression Coefficient (Slope): -3.506097560975609\n",
      "Intercept: 136.3719512195122\n",
      "Correlation Coefficient (r-value): -0.8979991308594848\n",
      "p-value: 0.03850178234753776\n",
      "Standard Error: 0.9918303504036147\n"
     ]
    }
   ],
   "source": [
    "import numpy  as np\n",
    "from  scipy.stats import linregress\n",
    "def linear_regression(arr1,arr2):\n",
    "    price = np.array(arr1)\n",
    "    sales = np.array(arr2)\n",
    "    slope, intercept, r_value, p_value, std_err = linregress(price, sales)\n",
    "    print(\"Regression Coefficient (Slope):\", slope)\n",
    "    print(\"Intercept:\", intercept)\n",
    "    print(\"Correlation Coefficient (r-value):\", r_value)\n",
    "    print(\"p-value:\", p_value)\n",
    "    print(\"Standard Error:\", std_err)\n",
    "    \n",
    "price=[10, 15, 12, 8, 14]\n",
    "sales=[100, 80, 90, 110, 95]\n",
    "linear_regression(price,sales)"
   ]
  },
  {
   "cell_type": "code",
   "execution_count": 28,
   "metadata": {},
   "outputs": [
    {
     "name": "stdout",
     "output_type": "stream",
     "text": [
      "Standard Error of the Mean: 0.28982753492378877\n"
     ]
    }
   ],
   "source": [
    "import numpy as np\n",
    "satisfaction_scores = np.array([7, 8, 9, 6, 8, 7, 9, 7, 8, 7])\n",
    "sample_size = len(satisfaction_scores)\n",
    "standard_error = np.std(satisfaction_scores) / np.sqrt(sample_size)\n",
    "print(\"Standard Error of the Mean:\", standard_error)\n",
    "\n",
    "\n"
   ]
  },
  {
   "cell_type": "code",
   "execution_count": 35,
   "metadata": {},
   "outputs": [
    {
     "ename": "ModuleNotFoundError",
     "evalue": "No module named 'statsmodels'",
     "output_type": "error",
     "traceback": [
      "\u001b[1;31m---------------------------------------------------------------------------\u001b[0m",
      "\u001b[1;31mModuleNotFoundError\u001b[0m                       Traceback (most recent call last)",
      "Cell \u001b[1;32mIn[35], line 2\u001b[0m\n\u001b[0;32m      1\u001b[0m \u001b[39mimport\u001b[39;00m \u001b[39mnumpy\u001b[39;00m \u001b[39mas\u001b[39;00m \u001b[39mnp\u001b[39;00m\n\u001b[1;32m----> 2\u001b[0m \u001b[39mimport\u001b[39;00m \u001b[39mstatsmodels\u001b[39;00m\u001b[39m.\u001b[39;00m\u001b[39mapi\u001b[39;00m \u001b[39mas\u001b[39;00m \u001b[39msm\u001b[39;00m\n\u001b[0;32m      3\u001b[0m advertising_expenditure \u001b[39m=\u001b[39m np\u001b[39m.\u001b[39marray([\u001b[39m10\u001b[39m, \u001b[39m15\u001b[39m, \u001b[39m12\u001b[39m, \u001b[39m8\u001b[39m, \u001b[39m14\u001b[39m])\n\u001b[0;32m      4\u001b[0m sales \u001b[39m=\u001b[39m np\u001b[39m.\u001b[39marray([\u001b[39m25\u001b[39m, \u001b[39m30\u001b[39m, \u001b[39m28\u001b[39m, \u001b[39m20\u001b[39m, \u001b[39m26\u001b[39m])\n",
      "\u001b[1;31mModuleNotFoundError\u001b[0m: No module named 'statsmodels'"
     ]
    }
   ],
   "source": [
    "import numpy as np\n",
    "import statsmodels.api as sm\n",
    "advertising_expenditure = np.array([10, 15, 12, 8, 14])\n",
    "sales = np.array([25, 30, 28, 20, 26])\n",
    "X = sm.add_constant(advertising_expenditure)\n",
    "model = sm.OLS(sales, X)\n",
    "results = model.fit()\n",
    "print(results.summary())\n",
    "\n"
   ]
  },
  {
   "cell_type": "code",
   "execution_count": null,
   "metadata": {},
   "outputs": [],
   "source": []
  }
 ],
 "metadata": {
  "kernelspec": {
   "display_name": "Python 3",
   "language": "python",
   "name": "python3"
  },
  "language_info": {
   "codemirror_mode": {
    "name": "ipython",
    "version": 3
   },
   "file_extension": ".py",
   "mimetype": "text/x-python",
   "name": "python",
   "nbconvert_exporter": "python",
   "pygments_lexer": "ipython3",
   "version": "3.11.4"
  },
  "orig_nbformat": 4
 },
 "nbformat": 4,
 "nbformat_minor": 2
}
