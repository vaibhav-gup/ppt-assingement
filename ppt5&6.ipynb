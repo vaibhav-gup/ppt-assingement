{
 "cells": [
  {
   "cell_type": "code",
   "execution_count": 17,
   "metadata": {},
   "outputs": [],
   "source": [
    "def convert(arr, m, n):\n",
    "    # Check if the length of the array is equal to m x n\n",
    "    if len(arr) != m * n:\n",
    "        return []  # Return an empty 2D array since it is impossible to create the desired array\n",
    "    \n",
    "    # Initialize an empty 2D array called b with m rows and n columns\n",
    "    b = [[0] * n for _ in range(m)]\n",
    "    \n",
    "    # Initialize a variable index to 0 to keep track of the current index in the array\n",
    "    index = 0\n",
    "    \n",
    "    # Iterate over the rows of the 2D array\n",
    "    for row in range(n):\n",
    "        # Iterate over the columns of the 2D array\n",
    "        for col in range(m):\n",
    "            # Assign the element at index index of the array to the corresponding position in the 2D array\n",
    "            b[row][col] = arr[index]\n",
    "            # Increment index by 1 to move to the next element in the array\n",
    "            index += 1\n",
    "    \n",
    "    # Return the 2D array\n",
    "    return b\n",
    "\n",
    "#tc =O(m*n),sc=O(m*n)\n"
   ]
  },
  {
   "cell_type": "code",
   "execution_count": 20,
   "metadata": {},
   "outputs": [
    {
     "data": {
      "text/plain": [
       "[[1, 2], [3, 4]]"
      ]
     },
     "execution_count": 20,
     "metadata": {},
     "output_type": "execute_result"
    }
   ],
   "source": [
    "arr=[1,2,3,4]\n",
    "m = 2 \n",
    "n = 2\n",
    "convert(arr,m,n)"
   ]
  },
  {
   "cell_type": "code",
   "execution_count": 1,
   "metadata": {},
   "outputs": [],
   "source": [
    "2 \n",
    "def arrange_coins(n):\n",
    "    left = 0  # Initialize left pointer as 0\n",
    "    right = n  # Initialize right pointer as n\n",
    "    \n",
    "    while left <= right:  # Perform binary search while left pointer is less than or equal to right pointer\n",
    "        mid = (left + right) // 2  # Calculate mid as the midpoint between left and right\n",
    "        \n",
    "        total_coins = (mid * (mid + 1)) // 2  # Calculate the total number of coins in mid rows\n",
    "        \n",
    "        if total_coins == n:  # If total coins is equal to n, we have an exact match\n",
    "            return mid  # Return mid as the number of complete rows\n",
    "        elif total_coins < n:  # If total coins is less than n, we have fewer coins\n",
    "            left = mid + 1  # Update left pointer to search in the upper half of the range\n",
    "        else:  # If total coins is greater than n, we have more coins\n",
    "            right = mid - 1  # Update right pointer to search in the lower half of the range\n",
    "    \n",
    "    return right  # If no exact match is found, return the largest number of complete rows that can be formed\n",
    "\n",
    "#tc=O(n),sc=(1)\n"
   ]
  },
  {
   "cell_type": "code",
   "execution_count": 2,
   "metadata": {},
   "outputs": [
    {
     "data": {
      "text/plain": [
       "2"
      ]
     },
     "execution_count": 2,
     "metadata": {},
     "output_type": "execute_result"
    }
   ],
   "source": [
    "n=5\n",
    "arrange_coins(n)"
   ]
  },
  {
   "cell_type": "code",
   "execution_count": 3,
   "metadata": {},
   "outputs": [],
   "source": [
    "def square(arr):\n",
    "    arr.sort()  # Sort the input array in non-decreasing order\n",
    "    b = []  # Initialize an empty list to store the squared elements\n",
    "    \n",
    "    for num in arr:\n",
    "        b.append(num**2)  # Square each element of the input array and add it to the list b\n",
    "    \n",
    "    b.sort()  # Sort the list b in non-decreasing order\n",
    "    \n",
    "    return arr, b  # Return both the original array and the squared array\n",
    "\n",
    "\n",
    "#tc=O(n)\n",
    "#sc=O(n)\n",
    "        "
   ]
  },
  {
   "cell_type": "code",
   "execution_count": 4,
   "metadata": {},
   "outputs": [
    {
     "data": {
      "text/plain": [
       "([-1, 0, 2, 3, 4, 9, 12, 34, 56, 87],\n",
       " [0, 1, 4, 9, 16, 81, 144, 1156, 3136, 7569])"
      ]
     },
     "execution_count": 4,
     "metadata": {},
     "output_type": "execute_result"
    }
   ],
   "source": [
    "arr=[9,0,56,34,87,12,3,4,2,-1]\n",
    "square(arr)"
   ]
  },
  {
   "cell_type": "code",
   "execution_count": 5,
   "metadata": {},
   "outputs": [],
   "source": [
    "def uncommon(num1, num2):\n",
    "    set1 = set(num1)  # Convert num1 to a set to remove duplicates\n",
    "    set2 = set(num2)  # Convert num2 to a set to remove duplicates\n",
    "    r1 = []  # Initialize an empty list to store elements unique to num1\n",
    "    r2 = []  # Initialize an empty list to store elements unique to num2\n",
    "    \n",
    "    for i in set1:\n",
    "        if i not in set2:\n",
    "            r1.append(i)  # Append elements from num1 that are not in num2 to r1\n",
    "    \n",
    "    for i in set2:\n",
    "        if i not in set1:\n",
    "            r2.append(i)  # Append elements from num2 that are not in num1 to r2\n",
    "    \n",
    "    return (r1, r2)  # Return the lists r1 and r2 containing the uncommon elements\n",
    "\n",
    "# Time Complexity: O(n + m), \n",
    "# Space Complexity: O(n + m)\n",
    "            "
   ]
  },
  {
   "cell_type": "code",
   "execution_count": 6,
   "metadata": {},
   "outputs": [
    {
     "data": {
      "text/plain": [
       "([1, 3], [4, 6])"
      ]
     },
     "execution_count": 6,
     "metadata": {},
     "output_type": "execute_result"
    }
   ],
   "source": [
    " num1 = [1,2,3]\n",
    " num2 = [2,4,6]\n",
    " uncommon(num1,num2)"
   ]
  },
  {
   "cell_type": "code",
   "execution_count": 33,
   "metadata": {},
   "outputs": [],
   "source": [
    "def distance(arr1, arr2, d):\n",
    "    n = len(arr1)\n",
    "    m = len(arr2)\n",
    "    \n",
    "    for i in range(n):\n",
    "        for j in range(m):\n",
    "            diff = abs(arr1[i] - arr2[j])\n",
    "            if diff <= d:\n",
    "                return diff\n",
    "    \n",
    "    return None  # Return None if no difference satisfies the condition\n",
    "\n",
    "#tc=O(m*n),sc=O(1)"
   ]
  },
  {
   "cell_type": "code",
   "execution_count": 40,
   "metadata": {},
   "outputs": [
    {
     "data": {
      "text/plain": [
       "2"
      ]
     },
     "execution_count": 40,
     "metadata": {},
     "output_type": "execute_result"
    }
   ],
   "source": [
    "arr1 = [4,5,8]\n",
    "arr2 = [10,9,1,8]\n",
    "d = 2\n",
    "distance(arr1,arr2,d)"
   ]
  },
  {
   "cell_type": "code",
   "execution_count": 7,
   "metadata": {},
   "outputs": [],
   "source": [
    "def twice(nums):\n",
    "    n = len(nums)  # Get the length of the input list\n",
    "    b = []  # Initialize an empty list to store the duplicate elements\n",
    "    i = 0  # Initialize the first pointer to the start of the list\n",
    "    j = i + 1  # Initialize the second pointer to the next element after the first pointer\n",
    "    \n",
    "    while i < j and j < n:\n",
    "        if nums[i] == nums[j] and nums[i] not in b:\n",
    "            b.append(nums[i])  # Append the duplicate element to the list b if it's not already present\n",
    "        \n",
    "        i += 1  # Increment the first pointer\n",
    "        j += 1  # Increment the second pointer\n",
    "    \n",
    "    return b  # Return the list of duplicate elements\n",
    "\n",
    "#tc=O(n),sc=(n)\n",
    "        "
   ]
  },
  {
   "cell_type": "code",
   "execution_count": 8,
   "metadata": {},
   "outputs": [
    {
     "data": {
      "text/plain": [
       "[4, 9]"
      ]
     },
     "execution_count": 8,
     "metadata": {},
     "output_type": "execute_result"
    }
   ],
   "source": [
    "nums=[1,2,3,4,4,5,6,7,5,8,9,9]\n",
    "twice(nums)"
   ]
  },
  {
   "cell_type": "code",
   "execution_count": 11,
   "metadata": {},
   "outputs": [
    {
     "data": {
      "text/plain": [
       "[4, 5, 6, 7, 0, 1, 2]"
      ]
     },
     "execution_count": 11,
     "metadata": {},
     "output_type": "execute_result"
    }
   ],
   "source": [
    "def rotate_array(arr, k):\n",
    "    \"\"\"\n",
    "    Rotate the given array by k positions to the right.\n",
    "\n",
    "    Args:\n",
    "        arr (List): The input array to be rotated.\n",
    "        k (int): The number of positions to rotate the array.\n",
    "\n",
    "    Returns:\n",
    "        List: The rotated array.\n",
    "\n",
    "    \"\"\"\n",
    "\n",
    "    n = len(arr)  # Get the length of the array\n",
    "    k = k % n  # Normalize k to be within the range of array length\n",
    "\n",
    "    # Reverse the entire array\n",
    "    reverse(arr, 0, n-1)\n",
    "\n",
    "    # Reverse the first k elements\n",
    "    reverse(arr, 0, k-1)\n",
    "\n",
    "    # Reverse the remaining elements\n",
    "    reverse(arr, k, n-1)\n",
    "\n",
    "    return arr\n",
    "\n",
    "\n",
    "def reverse(arr, start, end):\n",
    "    \"\"\"\n",
    "    Reverse the elements in the given range of the array.\n",
    "\n",
    "    Args:\n",
    "        arr (List): The input array.\n",
    "        start (int): The starting index of the range.\n",
    "        end (int): The ending index of the range.\n",
    "\n",
    "    Returns:\n",
    "        None (Modifies the input array in-place)\n",
    "\n",
    "    \"\"\"\n",
    "\n",
    "    while start < end:\n",
    "        # Swap elements at start and end indices\n",
    "        arr[start], arr[end] = arr[end], arr[start]\n",
    "        start += 1\n",
    "        end -= 1\n",
    "\n",
    "        \n",
    "    \n",
    "arr= [0,1,2,4,5,6,7]\n",
    "k=4\n",
    "rotate_array(arr, k)\n",
    "#tc=o(n),sc=O(1)\n",
    "     "
   ]
  },
  {
   "cell_type": "code",
   "execution_count": null,
   "metadata": {},
   "outputs": [],
   "source": [
    "def double(arr):\n",
    "    arr.sort()  # Sort the array in ascending order (O(n log n) time complexity)\n",
    "    b = []  # Create an empty list to store the elements that satisfy the condition\n",
    "    n = len(arr)  # Get the length of the array\n",
    "    i = 0  # Initialize the index i\n",
    "    \n",
    "    # Iterate through the array starting from index i+1\n",
    "    for j in range(i + 1, n):\n",
    "        # Check if the current element at index i is half of the element at index j\n",
    "        if arr[i] * 2 == arr[j]:\n",
    "            b.append(arr[i])  # Add the element at index i to the list b\n",
    "            i += 1  # Increment the index i to move to the next element\n",
    "            \n",
    "    return b  # Return the list containing the elements that satisfy the condition\n",
    "\n",
    "# time complexity is O(n log n) + O(n log n) = O(n log n),sc=O(1)\n",
    "\n",
    "        \n",
    "        "
   ]
  },
  {
   "cell_type": "code",
   "execution_count": null,
   "metadata": {},
   "outputs": [],
   "source": [
    "def double(arr):\n",
    "    arr.sort()  # Sort the array in ascending order (O(n log n) time complexity)\n",
    "    b = []  # Create an empty list to store the elements that satisfy the condition\n",
    "    n = len(arr)  # Get the length of the array\n",
    "    i = 0  # Initialize the index i\n",
    "    \n",
    "    # Iterate through the array starting from index i+1\n",
    "    for j in range(i + 1, n):\n",
    "        # Check if the current element at index i is half of the element at index j\n",
    "        if arr[i] * 2 == arr[j]:\n",
    "            b.append(arr[i])  # Add the element at index i to the list b\n",
    "            i += 1  # Increment the index i to move to the next element\n",
    "            \n",
    "    return b  # Return the list containing the elements that satisfy the condition\n",
    "\n",
    "# time complexity is O(n log n) + O(n log n) = O(n log n),sc=O(1)\n",
    "\n",
    "        \n",
    "        "
   ]
  },
  {
   "cell_type": "code",
   "execution_count": 13,
   "metadata": {},
   "outputs": [
    {
     "data": {
      "text/plain": [
       "[4, 5, 6]"
      ]
     },
     "execution_count": 13,
     "metadata": {},
     "output_type": "execute_result"
    }
   ],
   "source": [
    "arr=[8,10,12,4,5,6]\n",
    "double(arr)"
   ]
  },
  {
   "attachments": {},
   "cell_type": "markdown",
   "metadata": {},
   "source": [
    "assingement 6\n"
   ]
  },
  {
   "cell_type": "code",
   "execution_count": 31,
   "metadata": {},
   "outputs": [],
   "source": [
    "1\n",
    "def permutation(perm):\n",
    "    s = []  # Create an empty list to store the resulting string\n",
    "    n = len(perm)  # Get the length of the input permutation\n",
    "    \n",
    "    for i in range(n - 1):\n",
    "        # Compare each element with the next element in the permutation\n",
    "        # and determine if it is increasing or decreasing\n",
    "        if perm[i] < perm[i + 1]:\n",
    "            s.append(\"I\")  # Append \"I\" to the result list if it is increasing\n",
    "        else:\n",
    "            s.append(\"D\")  # Append \"D\" to the result list if it is decreasing\n",
    "            \n",
    "    return s  # Return the resulting string\n",
    "\n",
    "\n",
    "#TC=O(n),SC=O(n)\n",
    "      \n",
    "        "
   ]
  },
  {
   "cell_type": "code",
   "execution_count": 32,
   "metadata": {},
   "outputs": [
    {
     "data": {
      "text/plain": [
       "['I', 'D', 'I', 'D']"
      ]
     },
     "execution_count": 32,
     "metadata": {},
     "output_type": "execute_result"
    }
   ],
   "source": [
    "perm=[0,4,1,3,2]\n",
    "permutation(perm)"
   ]
  },
  {
   "cell_type": "code",
   "execution_count": 33,
   "metadata": {},
   "outputs": [],
   "source": [
    "2\n",
    "\n",
    "def searchMatrix(matrix, target):\n",
    "    # Get the number of rows and columns in the matrix\n",
    "    rows = len(matrix)\n",
    "    cols = len(matrix[0])\n",
    "    \n",
    "    # Iterate through each element in the matrix\n",
    "    for i in range(rows):\n",
    "        for j in range(cols):\n",
    "            # Check if the current element is equal to the target\n",
    "            if matrix[i][j] == target:\n",
    "                return True  # Return True if the target is found\n",
    "    \n",
    "    return False  # Return False if the target is not found\n"
   ]
  },
  {
   "cell_type": "code",
   "execution_count": 34,
   "metadata": {},
   "outputs": [
    {
     "name": "stdout",
     "output_type": "stream",
     "text": [
      "True\n"
     ]
    }
   ],
   "source": [
    "matrix = [\n",
    "    [1, 3, 5, 7],\n",
    "    [10, 11, 16, 20],\n",
    "    [23, 30, 34, 60]\n",
    "]\n",
    "target = 16\n",
    "\n",
    "result = searchMatrix(matrix, target)\n",
    "print(result)\n"
   ]
  },
  {
   "cell_type": "code",
   "execution_count": 35,
   "metadata": {},
   "outputs": [],
   "source": [
    "\n",
    "4\n",
    "def contiguous(nums):\n",
    "    c = 0        # Counter to keep track of consecutive ones\n",
    "    result = 0   # Result variable to store the count of contiguous sequences\n",
    "\n",
    "    for i in range(len(nums)):\n",
    "        if nums[i] == 0:\n",
    "            c -= 1   # Decrease the counter if the current element is zero\n",
    "        elif nums[i] == 1:\n",
    "            c += 1   # Increase the counter if the current element is one\n",
    "\n",
    "        if c == 0:\n",
    "            result += 1  # If the counter becomes zero, it indicates the end of a contiguous sequence of ones\n",
    "\n",
    "    return result\n",
    "\n",
    "\n",
    "#tc=O(n),sc=O(1)\n",
    "\n",
    "\n",
    "\n",
    "        "
   ]
  },
  {
   "cell_type": "code",
   "execution_count": 36,
   "metadata": {},
   "outputs": [
    {
     "data": {
      "text/plain": [
       "4"
      ]
     },
     "execution_count": 36,
     "metadata": {},
     "output_type": "execute_result"
    }
   ],
   "source": [
    "nums = [1, 0, 1, 0, 1, 1, 0, 0, 0, 1, 1]\n",
    "contiguous(nums)"
   ]
  },
  {
   "cell_type": "code",
   "execution_count": 11,
   "metadata": {},
   "outputs": [],
   "source": [
    "7\n",
    "def spiral(arr):\n",
    "    row = len(arr)\n",
    "    col = len(arr[0])\n",
    "    left = 0\n",
    "    up = 0\n",
    "    right = col - 1\n",
    "    down = row - 1\n",
    "    \n",
    "    while left <= right and up <= down:\n",
    "        # Print top row\n",
    "        for i in range(left, right + 1):\n",
    "            print(arr[up][i])\n",
    "        up += 1\n",
    "        \n",
    "        # Print right column\n",
    "        for i in range(up, down + 1):\n",
    "            print(arr[i][right])\n",
    "        right -= 1\n",
    "        \n",
    "        if up <= down:\n",
    "            # Print bottom row\n",
    "            for i in range(right, left - 1, -1):\n",
    "                print(arr[down][i])\n",
    "            down -= 1\n",
    "        \n",
    "        if left <= right:\n",
    "            # Print left column\n",
    "            for i in range(down, up - 1, -1):\n",
    "                print(arr[i][left])\n",
    "            left += 1\n",
    "\n",
    "#tc=O(n*m),sc=O(1)\n",
    "\n",
    "        \n",
    "    \n",
    "    "
   ]
  },
  {
   "cell_type": "code",
   "execution_count": 13,
   "metadata": {},
   "outputs": [
    {
     "name": "stdout",
     "output_type": "stream",
     "text": [
      "1\n",
      "2\n",
      "3\n",
      "4\n",
      "8\n",
      "12\n",
      "16\n",
      "15\n",
      "14\n",
      "13\n",
      "9\n",
      "5\n",
      "6\n",
      "7\n",
      "11\n",
      "10\n"
     ]
    }
   ],
   "source": [
    "\n",
    "arr = [\n",
    "    [1, 2, 3, 4],\n",
    "    [5, 6, 7, 8],\n",
    "    [9, 10, 11, 12],\n",
    "    [13, 14, 15, 16]\n",
    "]\n",
    "spiral(arr)"
   ]
  },
  {
   "cell_type": "code",
   "execution_count": 28,
   "metadata": {},
   "outputs": [
    {
     "name": "stdout",
     "output_type": "stream",
     "text": [
      "40\n"
     ]
    }
   ],
   "source": [
    "5\n",
    "def minProductSum(nums1, nums2):\n",
    "    nums1.sort()  # Sort nums1 in non-decreasing order\n",
    "    nums2.sort()  # Sort nums2 in non-decreasing order\n",
    "    \n",
    "    n = len(nums1)\n",
    "    min_product_sum = 0\n",
    "    \n",
    "    for i in range(n):\n",
    "        min_product_sum += nums1[i] * nums2[n - i - 1]# Calculate product and add to min_product_sum\n",
    "    \n",
    "    return min_product_sum\n",
    "    \n",
    "    \n",
    "nums1 = [5, 3, 4, 2]\n",
    "nums2 = [4, 2, 2, 5]\n",
    "\n",
    "result = minProductSum(nums1, nums2)\n",
    "print(result)"
   ]
  },
  {
   "cell_type": "code",
   "execution_count": 39,
   "metadata": {},
   "outputs": [
    {
     "data": {
      "text/plain": [
       "False"
      ]
     },
     "execution_count": 39,
     "metadata": {},
     "output_type": "execute_result"
    }
   ],
   "source": [
    "3\n",
    "def mountain(arr):\n",
    "    n = len(arr)\n",
    "    \n",
    "    # Check if array length is less than 3\n",
    "    if n < 3:\n",
    "        return False\n",
    "    \n",
    "    # Find the peak of the mountain\n",
    "    for i in range(1, n):\n",
    "        if arr[i] <= arr[i-1]:\n",
    "            break\n",
    "    else:\n",
    "        # If the loop completes without break, it means the array is strictly increasing\n",
    "        return False\n",
    "    \n",
    "    # Check if the rest of the array is strictly decreasing\n",
    "    for j in range(i+1, n):\n",
    "        if arr[j] >= arr[j-1]:\n",
    "            return False\n",
    "        \n",
    "    # If the loop completes without return, it means the array is a valid mountain\n",
    "    return True\n",
    "\n",
    "#time complexity of the function is O(n).\n",
    "# space complexity of the function is O(1)       \n",
    "arr = [2,1]   \n",
    "mountain(arr)\n",
    "    \n",
    "    "
   ]
  },
  {
   "cell_type": "code",
   "execution_count": 30,
   "metadata": {},
   "outputs": [
    {
     "name": "stdout",
     "output_type": "stream",
     "text": [
      "True\n"
     ]
    }
   ],
   "source": [
    "\n",
    "arr = [0, 2, 3, 4, 5, 2, 1, 0]\n",
    "result = mountain(arr)\n",
    "print(result) \n",
    "    "
   ]
  },
  {
   "cell_type": "code",
   "execution_count": 37,
   "metadata": {},
   "outputs": [],
   "source": [
    "6\n",
    "def double(arr):\n",
    "    arr.sort()  # Sort the array in ascending order (O(n log n) time complexity)\n",
    "    b = []  # Create an empty list to store the elements that satisfy the condition\n",
    "    n = len(arr)  # Get the length of the array\n",
    "    i = 0  # Initialize the index i\n",
    "    \n",
    "    # Iterate through the array starting from index i+1\n",
    "    for j in range(i + 1, n):\n",
    "        # Check if the current element at index i is half of the element at index j\n",
    "        if arr[i] * 2 == arr[j]:\n",
    "            b.append(arr[i])  # Add the element at index i to the list b\n",
    "            i += 1  # Increment the index i to move to the next element\n",
    "            \n",
    "    return b  # Return the list containing the elements that satisfy the condition\n",
    "\n",
    "# time complexity is O(n log n) + O(n log n) = O(n log n),sc=O(1)"
   ]
  },
  {
   "cell_type": "code",
   "execution_count": 38,
   "metadata": {},
   "outputs": [
    {
     "data": {
      "text/plain": [
       "[4, 5, 6]"
      ]
     },
     "execution_count": 38,
     "metadata": {},
     "output_type": "execute_result"
    }
   ],
   "source": [
    "arr=[8,10,12,4,5,6]\n",
    "double(arr)"
   ]
  },
  {
   "cell_type": "code",
   "execution_count": null,
   "metadata": {},
   "outputs": [],
   "source": []
  }
 ],
 "metadata": {
  "kernelspec": {
   "display_name": "Python 3",
   "language": "python",
   "name": "python3"
  },
  "language_info": {
   "codemirror_mode": {
    "name": "ipython",
    "version": 3
   },
   "file_extension": ".py",
   "mimetype": "text/x-python",
   "name": "python",
   "nbconvert_exporter": "python",
   "pygments_lexer": "ipython3",
   "version": "3.11.2"
  },
  "orig_nbformat": 4
 },
 "nbformat": 4,
 "nbformat_minor": 2
}
