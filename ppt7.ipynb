{
 "cells": [
  {
   "cell_type": "code",
   "execution_count": 8,
   "metadata": {},
   "outputs": [
    {
     "name": "stdout",
     "output_type": "stream",
     "text": [
      "True\n",
      "False\n"
     ]
    }
   ],
   "source": [
    "def isomorphic(s, t):\n",
    "    if len(s) != len(t):\n",
    "        return False\n",
    "\n",
    "    s_to_t = {}\n",
    "    t_to_s = {}\n",
    "\n",
    "    for char_s, char_t in zip(s, t):\n",
    "        # Step 3: Check if mappings exist and are consistent\n",
    "        if char_s in s_to_t and char_t in t_to_s:\n",
    "            if s_to_t[char_s] != char_t or t_to_s[char_t] != char_s:\n",
    "                return False\n",
    "        # Step 3: Create mappings if they don't exist\n",
    "        elif char_s not in s_to_t and char_t not in t_to_s:\n",
    "            s_to_t[char_s] = char_t\n",
    "            t_to_s[char_t] = char_s\n",
    "        # Step 3: Inconsistent mappings, return False\n",
    "        else:\n",
    "            return False\n",
    "\n",
    "    # Step 4: All characters can be replaced while preserving order\n",
    "    return True\n",
    "\n",
    "#time complexity is O(n),space complexity is O(k),\n",
    "\n",
    "# Example usage\n",
    "s = \"egg\"\n",
    "t = \"add\"\n",
    "print(isomorphic(s, t))  # Output: True\n",
    "\n",
    "s = \"foo\"\n",
    "t = \"bar\"\n",
    "print(isomorphic(s, t)) "
   ]
  },
  {
   "cell_type": "code",
   "execution_count": 7,
   "metadata": {},
   "outputs": [
    {
     "name": "stdout",
     "output_type": "stream",
     "text": [
      "True\n"
     ]
    }
   ],
   "source": [
    "s = \"title\"\n",
    "t = \"paper\"\n",
    "print(isomorphic(s, t))"
   ]
  },
  {
   "cell_type": "code",
   "execution_count": 3,
   "metadata": {},
   "outputs": [],
   "source": [
    "def is_strobogrammatic(num):\n",
    "    strobogrammatic_pairs = {'0': '0', '1': '1', '8': '8', '6': '9', '9': '6'}\n",
    "\n",
    "    left = 0\n",
    "    right = len(num) - 1\n",
    "\n",
    "    while left <= right:\n",
    "        # Check if the left and right characters are valid and form a valid strobogrammatic pair\n",
    "        if num[left] not in strobogrammatic_pairs or num[right] != strobogrammatic_pairs[num[left]]:\n",
    "            return False\n",
    "\n",
    "        # Move the left and right pointers towards the center\n",
    "        left += 1\n",
    "        right -= 1\n",
    "\n",
    "    # If the loop completes without returning False, the number is strobogrammatic\n",
    "    return True\n",
    "\n",
    "#time complexity is O(n),space complexity is O(1),\n",
    "        \n",
    "    \n",
    "\n"
   ]
  },
  {
   "cell_type": "code",
   "execution_count": 2,
   "metadata": {},
   "outputs": [
    {
     "name": "stdout",
     "output_type": "stream",
     "text": [
      "True\n"
     ]
    }
   ],
   "source": [
    "num = \"11\"\n",
    "print(is_strobogrammatic(num)) "
   ]
  },
  {
   "cell_type": "code",
   "execution_count": 7,
   "metadata": {},
   "outputs": [],
   "source": [
    "def addStrings(num1, num2):\n",
    "    # Convert the input numbers to strings\n",
    "    num1 = str(num1)\n",
    "    num2 = str(num2)\n",
    "    \n",
    "    # Initialize pointers, carry, and result\n",
    "    i = len(num1) - 1\n",
    "    j = len(num2) - 1\n",
    "    carry = 0\n",
    "    result = \"\"\n",
    "\n",
    "    # Perform addition digit by digit\n",
    "    while i >= 0 or j >= 0 or carry:\n",
    "        # Get the current digits from num1 and num2, or use 0 if indices are out of bounds\n",
    "        digit1 = int(num1[i]) if i >= 0 else 0\n",
    "        digit2 = int(num2[j]) if j >= 0 else 0\n",
    "\n",
    "        # Calculate the current sum and carry\n",
    "        current_sum = carry + digit1 + digit2\n",
    "        result = str(current_sum % 10) + result\n",
    "        carry = current_sum // 10\n",
    "\n",
    "        # Move the indices towards the left\n",
    "        i -= 1\n",
    "        j -= 1\n",
    "\n",
    "    # Return the resulting sum as a string\n",
    "    return result\n",
    "\n",
    "\n",
    "#time complexity is O(max(n, m)), space complexity is O(max(n, m)).\n",
    "\n",
    "\n",
    "    "
   ]
  },
  {
   "cell_type": "code",
   "execution_count": 8,
   "metadata": {},
   "outputs": [
    {
     "data": {
      "text/plain": [
       "'134'"
      ]
     },
     "execution_count": 8,
     "metadata": {},
     "output_type": "execute_result"
    }
   ],
   "source": [
    "addStrings(11,123)"
   ]
  },
  {
   "cell_type": "code",
   "execution_count": 12,
   "metadata": {},
   "outputs": [
    {
     "data": {
      "text/plain": [
       "\"s'teL ekat edoCteeL tsetnoc\""
      ]
     },
     "execution_count": 12,
     "metadata": {},
     "output_type": "execute_result"
    }
   ],
   "source": [
    "def reverseWords(s):\n",
    "    words = s.split()  # Step 1: Split the input string into words\n",
    "    reversed_words = [word[::-1] for word in words]  # Step 2: Reverse the order of characters in each word\n",
    "    reversed_string = ' '.join(reversed_words)  # Step 3: Join the reversed words with whitespace\n",
    "    return reversed_string  # Step 4: Return the reversed string\n",
    "\n",
    "\n",
    "s = \"Let's take LeetCode contest\"\n",
    "reverseWords(s)\n",
    " \n",
    " \n",
    " # time complexity is O(n + m), space complexity is O(m), "
   ]
  },
  {
   "cell_type": "code",
   "execution_count": 15,
   "metadata": {},
   "outputs": [
    {
     "data": {
      "text/plain": [
       "'bacdfeg'"
      ]
     },
     "execution_count": 15,
     "metadata": {},
     "output_type": "execute_result"
    }
   ],
   "source": [
    "def reverse_string(s, k):\n",
    "    # Convert the string to a list (strings are immutable in Python)\n",
    "    s = list(s)\n",
    "    n = len(s)\n",
    "\n",
    "    for i in range(0, n, 2*k):\n",
    "        # Reverse the first k characters in the chunk\n",
    "        s[i:i+k] = reversed(s[i:i+k])\n",
    "\n",
    "    # Convert the list back to a string\n",
    "    return ''.join(s)\n",
    "\n",
    "s = \"abcdefg\"\n",
    "k = 2\n",
    "reverse_string(s, k)\n",
    "\n",
    "#time complexity O(n),space complexity is O(n)"
   ]
  },
  {
   "cell_type": "code",
   "execution_count": 17,
   "metadata": {},
   "outputs": [
    {
     "data": {
      "text/plain": [
       "True"
      ]
     },
     "execution_count": 17,
     "metadata": {},
     "output_type": "execute_result"
    }
   ],
   "source": [
    "def can_shift(s, goal):\n",
    "    n = len(s)\n",
    "    m = len(goal)\n",
    "\n",
    "    # Check if the lengths are equal\n",
    "    if n != m:\n",
    "        return False\n",
    "\n",
    "    # Concatenate s with itself to handle circular shifts\n",
    "    s += s\n",
    "\n",
    "    # Iterate through each substring of length m in s\n",
    "    for i in range(n):\n",
    "        substring = s[i:i+m]\n",
    "        if substring == goal:\n",
    "            return True\n",
    "\n",
    "    return False\n",
    "\n",
    "s = \"abcde\"\n",
    "goal = \"cdeab\"\n",
    "can_shift(s, goal)\n",
    "\n",
    "        \n",
    "   #l time complexity is O(n + n + m) = O(n + m), space complexity is O(1).\n",
    "    "
   ]
  },
  {
   "cell_type": "code",
   "execution_count": 18,
   "metadata": {},
   "outputs": [
    {
     "data": {
      "text/plain": [
       "True"
      ]
     },
     "execution_count": 18,
     "metadata": {},
     "output_type": "execute_result"
    }
   ],
   "source": [
    "def backspace_compare(s, t):\n",
    "    def get_actual_string(string):\n",
    "        actual = []  # Stores the actual characters after processing backspaces\n",
    "        backspaces = 0  # Keeps track of the number of consecutive backspaces\n",
    "\n",
    "        # Iterate through the characters in reverse order\n",
    "        for i in range(len(string) - 1, -1, -1):\n",
    "            if string[i] == '#':\n",
    "                backspaces += 1  # Increment the backspace count\n",
    "            elif backspaces > 0:\n",
    "                backspaces -= 1  # Decrement the backspace count if backspaces > 0\n",
    "            else:\n",
    "                actual.append(string[i])  # Append the actual character to the list\n",
    "\n",
    "        return actual\n",
    "\n",
    "    return get_actual_string(s) == get_actual_string(t)\n",
    "\n",
    "#time complexity is O(n),\n",
    "\n",
    "s = \"ab#c\"\n",
    "t = \"ad#c\"\n",
    "backspace_compare(s, t)\n"
   ]
  },
  {
   "cell_type": "code",
   "execution_count": 19,
   "metadata": {},
   "outputs": [
    {
     "data": {
      "text/plain": [
       "True"
      ]
     },
     "execution_count": 19,
     "metadata": {},
     "output_type": "execute_result"
    }
   ],
   "source": [
    "def check_straight_line(coordinates):\n",
    "    n = len(coordinates)\n",
    "\n",
    "    # Calculate the slope between the first two points\n",
    "    x1, y1 = coordinates[0]\n",
    "    x2, y2 = coordinates[1]\n",
    "    slope = (y2 - y1) / (x2 - x1) if x2 - x1 != 0 else float('inf')\n",
    "\n",
    "    # Check the slopes between remaining points\n",
    "    for i in range(2, n):\n",
    "        x, y = coordinates[i]\n",
    "        if x2 - x1 == 0 or (y - y1) / (x - x1) != slope:\n",
    "            return False\n",
    "\n",
    "    return True\n",
    "\n",
    "#time complexity is O(n)\n",
    "coordinates = [[1,2],[2,3],[3,4],[4,5],[5,6],[6,7]]\n",
    "check_straight_line(coordinates)\n"
   ]
  },
  {
   "cell_type": "code",
   "execution_count": null,
   "metadata": {},
   "outputs": [],
   "source": []
  }
 ],
 "metadata": {
  "kernelspec": {
   "display_name": "Python 3",
   "language": "python",
   "name": "python3"
  },
  "language_info": {
   "codemirror_mode": {
    "name": "ipython",
    "version": 3
   },
   "file_extension": ".py",
   "mimetype": "text/x-python",
   "name": "python",
   "nbconvert_exporter": "python",
   "pygments_lexer": "ipython3",
   "version": "3.11.2"
  },
  "orig_nbformat": 4
 },
 "nbformat": 4,
 "nbformat_minor": 2
}
