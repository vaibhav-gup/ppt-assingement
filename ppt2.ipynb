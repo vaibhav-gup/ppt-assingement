{
 "cells": [
  {
   "cell_type": "code",
   "execution_count": null,
   "metadata": {},
   "outputs": [],
   "source": [
    "1\n",
    "#dividing the the arrary into the pair \n",
    "def printpair(arr,n,sum):\n",
    "    i=0\n",
    "    for j in range (i+1,n):\n",
    "        #print  the pair\n",
    "        print(\"(\", arr[i],\", \", arr[j],\")\", sep=\"\")\n",
    "        i+=1\n",
    "        #add the min value of pairs\n",
    "        sum= min(a[i],a[j])+min(a[i+1],a[j+1])\n",
    "        return sum\n",
    "    \n",
    "    #Time complexity :O(n)\n",
    "    #space compleity:O(1)"
   ]
  },
  {
   "cell_type": "code",
   "execution_count": null,
   "metadata": {},
   "outputs": [],
   "source": [
    "2\n",
    "#The function max_candies(candytype) takes an array of integers candytype as input and returns the maximum number of different types of candies Alice can eat if she only eats n / 2 of them.\n",
    "def max_candies(candytype):\n",
    "    #We first create a hash set using the set() function in Python. A hash set is a data structure that stores unique elements and allows for fast insertion, deletion, and lookup of elements.\n",
    "    \n",
    "   # We pass the candytype array as input to the set() function to create a hash set of unique candy types.\n",
    "\n",
    "#We then use the len() function to get the length of the hash set, which gives us the number of unique candy types.\n",
    "\n",
    "#We then use integer division (//) to divide the length of the candytype array by 2 to get the maximum number of candies Alice can eat.\n",
    "\n",
    "#Finally, we use the min() function to return the minimum of the number of unique candies and n / 2.\n",
    "    \n",
    "    \n",
    "    return min(len(set(candytype)), len(candytype) // 2)\n",
    "\n",
    "#Time Complexity: O(N)\n",
    "#Space complexity: O(N)  "
   ]
  },
  {
   "cell_type": "code",
   "execution_count": null,
   "metadata": {},
   "outputs": [],
   "source": [
    "3\n",
    "\n",
    "def harmonious(arr):\n",
    "    n=len(arr)\n",
    "    c=0#counter to count frequency\n",
    "    for i in range (n-1):#to check the element is grater than by 1 or equal to\n",
    "        if (a[i]+1==a[i+1] or a[i]==a[i+1]):\n",
    "           c+=1\n",
    "    return c\n",
    "    \n",
    "#Time Complexity: O(n)\n",
    "#Space complexity: O(1) "
   ]
  },
  {
   "cell_type": "code",
   "execution_count": null,
   "metadata": {},
   "outputs": [],
   "source": [
    "4\n",
    "def can_place_flowers(flowerbed, n):\n",
    "    count = 0\n",
    "    i = 0\n",
    "    while i < len(flowerbed):\n",
    "        if flowerbed[i] == 0 and (i == 0 or flowerbed[i-1] == 0) and (i == len(flowerbed)-1 or flowerbed[i+1] == 0):\n",
    "            flowerbed[i] = 1\n",
    "            count += 1\n",
    "        i += 1\n",
    "    return count >= n\n",
    "\n",
    "#We initialize a variable count to keep track of the number of flowers that can be planted.\n",
    "#We use a while loop to iterate over each element in the flowerbed array.\n",
    "#For each element in the array, we check if it is empty (i.e., equal to 0) and if its adjacent elements are also empty. If so, we plant a flower in that plot and increment the count variable.\n",
    "#Finally, we return True if the number of flowers planted is greater than or equal to n, and False otherwise.\n",
    "\n",
    "#Time Complexity: O(n)\n",
    "#Auxiliary Space: O(1)  "
   ]
  },
  {
   "cell_type": "code",
   "execution_count": null,
   "metadata": {},
   "outputs": [],
   "source": [
    "5\n",
    "def product(arr):\n",
    "    n=len(arr)\n",
    "    if (n<3):\n",
    "        return -1\n",
    "    \n",
    "    arr.sort()\n",
    "    max_product=a[0]*a[1]*a[2]#initalizing the product\n",
    "    for  i in range(3,n):\n",
    "        current_product=a[i]*a[i+1]*a[i+2]#calculating yhe product\n",
    "        max_product= max(max_product,current_product)#finding the max of product\n",
    "    return max_product\n",
    "\n",
    "#Time Complexity:O(n log n)\n",
    "#Auxiliary Space: O(1)  \n",
    "    \n",
    "   "
   ]
  },
  {
   "cell_type": "code",
   "execution_count": null,
   "metadata": {},
   "outputs": [],
   "source": [
    "6\n",
    "def check(arr, k):\n",
    "    n = len(arr)\n",
    "    for i in range(n):\n",
    "        if arr[i] == k:\n",
    "            return i  # Return the index of the element if found\n",
    "    else:\n",
    "        return -1  # Return -1 if the element is not found\n",
    "  \n",
    "  #time complexity :O(n)\n",
    "  #space complexity :O(1)          "
   ]
  },
  {
   "cell_type": "code",
   "execution_count": null,
   "metadata": {},
   "outputs": [],
   "source": [
    "7\n",
    "def monotonic(arr):\n",
    "    n=len(arr)\n",
    "    inc= True\n",
    "    dec=True\n",
    "    \n",
    "     # Loop to check if array is increasing\n",
    "    for i in range (0,n-1):\n",
    "        if a[i]>a[i+1]:\n",
    "            inc=False\n",
    "     # Loop to check if array is increasing\n",
    "    for i in range (o,n-1):\n",
    "        if a[i]<a[i+1]:\n",
    "            dec= False\n",
    "            \n",
    "    return inc or dec      \n",
    "    \n",
    "             \n",
    "# Time Complexity: O(n)\n",
    "# Space Complexity: O(1) \n"
   ]
  },
  {
   "cell_type": "code",
   "execution_count": null,
   "metadata": {},
   "outputs": [],
   "source": [
    "8\n",
    "def min_score(nums, k):\n",
    "    nums.sort() # first sort the array nums in non-decreasing order\n",
    "    n = len(nums)\n",
    "    res = nums[-1] - nums[0]\n",
    "    for i in range(n - 1):\n",
    "        a = nums[i]\n",
    "        b = nums[i + 1]\n",
    "        high = max(nums[-1] - k, a + k)\n",
    "        #We then iterate over the array and for each element nums[i]\n",
    "        #we add k to it and subtract k from the first element of the array. We then calculate the difference between the maximum and minimum elements in the modified array and return the minimum difference.\n",
    "        low = min(nums[0] + k, b - k)\n",
    "        res = min(res, high - low)\n",
    "    return res\n",
    "\n",
    "#Time Complexity: O(n log n),\n",
    "#Auxiliary Space: O(1)  "
   ]
  },
  {
   "cell_type": "code",
   "execution_count": null,
   "metadata": {},
   "outputs": [],
   "source": []
  }
 ],
 "metadata": {
  "language_info": {
   "name": "python"
  },
  "orig_nbformat": 4
 },
 "nbformat": 4,
 "nbformat_minor": 2
}
