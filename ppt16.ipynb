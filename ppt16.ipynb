{
 "cells": [
  {
   "cell_type": "code",
   "execution_count": 10,
   "metadata": {},
   "outputs": [
    {
     "name": "stdout",
     "output_type": "stream",
     "text": [
      "3 2 1 4 5 "
     ]
    }
   ],
   "source": [
    "1\n",
    "from queue import Queue\n",
    "\n",
    "def reverse_k_elements(queue, k):\n",
    "    stack = []   # Create an empty stack to temporarily store the first k elements\n",
    "    count = 0    # Initialize a counter variable to track the number of elements dequeued\n",
    "\n",
    "    # Dequeue the first k elements from the queue and push them onto the stack\n",
    "    while count < k:\n",
    "        stack.append(queue.get())  # Dequeue an element from the queue and push it onto the stack\n",
    "        count += 1\n",
    "\n",
    "    # Pop the elements from the stack and enqueue them back into the queue\n",
    "    while stack:\n",
    "        queue.put(stack.pop())  # Pop an element from the stack and enqueue it back into the queue\n",
    "\n",
    "    # Dequeue the remaining elements from the front of the queue and enqueue them back into the queue in the same relative order\n",
    "    for _ in range(queue.qsize() - k):\n",
    "        queue.put(queue.get())  # Dequeue an element from the front of the queue and enqueue it back into the queue\n",
    "\n",
    "    return queue\n",
    "\n",
    "# Example usage:\n",
    "q = Queue()\n",
    "q.put(1)\n",
    "q.put(2)\n",
    "q.put(3)\n",
    "q.put(4)\n",
    "q.put(5)\n",
    "k = 3\n",
    "\n",
    "reversed_q = reverse_k_elements(q, k)\n",
    "\n",
    "# Printing the reversed queue\n",
    "while not reversed_q.empty():\n",
    "    print(reversed_q.get(), end=\" \")\n",
    "\n",
    "# Output: 3 2 1 4 5\n",
    "\n",
    "    "
   ]
  },
  {
   "cell_type": "code",
   "execution_count": 7,
   "metadata": {},
   "outputs": [
    {
     "name": "stdout",
     "output_type": "stream",
     "text": [
      "[1, 2, 4, 7, 9]\n"
     ]
    }
   ],
   "source": [
    "2\n",
    "def sorting(arr):\n",
    "    stack = []\n",
    "    if len(arr) == 0:\n",
    "        return arr\n",
    "    else:\n",
    "        while arr:\n",
    "            element = arr.pop()  # Pop an element from the input array\n",
    "\n",
    "            # Find the correct position to insert the popped element in the stack\n",
    "            while stack and stack[-1] < element:\n",
    "                arr.append(stack.pop())\n",
    "\n",
    "            stack.append(element)  # Insert the popped element in the stack\n",
    "\n",
    "    return stack[::-1]  # Reverse the stack to get the sorted array\n",
    "\n",
    "\n",
    "# Test the sorting function\n",
    "arr = [4, 2, 9, 1, 7]\n",
    "result = sorting(arr)\n",
    "print(result)\n",
    "\n",
    "            "
   ]
  },
  {
   "cell_type": "code",
   "execution_count": 8,
   "metadata": {},
   "outputs": [
    {
     "data": {
      "text/plain": [
       "[3, 23, 31, 34, 92, 98]"
      ]
     },
     "execution_count": 8,
     "metadata": {},
     "output_type": "execute_result"
    }
   ],
   "source": [
    "arr= [34, 3, 31, 98, 92, 23]\n",
    "sorting(arr)"
   ]
  },
  {
   "cell_type": "code",
   "execution_count": 24,
   "metadata": {},
   "outputs": [],
   "source": [
    "3\n",
    "def del_mid(stack):\n",
    "    if len(stack)==0:\n",
    "        return stack\n",
    "\n",
    "    mid =(len(stack)//2)-1\n",
    "    element=stack[mid]\n",
    "    stack.pop(element)\n",
    "    return stack"
   ]
  },
  {
   "cell_type": "code",
   "execution_count": 25,
   "metadata": {},
   "outputs": [
    {
     "data": {
      "text/plain": [
       "[1, 2, 3, 5, 6]"
      ]
     },
     "execution_count": 25,
     "metadata": {},
     "output_type": "execute_result"
    }
   ],
   "source": [
    "stack = [1, 2, 3, 4, 5, 6]\n",
    "del_mid(stack)"
   ]
  },
  {
   "cell_type": "code",
   "execution_count": 26,
   "metadata": {},
   "outputs": [
    {
     "name": "stdout",
     "output_type": "stream",
     "text": [
      "Original digit: 12345\n",
      "Reversed digit: 54321\n"
     ]
    }
   ],
   "source": [
    "5\n",
    "def reverse(digit):\n",
    "    s = str(digit)\n",
    "    st = []\n",
    "    rev_str = \"\"\n",
    "\n",
    "    if len(s) == 1:\n",
    "        return digit\n",
    "\n",
    "    for char in s:\n",
    "        st.append(char)\n",
    "\n",
    "    while len(st) != 0:\n",
    "        top = st.pop()\n",
    "        rev_str += top\n",
    "\n",
    "    return int(rev_str)\n",
    "\n",
    "# Test the reverse function\n",
    "digit = 12345\n",
    "reversed_digit = reverse(digit)\n",
    "print(\"Original digit:\", digit)\n",
    "print(\"Reversed digit:\", reversed_digit)\n"
   ]
  },
  {
   "cell_type": "code",
   "execution_count": 56,
   "metadata": {},
   "outputs": [
    {
     "data": {
      "text/plain": [
       "563"
      ]
     },
     "execution_count": 56,
     "metadata": {},
     "output_type": "execute_result"
    }
   ],
   "source": [
    "digit=365\n",
    "reverse(digit)"
   ]
  },
  {
   "cell_type": "code",
   "execution_count": 1,
   "metadata": {},
   "outputs": [],
   "source": [
    "7\n",
    "def count_words_after_destruction(sequence):\n",
    "    stack = []\n",
    "\n",
    "    for word in sequence:\n",
    "        if not stack or word != stack[-1]:\n",
    "            stack.append(word)\n",
    "        else:\n",
    "            if stack:\n",
    "                stack.pop()\n",
    "\n",
    "    return (len(stack),stack)\n"
   ]
  },
  {
   "cell_type": "code",
   "execution_count": 3,
   "metadata": {},
   "outputs": [
    {
     "data": {
      "text/plain": [
       "(3, ['ab', 'bcd', 'ab'])"
      ]
     },
     "execution_count": 3,
     "metadata": {},
     "output_type": "execute_result"
    }
   ],
   "source": [
    "sequence = ['ab', 'aa', 'aa', 'bcd', 'ab']\n",
    "count_words_after_destruction(sequence)\n"
   ]
  },
  {
   "cell_type": "code",
   "execution_count": 5,
   "metadata": {},
   "outputs": [
    {
     "name": "stdout",
     "output_type": "stream",
     "text": [
      "False\n",
      "False\n"
     ]
    }
   ],
   "source": [
    "4\n",
    "def check_queue_order(queue):\n",
    "    stack = []\n",
    "    another_queue = []\n",
    "\n",
    "    for element in queue:\n",
    "        if element == queue[0]:\n",
    "            another_queue.append(element)\n",
    "        else:\n",
    "            while stack and element < stack[-1]:\n",
    "                another_queue.append(stack.pop())\n",
    "            stack.append(element)\n",
    "\n",
    "    while stack:\n",
    "        another_queue.append(stack.pop())\n",
    "\n",
    "    # Check if another_queue is in increasing order\n",
    "    for i in range(1, len(another_queue)):\n",
    "        if another_queue[i] < another_queue[i-1]:\n",
    "            return False\n",
    "\n",
    "    return True\n",
    "\n",
    "# Example usage:\n",
    "queue = [3, 2, 4, 1, 5]\n",
    "result = check_queue_order(queue)\n",
    "print(result)  # Output: True\n",
    "\n",
    "queue = [3, 2, 4, 1, 5, 6]\n",
    "result = check_queue_order(queue)\n",
    "print(result)  # Output: False\n"
   ]
  },
  {
   "cell_type": "code",
   "execution_count": 8,
   "metadata": {},
   "outputs": [],
   "source": [
    "6\n",
    "from queue import Queue\n",
    "def reverse_queue(queue,k):\n",
    "    st=[]\n",
    "    c=0\n",
    "    \n",
    "    while c<k:\n",
    "        st.append(queue.get())\n",
    "        c+=1\n",
    "        \n",
    "    while st :\n",
    "        queue.put(st.pop())\n",
    "    \n",
    "    for i in range (queue.size()-k):\n",
    "        queue.put(queue.get())\n",
    "        \n",
    "    return queue        "
   ]
  },
  {
   "cell_type": "code",
   "execution_count": 22,
   "metadata": {},
   "outputs": [],
   "source": [
    "8\n",
    "def max_absolute_difference(arr):\n",
    "    n = len(arr)\n",
    "    left_smaller = [0] * n\n",
    "    right_smaller = [0] * n\n",
    "    stack = []\n",
    "\n",
    "    for i in range(n):\n",
    "        while stack and stack[-1] > arr[i]:\n",
    "            right_smaller[stack.pop()] = arr[i]\n",
    "        stack.append(i)\n",
    "\n",
    "    stack.clear()\n",
    "\n",
    "    for i in range(n-1, -1, -1):\n",
    "        while stack and stack[-1] >= arr[i]:\n",
    "            left_smaller[stack.pop()] = arr[i]\n",
    "        stack.append(i)\n",
    "\n",
    "    max_diff = 0\n",
    "    for i in range(n):\n",
    "        diff = abs(left_smaller[i] - right_smaller[i])\n",
    "        max_diff = max(max_diff, diff)\n",
    "\n",
    "    return max_diff\n"
   ]
  },
  {
   "cell_type": "code",
   "execution_count": 23,
   "metadata": {},
   "outputs": [
    {
     "name": "stdout",
     "output_type": "stream",
     "text": [
      "5\n"
     ]
    }
   ],
   "source": [
    "arr = [5, 1, 9, 2, 5, 1, 7]\n",
    "output = max_absolute_difference(arr)\n",
    "print(output)  \n"
   ]
  },
  {
   "cell_type": "code",
   "execution_count": null,
   "metadata": {},
   "outputs": [],
   "source": []
  },
  {
   "cell_type": "code",
   "execution_count": null,
   "metadata": {},
   "outputs": [],
   "source": []
  }
 ],
 "metadata": {
  "kernelspec": {
   "display_name": "Python 3",
   "language": "python",
   "name": "python3"
  },
  "language_info": {
   "codemirror_mode": {
    "name": "ipython",
    "version": 3
   },
   "file_extension": ".py",
   "mimetype": "text/x-python",
   "name": "python",
   "nbconvert_exporter": "python",
   "pygments_lexer": "ipython3",
   "version": "3.11.2"
  },
  "orig_nbformat": 4
 },
 "nbformat": 4,
 "nbformat_minor": 2
}
