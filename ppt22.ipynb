{
 "cells": [
  {
   "cell_type": "code",
   "execution_count": 1,
   "metadata": {},
   "outputs": [],
   "source": [
    "class Node:\n",
    "    def __init__(self, value):\n",
    "        self.value = value\n",
    "        self.left = None\n",
    "        self.right = None\n",
    "        self.next = None\n",
    "\n",
    "def connect_nodes_at_same_level(root):\n",
    "    if not root:\n",
    "        return\n",
    "\n",
    "    queue = [root]\n",
    "\n",
    "    while queue:\n",
    "        level_size = len(queue)\n",
    "\n",
    "        for i in range(level_size):\n",
    "            current = queue.pop(0)\n",
    "\n",
    "            if i < level_size - 1:\n",
    "                current.next = queue[0]\n",
    "\n",
    "            if current.left:\n",
    "                queue.append(current.left)\n",
    "\n",
    "            if current.right:\n",
    "                queue.append(current.right)\n",
    "\n",
    "    return root"
   ]
  },
  {
   "cell_type": "code",
   "execution_count": 8,
   "metadata": {},
   "outputs": [
    {
     "name": "stdout",
     "output_type": "stream",
     "text": [
      "Original Tree:\n",
      "4 2 5 1 3 \n",
      "Flipped Tree:\n",
      "3 1 5 2 4 "
     ]
    }
   ],
   "source": [
    "class TreeNode:\n",
    "    def __init__(self, val):\n",
    "        self.val = val\n",
    "        self.left = None\n",
    "        self.right = None\n",
    "\n",
    "def flip_tree(root):\n",
    "    # Base case: If root is None or a leaf node, return root itself\n",
    "    if root is None or (root.left is None and root.right is None):\n",
    "        return root\n",
    "\n",
    "    # Recursively flip the left and right subtrees\n",
    "    flipped_left = flip_tree(root.left)\n",
    "    flipped_right = flip_tree(root.right)\n",
    "\n",
    "    # Swap the left and right children of the root\n",
    "    root.left = flipped_right\n",
    "    root.right = flipped_left\n",
    "\n",
    "    return root\n",
    "\n",
    "def inorder_traversal(root):\n",
    "    if root:\n",
    "        inorder_traversal(root.left)\n",
    "        print(root.val, end=\" \")\n",
    "        inorder_traversal(root.right)\n",
    "\n",
    "# Create a binary tree\n",
    "root = TreeNode(1)\n",
    "root.left = TreeNode(2)\n",
    "root.right = TreeNode(3)\n",
    "root.left.left = TreeNode(4)\n",
    "root.left.right = TreeNode(5)\n",
    "\n",
    "print(\"Original Tree:\")\n",
    "inorder_traversal(root)\n",
    "\n",
    "# Flip the binary tree\n",
    "flipped_root = flip_tree(root)\n",
    "\n",
    "print(\"\\nFlipped Tree:\")\n",
    "inorder_traversal(flipped_root)\n"
   ]
  },
  {
   "cell_type": "code",
   "execution_count": 9,
   "metadata": {},
   "outputs": [],
   "source": [
    "from collections import deque\n",
    "\n",
    "def __init__(self,val):\n",
    "    self.val=val\n",
    "    self.left=self.right=self.next=None\n",
    "    \n",
    "def connect_node_to_leag(root):\n",
    "    if root is None:\n",
    "        return root\n",
    "    \n",
    "    queue=deque[root]\n",
    "     \n",
    "    while queue:\n",
    "        size=len(queue)\n",
    "        prev=None\n",
    "        \n",
    "        for _ in range (size):\n",
    "            curr=queue.popleft()\n",
    "            if prev:\n",
    "                prev.next=curr\n",
    "                \n",
    "            curr=prev\n",
    "            \n",
    "        if curr.left:\n",
    "            queue.append(curr.left)\n",
    "        if curr.right:\n",
    "            queue.append(curr.right)\n",
    "        return root"
   ]
  },
  {
   "cell_type": "code",
   "execution_count": 6,
   "metadata": {},
   "outputs": [
    {
     "name": "stdout",
     "output_type": "stream",
     "text": [
      "Yes\n"
     ]
    }
   ],
   "source": [
    "class TreeNode:\n",
    "    def __init__(self, val):\n",
    "        self.val = val\n",
    "        self.left = None\n",
    "        self.right = None\n",
    "\n",
    "def build_tree(preorder, inorder):\n",
    "    if not preorder or not inorder:\n",
    "        return None\n",
    "\n",
    "    root_val = preorder.pop(0)\n",
    "    root = TreeNode(root_val)\n",
    "    root_index = inorder.index(root_val)\n",
    "\n",
    "    root.left = build_tree(preorder, inorder[:root_index])\n",
    "    root.right = build_tree(preorder, inorder[root_index + 1:])\n",
    "\n",
    "    return root\n",
    "\n",
    "def postorder_traversal(node, result):\n",
    "    if node:\n",
    "        postorder_traversal(node.left, result)\n",
    "        postorder_traversal(node.right, result)\n",
    "        result.append(node.val)\n",
    "\n",
    "def check_same_tree(inorder, preorder, postorder):\n",
    "    # Step 1: Build the tree using Preorder and Inorder traversals\n",
    "    root = build_tree(preorder, inorder)\n",
    "\n",
    "    # Step 2: Traverse the constructed tree using Postorder\n",
    "    postorder_result = []\n",
    "    postorder_traversal(root, postorder_result)\n",
    "\n",
    "    # Compare the constructed Postorder traversal with the given Postorder traversal\n",
    "    return postorder_result == postorder\n",
    "\n",
    "# Test Example\n",
    "inorder = [4, 2, 5, 1, 3]\n",
    "preorder = [1, 2, 4, 5, 3]\n",
    "postorder = [4, 5, 2, 3, 1]\n",
    "\n",
    "if check_same_tree(inorder, preorder, postorder):\n",
    "    print(\"Yes\")\n",
    "else:\n",
    "    print(\"No\")\n"
   ]
  },
  {
   "cell_type": "code",
   "execution_count": 7,
   "metadata": {},
   "outputs": [
    {
     "name": "stdout",
     "output_type": "stream",
     "text": [
      "No\n"
     ]
    }
   ],
   "source": [
    "Inorder=[4 ,2 ,5,1, 3] \n",
    "Preorder=[1, 5, 4, 2 ,3] \n",
    "Postorder=[4, 1, 2, 3, 5]\n",
    "if check_same_tree(inorder, preorder, postorder):\n",
    "    print(\"Yes\")\n",
    "else:\n",
    "    print(\"No\") "
   ]
  },
  {
   "cell_type": "code",
   "execution_count": null,
   "metadata": {},
   "outputs": [],
   "source": []
  }
 ],
 "metadata": {
  "kernelspec": {
   "display_name": "Python 3",
   "language": "python",
   "name": "python3"
  },
  "language_info": {
   "codemirror_mode": {
    "name": "ipython",
    "version": 3
   },
   "file_extension": ".py",
   "mimetype": "text/x-python",
   "name": "python",
   "nbconvert_exporter": "python",
   "pygments_lexer": "ipython3",
   "version": "3.11.4"
  },
  "orig_nbformat": 4
 },
 "nbformat": 4,
 "nbformat_minor": 2
}
