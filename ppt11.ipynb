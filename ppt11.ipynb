{
 "cells": [
  {
   "attachments": {},
   "cell_type": "markdown",
   "metadata": {},
   "source": [
    "Since we are using binary search so the time complexity is O(logn )"
   ]
  },
  {
   "attachments": {},
   "cell_type": "markdown",
   "metadata": {},
   "source": [
    "1"
   ]
  },
  {
   "cell_type": "code",
   "execution_count": 2,
   "metadata": {},
   "outputs": [
    {
     "data": {
      "text/plain": [
       "2"
      ]
     },
     "execution_count": 2,
     "metadata": {},
     "output_type": "execute_result"
    }
   ],
   "source": [
    "def mySqrt(x):\n",
    "    if x == 0:\n",
    "        return 0\n",
    "    \n",
    "    left, right = 1, x\n",
    "    result = 0\n",
    "    while left <= right:\n",
    "        mid = left + (right - left) // 2  # Calculate the midpoint of the current range\n",
    "        if mid <= x // mid:  # Check if mid^2 is less than or equal to x\n",
    "            result = mid  # Update the result to mid\n",
    "            left = mid + 1  # Move the left boundary to mid + 1\n",
    "        else:\n",
    "            right = mid - 1  # Move the right boundary to mid - 1\n",
    "    \n",
    "    return result\n",
    "\n",
    "x = 4\n",
    "mySqrt(x)           "
   ]
  },
  {
   "cell_type": "code",
   "execution_count": 3,
   "metadata": {},
   "outputs": [
    {
     "data": {
      "text/plain": [
       "2"
      ]
     },
     "execution_count": 3,
     "metadata": {},
     "output_type": "execute_result"
    }
   ],
   "source": [
    "x = 8\n",
    "mySqrt(x)"
   ]
  },
  {
   "cell_type": "code",
   "execution_count": 4,
   "metadata": {},
   "outputs": [
    {
     "data": {
      "text/plain": [
       "3"
      ]
     },
     "execution_count": 4,
     "metadata": {},
     "output_type": "execute_result"
    }
   ],
   "source": [
    "x = 10\n",
    "mySqrt(x)"
   ]
  },
  {
   "attachments": {},
   "cell_type": "markdown",
   "metadata": {},
   "source": [
    "2"
   ]
  },
  {
   "cell_type": "code",
   "execution_count": 5,
   "metadata": {},
   "outputs": [
    {
     "data": {
      "text/plain": [
       "(2, 1)"
      ]
     },
     "execution_count": 5,
     "metadata": {},
     "output_type": "execute_result"
    }
   ],
   "source": [
    "def peak(nums):\n",
    "    if len(nums) == 0:\n",
    "        return []  # Return an empty list if nums is empty\n",
    "    \n",
    "    n = len(nums)\n",
    "    left, right = 0, n\n",
    "    while left < right:\n",
    "        mid = (left + right) // 2  # Calculate the midpoint of the current range\n",
    "        if nums[mid] > nums[mid - 1] and nums[mid] > nums[mid + 1]:  # Check if nums[mid] is a peak element\n",
    "            return (nums[mid], mid)  # Return the peak element and its index\n",
    "        \n",
    "        elif nums[mid] < nums[mid - 1] or nums[mid] > nums[mid + 1]:  # Check the direction of the slope\n",
    "            left = mid + 1  # Move the left boundary to mid + 1\n",
    "            \n",
    "        else:\n",
    "            right = mid - 1  # Move the right boundary to mid - 1\n",
    "    \n",
    "    return right  # Return the right boundary if no peak element is found\n",
    "\n",
    "\n",
    "nums =[1,2,1,3,5,6,4]\n",
    "peak(nums)\n",
    "\n",
    "            \n",
    "        "
   ]
  },
  {
   "cell_type": "code",
   "execution_count": 6,
   "metadata": {},
   "outputs": [
    {
     "data": {
      "text/plain": [
       "(3, 2)"
      ]
     },
     "execution_count": 6,
     "metadata": {},
     "output_type": "execute_result"
    }
   ],
   "source": [
    "nums = [1,2,3,1]\n",
    "peak(nums)"
   ]
  },
  {
   "cell_type": "code",
   "execution_count": 7,
   "metadata": {},
   "outputs": [
    {
     "data": {
      "text/plain": [
       "[]"
      ]
     },
     "execution_count": 7,
     "metadata": {},
     "output_type": "execute_result"
    }
   ],
   "source": [
    "nums = []\n",
    "peak(nums)"
   ]
  },
  {
   "attachments": {},
   "cell_type": "markdown",
   "metadata": {},
   "source": [
    "4"
   ]
  },
  {
   "cell_type": "code",
   "execution_count": 8,
   "metadata": {},
   "outputs": [
    {
     "data": {
      "text/plain": [
       "3"
      ]
     },
     "execution_count": 8,
     "metadata": {},
     "output_type": "execute_result"
    }
   ],
   "source": [
    "def repeated(nums):\n",
    "    if len(nums) == 0:\n",
    "        return []  # Return an empty list if nums is empty\n",
    "    \n",
    "    n = len(nums)\n",
    "    left, right = 1, n - 1  # Initialize the left and right boundaries\n",
    "    \n",
    "    while left < right:\n",
    "        mid = (left + right) // 2  # Calculate the midpoint of the current range\n",
    "        \n",
    "        count = 0\n",
    "        for num in nums:\n",
    "            if num <= mid:\n",
    "                count += 1  # Count the number of elements less than or equal to mid\n",
    "        \n",
    "        if count > mid:\n",
    "            right = mid  # If the count is greater than mid, the repeated number is in the left half\n",
    "        else:\n",
    "            left = mid + 1  # If the count is less than or equal to mid, the repeated number is in the right half\n",
    "    \n",
    "    return left  # Return the left boundary as the repeated number\n",
    "\n",
    "\n",
    "\n",
    "nums = [3,1,3,4,2]\n",
    "repeated(nums)\n"
   ]
  },
  {
   "cell_type": "code",
   "execution_count": 9,
   "metadata": {},
   "outputs": [
    {
     "data": {
      "text/plain": [
       "2"
      ]
     },
     "execution_count": 9,
     "metadata": {},
     "output_type": "execute_result"
    }
   ],
   "source": [
    "nums = [1,3,4,2,2]\n",
    "repeated(nums)"
   ]
  },
  {
   "attachments": {},
   "cell_type": "markdown",
   "metadata": {},
   "source": [
    "3"
   ]
  },
  {
   "cell_type": "code",
   "execution_count": 10,
   "metadata": {},
   "outputs": [],
   "source": [
    "def missing(nums):\n",
    "    nums.sort()  # Sort the nums list in ascending order\n",
    "    n = len(nums)\n",
    "    left, right = 0, n\n",
    "    while left <= right:\n",
    "        mid = (left + right) // 2  # Calculate the midpoint of the current range\n",
    "\n",
    "        if nums[mid] == mid:\n",
    "            left = mid + 1  # If the element at nums[mid] is equal to mid, the missing number is on the right side\n",
    "        else:\n",
    "            right = mid - 1  # If the element at nums[mid] is not equal to mid, the missing number is on the left side\n",
    "\n",
    "    return left  # Return the left boundary as the missing number\n",
    "\n",
    "           \n",
    "        \n",
    "        \n",
    "    "
   ]
  },
  {
   "cell_type": "code",
   "execution_count": 11,
   "metadata": {},
   "outputs": [
    {
     "data": {
      "text/plain": [
       "2"
      ]
     },
     "execution_count": 11,
     "metadata": {},
     "output_type": "execute_result"
    }
   ],
   "source": [
    " nums = [3,0,1]\n",
    " missing(nums)"
   ]
  },
  {
   "cell_type": "code",
   "execution_count": 12,
   "metadata": {},
   "outputs": [
    {
     "data": {
      "text/plain": [
       "8"
      ]
     },
     "execution_count": 12,
     "metadata": {},
     "output_type": "execute_result"
    }
   ],
   "source": [
    "nums = [9, 6, 4, 2, 3, 5, 7, 0, 1]\n",
    "missing(nums)\n",
    "\n"
   ]
  },
  {
   "attachments": {},
   "cell_type": "markdown",
   "metadata": {},
   "source": [
    "7"
   ]
  },
  {
   "cell_type": "code",
   "execution_count": 13,
   "metadata": {},
   "outputs": [
    {
     "data": {
      "text/plain": [
       "(3, 4)"
      ]
     },
     "execution_count": 13,
     "metadata": {},
     "output_type": "execute_result"
    }
   ],
   "source": [
    "def targets(nums, target):\n",
    "    n = len(nums)\n",
    "    \n",
    "    if n == 0:\n",
    "        return []  # Return an empty list if nums is empty\n",
    "    \n",
    "    left, right = 0, n\n",
    "    while left < right:\n",
    "        mid = (left + right) // 2  # Calculate the midpoint of the current range\n",
    "        \n",
    "        if nums[mid] == target and nums[mid + 1] == target:  # Check if nums[mid] and nums[mid + 1] are equal to target\n",
    "            left = mid + 1  # Move the left boundary to mid + 1\n",
    "            return (mid, mid + 1)  # Return the indices of the target values\n",
    "        \n",
    "        else:\n",
    "            right = mid - 1  # Move the right boundary to mid - 1\n",
    "            \n",
    "    return [-1, -1]  # Return [-1, -1] if no target values are found\n",
    "\n",
    "nums = [5,7,7,8,8,10]\n",
    "target = 8\n",
    "targets(nums, target)\n"
   ]
  },
  {
   "cell_type": "code",
   "execution_count": 14,
   "metadata": {},
   "outputs": [
    {
     "data": {
      "text/plain": [
       "(1, 2)"
      ]
     },
     "execution_count": 14,
     "metadata": {},
     "output_type": "execute_result"
    }
   ],
   "source": [
    "nums = [5,7,7,8,8,10]\n",
    "target = 7\n",
    "targets(nums,target)"
   ]
  },
  {
   "cell_type": "code",
   "execution_count": 15,
   "metadata": {},
   "outputs": [
    {
     "data": {
      "text/plain": [
       "[]"
      ]
     },
     "execution_count": 15,
     "metadata": {},
     "output_type": "execute_result"
    }
   ],
   "source": [
    "nums = []\n",
    "targets(nums,target)"
   ]
  },
  {
   "cell_type": "code",
   "execution_count": 16,
   "metadata": {},
   "outputs": [
    {
     "data": {
      "text/plain": [
       "[-1, -1]"
      ]
     },
     "execution_count": 16,
     "metadata": {},
     "output_type": "execute_result"
    }
   ],
   "source": [
    "nums = [5,7,7,8,8,10]\n",
    "target = 6\n",
    "targets(nums,target)"
   ]
  },
  {
   "attachments": {},
   "cell_type": "markdown",
   "metadata": {},
   "source": [
    "5,  8"
   ]
  },
  {
   "cell_type": "code",
   "execution_count": 17,
   "metadata": {},
   "outputs": [],
   "source": [
    "def intersection(nums1, nums2):\n",
    "    # Helper function for binary search\n",
    "    def binary_search(nums, target):\n",
    "        left, right = 0, len(nums) - 1\n",
    "        while left <= right:\n",
    "            mid = (left + right) // 2\n",
    "            if nums[mid] == target:\n",
    "                return True\n",
    "            elif nums[mid] < target:\n",
    "                left = mid + 1\n",
    "            else:\n",
    "                right = mid - 1\n",
    "        return False\n",
    "\n",
    "    # Sort both arrays in non-decreasing order\n",
    "    nums1.sort()\n",
    "    nums2.sort()\n",
    "    \n",
    "    intersection = []\n",
    "    for num in nums1:\n",
    "        # Perform binary search on nums2 to check if num is present\n",
    "        if binary_search(nums2, num):\n",
    "            intersection.append(num)\n",
    "    \n",
    "    return intersection\n",
    "\n"
   ]
  },
  {
   "cell_type": "code",
   "execution_count": 18,
   "metadata": {},
   "outputs": [
    {
     "data": {
      "text/plain": [
       "[2, 2]"
      ]
     },
     "execution_count": 18,
     "metadata": {},
     "output_type": "execute_result"
    }
   ],
   "source": [
    "nums1 = [1,2,2,1]\n",
    "nums2 = [2,2]\n",
    "intersection(nums1, nums2)"
   ]
  },
  {
   "cell_type": "code",
   "execution_count": 19,
   "metadata": {},
   "outputs": [
    {
     "data": {
      "text/plain": [
       "[4, 9]"
      ]
     },
     "execution_count": 19,
     "metadata": {},
     "output_type": "execute_result"
    }
   ],
   "source": [
    "nums1 = [4,9,5]\n",
    "nums2 =  [9,4,9,8,4]\n",
    "intersection(nums1, nums2)"
   ]
  },
  {
   "cell_type": "code",
   "execution_count": 20,
   "metadata": {},
   "outputs": [],
   "source": [
    "def findmin(nums):\n",
    "    if len(nums) == 0:\n",
    "        return []\n",
    "\n",
    "    left, right = 0, len(nums) - 1\n",
    "    while left < right:\n",
    "        mid = (left + right) // 2\n",
    "        if nums[mid] > nums[right]:\n",
    "            left = mid + 1\n",
    "        else:\n",
    "            right = mid\n",
    "            # Found a potential minimum element, update the right pointer to mid\n",
    "\n",
    "    # At the end of the loop, left and right will be pointing to the minimum element\n",
    "    # Return nums[left] or nums[right] as the minimum element\n",
    "    return nums[left]  # or return nums[right]\n",
    "\n",
    "    \n",
    "    \n",
    "    "
   ]
  },
  {
   "cell_type": "code",
   "execution_count": 21,
   "metadata": {},
   "outputs": [
    {
     "data": {
      "text/plain": [
       "1"
      ]
     },
     "execution_count": 21,
     "metadata": {},
     "output_type": "execute_result"
    }
   ],
   "source": [
    "nums = [3,4,5,1,2]\n",
    "findmin(nums)"
   ]
  },
  {
   "cell_type": "code",
   "execution_count": 22,
   "metadata": {},
   "outputs": [
    {
     "data": {
      "text/plain": [
       "0"
      ]
     },
     "execution_count": 22,
     "metadata": {},
     "output_type": "execute_result"
    }
   ],
   "source": [
    " nums = [4,5,6,7,0,1,2]\n",
    " findmin(nums)"
   ]
  },
  {
   "cell_type": "code",
   "execution_count": 23,
   "metadata": {},
   "outputs": [
    {
     "data": {
      "text/plain": [
       "11"
      ]
     },
     "execution_count": 23,
     "metadata": {},
     "output_type": "execute_result"
    }
   ],
   "source": [
    "nums = [11,13,15,17]\n",
    "findmin(nums)"
   ]
  }
 ],
 "metadata": {
  "kernelspec": {
   "display_name": "Python 3",
   "language": "python",
   "name": "python3"
  },
  "language_info": {
   "codemirror_mode": {
    "name": "ipython",
    "version": 3
   },
   "file_extension": ".py",
   "mimetype": "text/x-python",
   "name": "python",
   "nbconvert_exporter": "python",
   "pygments_lexer": "ipython3",
   "version": "3.11.2"
  },
  "orig_nbformat": 4
 },
 "nbformat": 4,
 "nbformat_minor": 2
}
