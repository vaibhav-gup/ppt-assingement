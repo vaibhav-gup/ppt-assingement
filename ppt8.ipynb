{
 "cells": [
  {
   "cell_type": "code",
   "execution_count": 1,
   "metadata": {},
   "outputs": [],
   "source": [
    "def minimumDeleteSum(s1, s2):\n",
    "    m, n = len(s1), len(s2)\n",
    "    dp = [[0] * (n + 1) for _ in range(m + 1)]\n",
    "\n",
    "    # Initialize the first row of dp\n",
    "    for i in range(1, m + 1):\n",
    "        dp[i][0] = dp[i-1][0] + ord(s1[i-1])\n",
    "\n",
    "    # Initialize the first column of dp\n",
    "    for j in range(1, n + 1):\n",
    "        dp[0][j] = dp[0][j-1] + ord(s2[j-1])\n",
    "\n",
    "    # Fill in the remaining cells of dp\n",
    "    for i in range(1, m + 1):\n",
    "        for j in range(1, n + 1):\n",
    "            if s1[i-1] == s2[j-1]:\n",
    "                # Characters are equal, no deletion required\n",
    "                dp[i][j] = dp[i-1][j-1]\n",
    "            else:\n",
    "                # Characters are different, consider deletion scenarios\n",
    "                dp[i][j] = min(dp[i-1][j] + ord(s1[i-1]), dp[i][j-1] + ord(s2[j-1]))\n",
    "\n",
    "    return dp[m][n]\n",
    "\n",
    "# time complexity of O(m * n) and a space complexity of O(m * n)\n"
   ]
  },
  {
   "cell_type": "code",
   "execution_count": 2,
   "metadata": {},
   "outputs": [
    {
     "data": {
      "text/plain": [
       "231"
      ]
     },
     "execution_count": 2,
     "metadata": {},
     "output_type": "execute_result"
    }
   ],
   "source": [
    "s1 = \"sea\"\n",
    "s2 = \"eat\"\n",
    "minimumDeleteSum(s1, s2)"
   ]
  },
  {
   "cell_type": "code",
   "execution_count": 3,
   "metadata": {},
   "outputs": [],
   "source": [
    "def checkValidString(s):\n",
    "    open_stack = []\n",
    "    star_stack = []\n",
    "\n",
    "    for i, char in enumerate(s):\n",
    "        if char == '(':\n",
    "            open_stack.append(i)\n",
    "        elif char == '*':\n",
    "            star_stack.append(i)\n",
    "        else:\n",
    "            if open_stack:\n",
    "                open_stack.pop()\n",
    "            elif star_stack:\n",
    "                star_stack.pop()\n",
    "            else:\n",
    "                return False\n",
    "\n",
    "    # Matching remaining open parentheses with stars\n",
    "    while open_stack and star_stack:\n",
    "        if open_stack[-1] < star_stack[-1]:\n",
    "            open_stack.pop()\n",
    "            star_stack.pop()\n",
    "        else:\n",
    "            break\n",
    "\n",
    "    return len(open_stack) == 0\n",
    "\n",
    "#time complexity of this solution is O(n), space complexity is also O(n)\n"
   ]
  },
  {
   "cell_type": "code",
   "execution_count": 4,
   "metadata": {},
   "outputs": [
    {
     "data": {
      "text/plain": [
       "True"
      ]
     },
     "execution_count": 4,
     "metadata": {},
     "output_type": "execute_result"
    }
   ],
   "source": [
    "s = \"()\"\n",
    "checkValidString(s)"
   ]
  },
  {
   "cell_type": "code",
   "execution_count": 8,
   "metadata": {},
   "outputs": [],
   "source": [
    "class TreeNode:\n",
    "    def __init__(self, val=0, left=None, right=None):\n",
    "        self.val = val\n",
    "        self.left = left\n",
    "        self.right = right\n",
    "\n",
    "\n",
    "def str2tree(s):\n",
    "    if not s:\n",
    "        return None\n",
    "\n",
    "    # Find the index of the first '(' character\n",
    "    idx = s.find('(')\n",
    "\n",
    "    if idx == -1:\n",
    "        # No '(' character found, so the entire string is the value of the current node\n",
    "        return TreeNode(int(s))\n",
    "\n",
    "    # The value of the current node is from the beginning of the string until the '(' character\n",
    "    val = int(s[:idx])\n",
    "    \n",
    "    # Find the position of the corresponding ')' character\n",
    "    count = 0\n",
    "    for i in range(idx, len(s)):\n",
    "        if s[i] == '(':\n",
    "            count += 1\n",
    "        elif s[i] == ')':\n",
    "            count -= 1\n",
    "\n",
    "        if count == 0:\n",
    "            # Split the remaining string into left and right subtrees\n",
    "            left_str = s[idx+1:i]\n",
    "            right_str = s[i+2:len(s)-1]\n",
    "\n",
    "            # Recursively construct the left and right subtrees\n",
    "            left = str2tree(left_str)\n",
    "            right = str2tree(right_str)\n",
    "\n",
    "            # Create the current node with the extracted value and constructed subtrees\n",
    "            return TreeNode(val, left, right)\n",
    "\n",
    "    # If the loop finishes without finding the corresponding ')', return None\n",
    "    return None\n",
    "\n",
    "# time complexity of this solution is O(n), space complexity is O(n)\n"
   ]
  },
  {
   "cell_type": "code",
   "execution_count": 9,
   "metadata": {},
   "outputs": [
    {
     "data": {
      "text/plain": [
       "<__main__.TreeNode at 0x2294aebb110>"
      ]
     },
     "execution_count": 9,
     "metadata": {},
     "output_type": "execute_result"
    }
   ],
   "source": [
    "s = \"4(2(3)(1))(6(5))\"\n",
    "str2tree(s)"
   ]
  },
  {
   "cell_type": "code",
   "execution_count": 10,
   "metadata": {},
   "outputs": [],
   "source": [
    "def compress(chars):\n",
    "    n = len(chars)\n",
    "    compressed_pos = 0  # Pointer to track the position where compressed characters should be placed\n",
    "    current_char = chars[0]  # Current character being processed\n",
    "    count = 1  # Count of consecutive repeating characters\n",
    "\n",
    "    for i in range(1, n):\n",
    "        if chars[i] == current_char:\n",
    "            count += 1\n",
    "        else:\n",
    "            chars[compressed_pos] = current_char\n",
    "            compressed_pos += 1\n",
    "\n",
    "            if count > 1:\n",
    "                count_str = str(count)\n",
    "                for j in range(len(count_str)):\n",
    "                    chars[compressed_pos] = count_str[j]\n",
    "                    compressed_pos += 1\n",
    "\n",
    "            current_char = chars[i]\n",
    "            count = 1\n",
    "\n",
    "    chars[compressed_pos] = current_char\n",
    "    compressed_pos += 1\n",
    "\n",
    "    if count > 1:\n",
    "        count_str = str(count)\n",
    "        for j in range(len(count_str)):\n",
    "            chars[compressed_pos] = count_str[j]\n",
    "            compressed_pos += 1\n",
    "\n",
    "    return compressed_pos\n",
    "#time complexity of this solution is O(n),space complexity is O(1) "
   ]
  },
  {
   "cell_type": "code",
   "execution_count": 11,
   "metadata": {},
   "outputs": [
    {
     "data": {
      "text/plain": [
       "6"
      ]
     },
     "execution_count": 11,
     "metadata": {},
     "output_type": "execute_result"
    }
   ],
   "source": [
    "chars = [\"a\",\"a\",\"b\",\"b\",\"c\",\"c\",\"c\"]\n",
    "compress(chars)"
   ]
  },
  {
   "cell_type": "code",
   "execution_count": 12,
   "metadata": {},
   "outputs": [],
   "source": [
    "from collections import Counter\n",
    "\n",
    "def find_anagrams(s, p):\n",
    "    result = []\n",
    "    len_s, len_p = len(s), len(p)\n",
    "\n",
    "    # Create frequency maps for pattern and initial window in string s\n",
    "    pattern_freq = Counter(p)\n",
    "    window_freq = Counter(s[:len_p])\n",
    "\n",
    "    # Compare the initial window with the pattern\n",
    "    if window_freq == pattern_freq:\n",
    "        result.append(0)\n",
    "\n",
    "    # Slide the window through the string s\n",
    "    for i in range(len_p, len_s):\n",
    "        # Add the new character to the window frequency map\n",
    "        window_freq[s[i]] += 1\n",
    "\n",
    "        # Remove the leftmost character from the window frequency map\n",
    "        window_freq[s[i - len_p]] -= 1\n",
    "        if window_freq[s[i - len_p]] == 0:\n",
    "            del window_freq[s[i - len_p]]\n",
    "\n",
    "        # Compare the window with the pattern\n",
    "        if window_freq == pattern_freq:\n",
    "            result.append(i - len_p + 1)\n",
    "\n",
    "    return result\n",
    "\n",
    "#time complexity of this solution is O(n), space complexity is O(1)"
   ]
  },
  {
   "cell_type": "code",
   "execution_count": 13,
   "metadata": {},
   "outputs": [
    {
     "data": {
      "text/plain": [
       "[0, 6]"
      ]
     },
     "execution_count": 13,
     "metadata": {},
     "output_type": "execute_result"
    }
   ],
   "source": [
    "s = \"cbaebabacd\"\n",
    "p = \"abc\"\n",
    "find_anagrams(s, p)"
   ]
  },
  {
   "cell_type": "code",
   "execution_count": 14,
   "metadata": {},
   "outputs": [],
   "source": [
    "def decode_string(s):\n",
    "    stack = []                 # Stack to store the count and decoded string\n",
    "    current_count = 0          # Current count of the repeat number\n",
    "    current_string = \"\"        # Current decoded string\n",
    "\n",
    "    for char in s:\n",
    "        if char.isdigit():                    # If the character is a digit\n",
    "            current_count = current_count * 10 + int(char)  # Update the count\n",
    "        elif char == '[':                    # If the character is an opening square bracket\n",
    "            stack.append((current_count, current_string))  # Push the count and decoded string onto the stack\n",
    "            current_count = 0                 # Reset the count\n",
    "            current_string = \"\"               # Reset the decoded string\n",
    "        elif char == ']':                    # If the character is a closing square bracket\n",
    "            count, prev_string = stack.pop()  # Pop the previous count and decoded string from the stack\n",
    "            current_string = prev_string + current_string * count  # Repeat the decoded string and append to the previous string\n",
    "        else:                               # If the character is a letter\n",
    "            current_string += char           # Append it to the current decoded string\n",
    "\n",
    "    return current_string\n",
    "\n",
    "#time complexity of this solution is O(n),space complexity is O(m) \n"
   ]
  },
  {
   "cell_type": "code",
   "execution_count": 15,
   "metadata": {},
   "outputs": [
    {
     "data": {
      "text/plain": [
       "'aaabcbc'"
      ]
     },
     "execution_count": 15,
     "metadata": {},
     "output_type": "execute_result"
    }
   ],
   "source": [
    "s = \"3[a]2[bc]\"\n",
    "decode_string(s)"
   ]
  },
  {
   "cell_type": "code",
   "execution_count": 16,
   "metadata": {},
   "outputs": [],
   "source": [
    "def buddy_strings(s, goal):\n",
    "    if len(s) != len(goal):\n",
    "        return False\n",
    "\n",
    "    if s == goal:\n",
    "        # Check if s has any duplicate characters\n",
    "        seen = set()\n",
    "        for char in s:\n",
    "            if char in seen:\n",
    "                return True\n",
    "            seen.add(char)\n",
    "        return False\n",
    "\n",
    "    # Find the differing indices\n",
    "    indices = []\n",
    "    for i in range(len(s)):\n",
    "        if s[i] != goal[i]:\n",
    "            indices.append(i)\n",
    "\n",
    "    if len(indices) != 2:\n",
    "        return False\n",
    "\n",
    "    # Swap the characters at the differing indices\n",
    "    s = list(s)\n",
    "    s[indices[0]], s[indices[1]] = s[indices[1]], s[indices[0]]\n",
    "    s = \"\".join(s)\n",
    "\n",
    "    return s == goal\n",
    "\n",
    "\n",
    "#time complexity of this solution is O(n), space complexity is O(1)"
   ]
  },
  {
   "cell_type": "code",
   "execution_count": 17,
   "metadata": {},
   "outputs": [
    {
     "name": "stdout",
     "output_type": "stream",
     "text": [
      "True\n",
      "False\n",
      "True\n",
      "True\n",
      "False\n"
     ]
    }
   ],
   "source": [
    "s = \"ab\"\n",
    "goal = \"ba\"\n",
    "print(buddy_strings(s, goal))  # Output: True\n",
    "\n",
    "s = \"ab\"\n",
    "goal = \"ab\"\n",
    "print(buddy_strings(s, goal))  # Output: False\n",
    "\n",
    "s = \"aaaaaaabc\"\n",
    "goal = \"aaaaaaacb\"\n",
    "print(buddy_strings(s, goal))  # Output: True\n",
    "\n",
    "s = \"abcd\"\n",
    "goal = \"cbad\"\n",
    "print(buddy_strings(s, goal))  # Output: True\n",
    "\n",
    "s = \"abcd\"\n",
    "goal = \"abcd\"\n",
    "print(buddy_strings(s, goal))  # Output: False\n"
   ]
  },
  {
   "cell_type": "code",
   "execution_count": null,
   "metadata": {},
   "outputs": [],
   "source": []
  }
 ],
 "metadata": {
  "kernelspec": {
   "display_name": "Python 3",
   "language": "python",
   "name": "python3"
  },
  "language_info": {
   "codemirror_mode": {
    "name": "ipython",
    "version": 3
   },
   "file_extension": ".py",
   "mimetype": "text/x-python",
   "name": "python",
   "nbconvert_exporter": "python",
   "pygments_lexer": "ipython3",
   "version": "3.11.2"
  },
  "orig_nbformat": 4
 },
 "nbformat": 4,
 "nbformat_minor": 2
}
