{
 "cells": [
  {
   "cell_type": "code",
   "execution_count": 41,
   "metadata": {},
   "outputs": [
    {
     "name": "stdout",
     "output_type": "stream",
     "text": [
      "[2, 3, 8]\n"
     ]
    }
   ],
   "source": [
    "1\n",
    "def commonElements(arr1, arr2, arr3):\n",
    "    # Convert the arrays to sets\n",
    "    set1 = set(arr1)\n",
    "    set2 = set(arr2)\n",
    "    set3 = set(arr3)\n",
    "    \n",
    "    # Create an empty list to store the common elements\n",
    "    result = []\n",
    "    \n",
    "    # Iterate over the elements in the first set\n",
    "    for i in set1:\n",
    "        # Check if the element is present in both set2 and set3\n",
    "        if i in set2 and i in set3:\n",
    "            # If it is, add it to the result list\n",
    "            result.append(i)\n",
    "    \n",
    "    # Return the list of common elements\n",
    "    return result\n",
    "\n",
    "# time complexity of O(n)\n",
    "#space complexity :O(n)\n",
    "\n",
    "\n",
    "arr1 = [7, 3, 8, 2, 7, 4, 8]\n",
    "arr2 = [3, 2, 7, 3, 2, 8, 9]\n",
    "arr3 = [9, 2, 8, 3, 6, 8, 1]\n",
    "\n",
    "result = commonElements(arr1, arr2, arr3)\n",
    "print(result)  \n",
    "\n",
    "\n",
    "    \n",
    "    "
   ]
  },
  {
   "cell_type": "code",
   "execution_count": 42,
   "metadata": {},
   "outputs": [
    {
     "name": "stdout",
     "output_type": "stream",
     "text": [
      "([7, 8, 19], [67])\n"
     ]
    },
    {
     "data": {
      "text/plain": [
       "([7, 8, 19], [67])"
      ]
     },
     "execution_count": 42,
     "metadata": {},
     "output_type": "execute_result"
    }
   ],
   "source": [
    "2\n",
    "def indexed(num1, num2):\n",
    "    num1.sort()\n",
    "    num2.sort()\n",
    "    result1 = []  # List to store distinct integers from num1 not present in num2\n",
    "    result2 = []  # List to store distinct integers from num2 not present in num1\n",
    "\n",
    "    for i in num1:\n",
    "        if i not in num2:\n",
    "            result1.append(i)  # Append distinct integers from num1 to result1\n",
    "\n",
    "    for i in num2:\n",
    "        if i not in num1:\n",
    "            result2.append(i)  # Append distinct integers from num2 to result2\n",
    "\n",
    "    return (result1, result2)\n",
    "\n",
    "num1 = [0, 12, 3, 45, 6, 7, 8, 9, 0, 4, 6, 54, 19]\n",
    "num2 = [3, 12, 45, 54, 67, 9, 0, 4, 6, 3]\n",
    "\n",
    "output = indexed(num1, num2)\n",
    "print(output)\n",
    "([7, 8, 19], [67])\n",
    "\n",
    "#time complexity :O(m*n)\n",
    "#space complexity :O(m+n)\n",
    "            \n",
    "            \n",
    "    "
   ]
  },
  {
   "cell_type": "code",
   "execution_count": 43,
   "metadata": {},
   "outputs": [],
   "source": [
    "3\n",
    "def transpose(arr):\n",
    "    # Get the number of rows and columns in the array\n",
    "    row = len(arr)\n",
    "    col = len(arr[0])\n",
    "\n",
    "    # Create a new transposed array with dimensions flipped\n",
    "    transpose = [[0 for j in range(row)] for i in range(col)]\n",
    "\n",
    "    # Iterate over the original array and fill the transposed array\n",
    "    for i in range(row):\n",
    "        for j in range(col):\n",
    "            transpose[j][i] = arr[i][j]\n",
    "\n",
    "    return transpose\n",
    "\n",
    "\n",
    "#time complexity :o(n*m)\n",
    "#space complexity:O(n+m)"
   ]
  },
  {
   "cell_type": "code",
   "execution_count": 44,
   "metadata": {},
   "outputs": [
    {
     "data": {
      "text/plain": [
       "[[1, 2, 3], [4, 5, 6], [7, 8, 9]]"
      ]
     },
     "execution_count": 44,
     "metadata": {},
     "output_type": "execute_result"
    }
   ],
   "source": [
    "arr=[[1, 4, 7], [2, 5, 8], [3, 6, 9]]\n",
    "transpose(arr)"
   ]
  },
  {
   "cell_type": "code",
   "execution_count": 39,
   "metadata": {},
   "outputs": [],
   "source": [
    "5\n",
    "def pattern(n):\n",
    "    # Outer loop to iterate through rows\n",
    "    for i in range(n):\n",
    "        # Inner loop to print the desired pattern for each row\n",
    "        for j in range(i+1):\n",
    "            # Print the \"$\" character without a newline\n",
    "            print(\"$\", end=\"\")\n",
    "        \n",
    "        # Print a newline to move to the next row\n",
    "        print()\n",
    " \n",
    " #time complexit:O(n^2)\n",
    " #space complexityO(1)\n",
    " "
   ]
  },
  {
   "cell_type": "code",
   "execution_count": 40,
   "metadata": {},
   "outputs": [
    {
     "name": "stdout",
     "output_type": "stream",
     "text": [
      "$\n",
      "$$\n",
      "$$$\n",
      "$$$$\n",
      "$$$$$\n",
      "$$$$$$\n"
     ]
    }
   ],
   "source": [
    "pattern(6)"
   ]
  },
  {
   "attachments": {},
   "cell_type": "markdown",
   "metadata": {},
   "source": []
  },
  {
   "cell_type": "code",
   "execution_count": 2,
   "metadata": {},
   "outputs": [
    {
     "name": "stdout",
     "output_type": "stream",
     "text": [
      "[0, 4, 4, 16, 16]\n"
     ]
    }
   ],
   "source": [
    "6\n",
    "def square(arr):\n",
    "    b = []#It initializes an empty list b.\n",
    "    for num in arr:#t iterates over each element num in the input list arr.\n",
    "        #t iterates over each element num in the input list arr.\n",
    "        b.append(num ** 2)\n",
    "        \n",
    "    b.sort()#Finally, the sorted list b is returned as the output of the function.\n",
    "  \n",
    "    return b\n",
    "\n",
    "# Example usage\n",
    "arr = [-4, -2, 0, 2, 4]\n",
    "result = square(arr)\n",
    "print(result)  \n",
    "\n",
    "#time complexity :O(n)\n",
    "#space complexity :O(n)\n"
   ]
  },
  {
   "cell_type": "code",
   "execution_count": 14,
   "metadata": {},
   "outputs": [],
   "source": [
    "8\n",
    "def half(nums,n):\n",
    "    x=nums[:n]\n",
    "    y=nums[n:]\n",
    "    result=[]\n",
    "    \n",
    "    for i in range(n):\n",
    "        result.append(x[i])\n",
    "        result.append(y[i])\n",
    "        \n",
    "    return result\n",
    "\n",
    "#time complexity :O(n)\n",
    "#space complexiy :(x+y)\n",
    "    "
   ]
  },
  {
   "cell_type": "code",
   "execution_count": 17,
   "metadata": {},
   "outputs": [
    {
     "name": "stdout",
     "output_type": "stream",
     "text": [
      "[2, 3, 5, 4, 1, 7]\n"
     ]
    }
   ],
   "source": [
    "nums = [2, 5, 1, 3, 4, 7]\n",
    "n = 3\n",
    "output = half(nums, n)\n",
    "print(output)"
   ]
  },
  {
   "cell_type": "code",
   "execution_count": 31,
   "metadata": {},
   "outputs": [],
   "source": [
    "def pair(arr):\n",
    "    n = len(arr)\n",
    "    s = 0  # Variable to store the sum\n",
    "    c = 0  # Variable to count the number of pairs\n",
    "    \n",
    "    for i in range(n-1):\n",
    "        for j in range(i+1, n):\n",
    "            print(\"(\", arr[i], \", \", arr[j], \")\", sep=\"\")\n",
    "            s += min(arr[i], arr[j]) + min(arr[i+1], arr[j+1])  # Calculate the sum of minimum values\n",
    "            c += 1  # Increment the pair count\n",
    "    \n",
    "    return s, c\n",
    "\n",
    "  #Time complexity :O(n)\n",
    "    #space compleity:O(1)\n",
    "\n",
    "        \n",
    "    "
   ]
  },
  {
   "attachments": {},
   "cell_type": "markdown",
   "metadata": {},
   "source": [
    "arr = [2, 5, 1, 3, 4, 7]\n",
    "\n",
    "pair(arr)\n",
    "\n",
    "(2, 5)\n",
    "(2, 1)\n",
    "(2, 3)\n",
    "(2, 4)\n",
    "(2, 7)\n",
    "(5, 1)\n",
    "(5, 3)\n",
    "(5, 4)\n",
    "(5, 7)\n",
    "(1, 3)\n",
    "(1, 4)\n",
    "(1, 7)\n",
    "(3, 4)\n",
    "(3, 7)\n",
    "(4, 7)\n",
    "Sum: 36\n",
    "Count: 15\n",
    "\n",
    "\n"
   ]
  },
  {
   "attachments": {},
   "cell_type": "markdown",
   "metadata": {},
   "source": []
  },
  {
   "cell_type": "code",
   "execution_count": null,
   "metadata": {},
   "outputs": [],
   "source": []
  }
 ],
 "metadata": {
  "kernelspec": {
   "display_name": "Python 3",
   "language": "python",
   "name": "python3"
  },
  "language_info": {
   "codemirror_mode": {
    "name": "ipython",
    "version": 3
   },
   "file_extension": ".py",
   "mimetype": "text/x-python",
   "name": "python",
   "nbconvert_exporter": "python",
   "pygments_lexer": "ipython3",
   "version": "3.11.2"
  },
  "orig_nbformat": 4
 },
 "nbformat": 4,
 "nbformat_minor": 2
}
