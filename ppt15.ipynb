{
 "cells": [
  {
   "cell_type": "code",
   "execution_count": 44,
   "metadata": {},
   "outputs": [
    {
     "data": {
      "text/plain": [
       "[3, 4, 4, -1]"
      ]
     },
     "execution_count": 44,
     "metadata": {},
     "output_type": "execute_result"
    }
   ],
   "source": [
    "def next_greater(arr):\n",
    "    n = len(arr)\n",
    "    result = [-1] * n  # Initialize the result array with -1\n",
    "    stack = []  # Initialize an empty stack\n",
    "\n",
    "    for i in range(n):\n",
    "        # Check if the current element is greater than the elements at the top of the stack\n",
    "        while stack and arr[i] > arr[stack[-1]]:\n",
    "            index = stack.pop()  # Retrieve the index of the top element from the stack\n",
    "            result[index] = arr[i]  # Update the result array at the retrieved index\n",
    "\n",
    "        stack.append(i)  # Push the current index onto the stack\n",
    "\n",
    "    return result\n",
    "\n",
    "arr=[1,3,2,4]\n",
    "next_greater(arr)\n"
   ]
  },
  {
   "cell_type": "code",
   "execution_count": 43,
   "metadata": {},
   "outputs": [
    {
     "data": {
      "text/plain": [
       "[8, -1, 1, 3, -1]"
      ]
     },
     "execution_count": 43,
     "metadata": {},
     "output_type": "execute_result"
    }
   ],
   "source": [
    "\n",
    "arr=[6, 8, 0, 1, 3]\n",
    "next_greater(arr)"
   ]
  },
  {
   "cell_type": "code",
   "execution_count": 48,
   "metadata": {},
   "outputs": [],
   "source": [
    "def next_smaller(arr):\n",
    "    n=len(arr)\n",
    "    result=[-1]*n # Initialize the result array with -1\n",
    "    st=[] # Initialize an empty stack\n",
    "    for i in range (n):\n",
    "        # Check if the current element is smaller than the elements at the top of the stack\n",
    "        while (st and arr[i]<arr[st[-1]]):\n",
    "            index=st.pop()\n",
    "            result[index]=arr[i]\n",
    "        st.append(i) # Push the current index onto the stack\n",
    "    return result\n",
    "    "
   ]
  },
  {
   "cell_type": "code",
   "execution_count": 49,
   "metadata": {},
   "outputs": [
    {
     "data": {
      "text/plain": [
       "[-1, 2, -1]"
      ]
     },
     "execution_count": 49,
     "metadata": {},
     "output_type": "execute_result"
    }
   ],
   "source": [
    "arr=[1, 6, 2]\n",
    "next_smaller(arr)\n"
   ]
  },
  {
   "cell_type": "code",
   "execution_count": 11,
   "metadata": {},
   "outputs": [],
   "source": [
    "4\n",
    "def reverseStack(stack):\n",
    "    if len(stack) <= 1:\n",
    "        return stack\n",
    "    else:\n",
    "        top = stack.pop()\n",
    "        reversed_stack = reverseStack(stack)\n",
    "        reversed_stack.append(top)\n",
    "        return reversed_stack\n"
   ]
  },
  {
   "attachments": {},
   "cell_type": "markdown",
   "metadata": {},
   "source": [
    "severse_string(s)\n",
    "s=\"GeeksforGeeks\"\n"
   ]
  },
  {
   "cell_type": "code",
   "execution_count": 12,
   "metadata": {},
   "outputs": [],
   "source": [
    "def reverse_string(s):\n",
    "    stack = []\n",
    "    \n",
    "    if len(s) == 0:\n",
    "        return s\n",
    "    \n",
    "    for char in s:\n",
    "        stack.append(char)\n",
    "    \n",
    "    reversed_string = \"\"\n",
    "    while len(stack) != 0:\n",
    "        top = stack.pop()\n",
    "        reversed_string += top\n",
    "    \n",
    "    return reversed_string\n"
   ]
  },
  {
   "cell_type": "code",
   "execution_count": 13,
   "metadata": {},
   "outputs": [
    {
     "data": {
      "text/plain": [
       "'skeeGrofskeeG'"
      ]
     },
     "execution_count": 13,
     "metadata": {},
     "output_type": "execute_result"
    }
   ],
   "source": [
    "s=\"GeeksforGeeks\"\n",
    "reverse_string(s)\n",
    "\n"
   ]
  },
  {
   "cell_type": "code",
   "execution_count": 3,
   "metadata": {},
   "outputs": [],
   "source": [
    "4\n",
    "class Stack:\n",
    "    def __init__(self):\n",
    "        self.q1 = []\n",
    "        self.q2 = []\n",
    "\n",
    "    def push(self, val):\n",
    "        self.q1.append(val)\n",
    "\n",
    "    def pop(self):\n",
    "        if not self.q1:\n",
    "            return None\n",
    "\n",
    "        while len(self.q1) > 1:\n",
    "            self.q2.append(self.q1.pop(0))\n",
    "\n",
    "        popped = self.q1.pop(0)\n",
    "\n",
    "        # Swap q1 and q2\n",
    "        self.q1, self.q2 = self.q2, self.q1\n",
    "\n",
    "        return popped\n",
    "\n",
    "    def top(self):\n",
    "        if not self.q1:\n",
    "            return None\n",
    "\n",
    "        while len(self.q1) > 1:\n",
    "            self.q2.append(self.q1.pop(0))\n",
    "\n",
    "        top = self.q1[0]\n",
    "\n",
    "        # Swap q1 and q2\n",
    "        self.q1, self.q2 = self.q2, self.q1\n",
    "\n",
    "        return top\n",
    "\n",
    "    def empty(self):\n",
    "        return len(self.q1) == 0\n",
    "\n",
    "def postfix(s):\n",
    "    if "
   ]
  },
  {
   "cell_type": "code",
   "execution_count": 27,
   "metadata": {},
   "outputs": [
    {
     "name": "stdout",
     "output_type": "stream",
     "text": [
      "Result: -4\n"
     ]
    }
   ],
   "source": [
    "def postfix(expression):\n",
    "    stack = []\n",
    "    \n",
    "    for char in expression:\n",
    "        if char.isdigit():\n",
    "            stack.append(int(char))\n",
    "        else:\n",
    "            operand2 = stack.pop()\n",
    "            operand1 = stack.pop()\n",
    "            result = perform_operation(char, operand1, operand2)\n",
    "            stack.append(result)\n",
    "    \n",
    "    return stack[0]\n",
    "\n",
    "\n",
    "def perform_operation(operator, operand1, operand2):\n",
    "    if operator == '*':\n",
    "        return operand1 * operand2\n",
    "    elif operator == '/':\n",
    "        return operand1 / operand2\n",
    "    elif operator == '+':\n",
    "        return operand1 + operand2\n",
    "    elif operator == '-':\n",
    "        return (operand1 - operand2)\n",
    "\n",
    "\n",
    "# Example usage:\n",
    "expression = \"231*+9-\"\n",
    "result = postfix(expression)\n",
    "print(\"Result:\", result)\n"
   ]
  },
  {
   "cell_type": "code",
   "execution_count": 36,
   "metadata": {},
   "outputs": [],
   "source": [
    "7\n",
    "class MinStack:\n",
    "    def __init__(self):\n",
    "        self.stack = []\n",
    "        self.min_stack = []\n",
    "\n",
    "    def push(self, val):\n",
    "        self.stack.append(val)\n",
    "        if not self.min_stack or val <= self.min_stack[-1]:\n",
    "            self.min_stack.append(val)\n",
    "\n",
    "    def pop(self):\n",
    "        if self.stack[-1] == self.min_stack[-1]:\n",
    "            self.min_stack.pop()\n",
    "        self.stack.pop()\n",
    "\n",
    "    def top(self):\n",
    "        return self.stack[-1]\n",
    "\n",
    "    def getMin(self):\n",
    "        return self.min_stack[-1]\n"
   ]
  },
  {
   "cell_type": "code",
   "execution_count": 35,
   "metadata": {},
   "outputs": [
    {
     "name": "stdout",
     "output_type": "stream",
     "text": [
      "1\n",
      "1\n",
      "2\n",
      "7\n"
     ]
    }
   ],
   "source": [
    "stack = MinStack()\n",
    "stack.push(5)\n",
    "stack.push(2)\n",
    "stack.push(7)\n",
    "stack.push(1)\n",
    "\n",
    "print(stack.getMin())  # Output: 1\n",
    "print(stack.top())     # Output: 1\n",
    "\n",
    "stack.pop()\n",
    "print(stack.getMin())  # Output: 2\n",
    "print(stack.top())     # Output: 7\n",
    "\n"
   ]
  },
  {
   "cell_type": "code",
   "execution_count": 37,
   "metadata": {},
   "outputs": [],
   "source": [
    "8\n",
    "def trap(height):\n",
    "    n = len(height)\n",
    "    if n < 3:\n",
    "        return 0\n",
    "    \n",
    "    left_max = [0] * n\n",
    "    right_max = [0] * n\n",
    "    \n",
    "    left_max[0] = height[0]\n",
    "    for i in range(1, n):\n",
    "        left_max[i] = max(left_max[i-1], height[i])\n",
    "    \n",
    "    right_max[n-1] = height[n-1]\n",
    "    for i in range(n-2, -1, -1):\n",
    "        right_max[i] = max(right_max[i+1], height[i])\n",
    "    \n",
    "    water = 0\n",
    "    for i in range(n):\n",
    "        water += min(left_max[i], right_max[i]) - height[i]\n",
    "    \n",
    "    return water\n"
   ]
  },
  {
   "cell_type": "code",
   "execution_count": 38,
   "metadata": {},
   "outputs": [],
   "source": [
    "def trap(height):\n",
    "    n = len(height)\n",
    "    if n < 3:\n",
    "        return 0\n",
    "    \n",
    "    # Calculate the maximum height on the left of each bar\n",
    "    left_max = [0] * n\n",
    "    left_max[0] = height[0]\n",
    "    for i in range(1, n):\n",
    "        left_max[i] = max(left_max[i-1], height[i])\n",
    "    \n",
    "    # Calculate the maximum height on the right of each bar\n",
    "    right_max = [0] * n\n",
    "    right_max[n-1] = height[n-1]\n",
    "    for i in range(n-2, -1, -1):\n",
    "        right_max[i] = max(right_max[i+1], height[i])\n",
    "    \n",
    "    water = 0\n",
    "    # Calculate the amount of water that can be trapped at each position\n",
    "    for i in range(n):\n",
    "        water += min(left_max[i], right_max[i]) - height[i]\n",
    "    \n",
    "    return water\n"
   ]
  },
  {
   "cell_type": "code",
   "execution_count": 39,
   "metadata": {},
   "outputs": [
    {
     "name": "stdout",
     "output_type": "stream",
     "text": [
      "6\n"
     ]
    }
   ],
   "source": [
    "height = [0,1,0,2,1,0,1,3,2,1,2,1]\n",
    "print(trap(height))  # Output: 6\n"
   ]
  },
  {
   "cell_type": "code",
   "execution_count": null,
   "metadata": {},
   "outputs": [],
   "source": []
  }
 ],
 "metadata": {
  "kernelspec": {
   "display_name": "Python 3",
   "language": "python",
   "name": "python3"
  },
  "language_info": {
   "codemirror_mode": {
    "name": "ipython",
    "version": 3
   },
   "file_extension": ".py",
   "mimetype": "text/x-python",
   "name": "python",
   "nbconvert_exporter": "python",
   "pygments_lexer": "ipython3",
   "version": "3.11.2"
  },
  "orig_nbformat": 4
 },
 "nbformat": 4,
 "nbformat_minor": 2
}
