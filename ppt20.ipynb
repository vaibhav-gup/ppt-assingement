{
 "cells": [
  {
   "cell_type": "code",
   "execution_count": 27,
   "metadata": {},
   "outputs": [],
   "source": [
    "class Node:\n",
    "    def __init__(self, val):\n",
    "        self.val = val\n",
    "        self.left = None\n",
    "        self.right = None\n",
    "\n",
    "def binary_tree(root, sum):\n",
    "    if root is None:\n",
    "        return 0\n",
    "    \n",
    "    curr_sum = root.val + binary_tree(root.left, sum) + binary_tree(root.right, sum)\n",
    "    sum = max(sum, curr_sum) \n",
    "    \n",
    "    return sum"
   ]
  },
  {
   "cell_type": "code",
   "execution_count": 28,
   "metadata": {},
   "outputs": [
    {
     "name": "stdout",
     "output_type": "stream",
     "text": [
      "Maximum sum: 13\n"
     ]
    }
   ],
   "source": [
    "root = Node(1)\n",
    "root.left = Node(-2)\n",
    "root.right = Node(3)\n",
    "root.left.left = Node(4)\n",
    "root.left.right = Node(5)\n",
    "root.right.left = Node(-6)\n",
    "root.right.right = Node(2)\n",
    "\n",
    "# Calculate the maximum sum\n",
    "max_sum = binary_tree(root, 0)\n",
    "print(\"Maximum sum:\", max_sum)"
   ]
  },
  {
   "cell_type": "code",
   "execution_count": 29,
   "metadata": {},
   "outputs": [
    {
     "name": "stdout",
     "output_type": "stream",
     "text": [
      "Maximum sum: 28\n"
     ]
    }
   ],
   "source": [
    "root = Node(1)\n",
    "root.left = Node(2)\n",
    "root.right = Node(3)\n",
    "root.left.left = Node(4)\n",
    "root.left.right = Node(5)\n",
    "root.right.left = Node(6)\n",
    "root.right.right = Node(7)\n",
    "\n",
    "# Calculate the maximum sum\n",
    "max_sum = binary_tree(root, 0)\n",
    "print(\"Maximum sum:\", max_sum)"
   ]
  },
  {
   "cell_type": "code",
   "execution_count": 30,
   "metadata": {},
   "outputs": [
    {
     "name": "stdout",
     "output_type": "stream",
     "text": [
      "Maximum sum: 7\n"
     ]
    }
   ],
   "source": [
    "root = Node(-2)\n",
    "root.left = Node(4)\n",
    "root.right = Node(5)\n",
    "max_sum = binary_tree(root, 0)\n",
    "print(\"Maximum sum:\", max_sum)"
   ]
  },
  {
   "cell_type": "code",
   "execution_count": 48,
   "metadata": {},
   "outputs": [],
   "source": [
    "class Node:\n",
    "    def __init__(self, value):\n",
    "        self.value = value\n",
    "        self.left = None\n",
    "        self.right = None\n",
    "\n",
    "def binary_search_tree(array):\n",
    "    if not array:\n",
    "        return None\n",
    "\n",
    "    # Create the root node\n",
    "    root = Node(array[0])\n",
    "    queue = [root]\n",
    "    i = 1\n",
    "\n",
    "    # Traverse the array and construct the tree\n",
    "    while queue and i < len(array):\n",
    "        node = queue.pop(0)\n",
    "\n",
    "        # Create the left child\n",
    "        if i < len(array) and array[i] is not None:\n",
    "            node.left = Node(array[i])\n",
    "            queue.append(node.left)\n",
    "        i += 1\n",
    "\n",
    "        # Create the right child\n",
    "        if i < len(array) and array[i] is not None:\n",
    "            node.right = Node(array[i])\n",
    "            queue.append(node.right)\n",
    "        i += 1\n",
    "\n",
    "    return root\n",
    "\n",
    "def print_tree(node):\n",
    "    if node is None:\n",
    "        return\n",
    "    \n",
    "    print(node.value, end=' ->')\n",
    "    if root.left!=None:\n",
    "        print*\n",
    "    print_tree(node.left)\n",
    "    print_tree(node.right)\n",
    "\n",
    "            "
   ]
  },
  {
   "cell_type": "code",
   "execution_count": 50,
   "metadata": {},
   "outputs": [
    {
     "name": "stdout",
     "output_type": "stream",
     "text": [
      "Binary search Tree:\n",
      "7 4 3 5 10 6 12 8 1 "
     ]
    }
   ],
   "source": [
    "array=[7, 4, 12, 3, 6, 8, 1, 5, 10]\n",
    "root=binary_search_tree(array)\n",
    "print(\"Binary search Tree:\")\n",
    "print_tree(root)\n"
   ]
  },
  {
   "cell_type": "code",
   "execution_count": null,
   "metadata": {},
   "outputs": [],
   "source": []
  }
 ],
 "metadata": {
  "kernelspec": {
   "display_name": "Python 3",
   "language": "python",
   "name": "python3"
  },
  "language_info": {
   "codemirror_mode": {
    "name": "ipython",
    "version": 3
   },
   "file_extension": ".py",
   "mimetype": "text/x-python",
   "name": "python",
   "nbconvert_exporter": "python",
   "pygments_lexer": "ipython3",
   "version": "3.11.2"
  },
  "orig_nbformat": 4
 },
 "nbformat": 4,
 "nbformat_minor": 2
}
