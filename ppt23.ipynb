{
 "cells": [
  {
   "cell_type": "code",
   "execution_count": 10,
   "metadata": {},
   "outputs": [
    {
     "data": {
      "text/plain": [
       "2"
      ]
     },
     "execution_count": 10,
     "metadata": {},
     "output_type": "execute_result"
    }
   ],
   "source": [
    "def cqlculate_depth(preorder):\n",
    "    depth=0\n",
    "    max_depth=0\n",
    "     \n",
    "    for char in preorder:\n",
    "        if char==\"n\":\n",
    "            depth+=1\n",
    "        elif char==\"l\":\n",
    "            max_depth=max(max_depth,depth)\n",
    "        else:\n",
    "            raise ValueError(\"Invalid character in the Preorder traversal.\")\n",
    "    return max_depth\n",
    "    \n",
    "preorder = 'nlnll'\n",
    "cqlculate_depth(preorder)\n",
    "    "
   ]
  },
  {
   "cell_type": "code",
   "execution_count": 11,
   "metadata": {},
   "outputs": [
    {
     "data": {
      "text/plain": [
       "3"
      ]
     },
     "execution_count": 11,
     "metadata": {},
     "output_type": "execute_result"
    }
   ],
   "source": [
    "preorder = 'nlnnlll'\n",
    "cqlculate_depth(preorder)"
   ]
  },
  {
   "cell_type": "code",
   "execution_count": 16,
   "metadata": {},
   "outputs": [
    {
     "name": "stdout",
     "output_type": "stream",
     "text": [
      "10 2 7 14 "
     ]
    }
   ],
   "source": [
    "# Python program to print left view of Binary Tree\n",
    "\n",
    "# A binary tree node\n",
    "class Node:\n",
    "\n",
    "\t# Constructor to create a new node\n",
    "\tdef __init__(self, data):\n",
    "\t\tself.data = data\n",
    "\t\tself.left = None\n",
    "\t\tself.right = None\n",
    "\n",
    "\n",
    "# Recursive function print left view of a binary tree\n",
    "def leftViewUtil(root, level, max_level):\n",
    "\n",
    "\t# Base Case\n",
    "\tif root is None:\n",
    "\t\treturn\n",
    "\n",
    "\t# If this is the first node of its level\n",
    "\tif (max_level[0] < level):\n",
    "\t\tprint (root.data, end = \" \")\n",
    "\t\tmax_level[0] = level\n",
    "\n",
    "\t# Recur for left and right subtree\n",
    "\tleftViewUtil(root.left, level + 1, max_level)\n",
    "\tleftViewUtil(root.right, level + 1, max_level)\n",
    "\n",
    "\n",
    "# A wrapper over leftViewUtil()\n",
    "def leftView(root):\n",
    "\tmax_level = [0]\n",
    "\tleftViewUtil(root, 1, max_level)\n",
    "\n",
    "\n",
    "# Driver program to test above function\n",
    "if __name__ == '__main__':\n",
    "\troot = Node(10)\n",
    "\troot.left = Node(2)\n",
    "\troot.right = Node(3)\n",
    "\troot.left.left = Node(7)\n",
    "\troot.left.right = Node(8)\n",
    "\troot.right.right = Node(15)\n",
    "\troot.right.left = Node(12)\n",
    "\troot.right.right.left = Node(14)\n",
    "\t\n",
    "\tleftView(root)\n",
    "\n",
    "# This code is contributed by Nikhil Kumar Singh(nickzuck_007)\n",
    "\n"
   ]
  },
  {
   "cell_type": "code",
   "execution_count": 17,
   "metadata": {},
   "outputs": [
    {
     "name": "stdout",
     "output_type": "stream",
     "text": [
      "10 3 15 14 "
     ]
    }
   ],
   "source": [
    "# Python program to print left view of Binary Tree\n",
    "\n",
    "# A binary tree node\n",
    "class Node:\n",
    "\n",
    "\t# Constructor to create a new node\n",
    "\tdef __init__(self, data):\n",
    "\t\tself.data = data\n",
    "\t\tself.left = None\n",
    "\t\tself.right = None\n",
    "\n",
    "\n",
    "# Recursive function print left view of a binary tree\n",
    "def leftViewUtil(root, level, max_level):\n",
    "\n",
    "\t# Base Case\n",
    "\tif root is None:\n",
    "\t\treturn\n",
    "\n",
    "\t# If this is the first node of its level\n",
    "\tif (max_level[0] < level):\n",
    "\t\tprint (root.data, end = \" \")\n",
    "\t\tmax_level[0] = level\n",
    "\n",
    "\t# Recur for left and right subtree\n",
    "\tleftViewUtil(root.right, level + 1, max_level)\n",
    "\tleftViewUtil(root.left, level + 1, max_level)\n",
    "\n",
    "\n",
    "# A wrapper over rightViewUtil()\n",
    "def leftView(root):\n",
    "\tmax_level = [0]\n",
    "\tleftViewUtil(root, 1, max_level)\n",
    "\n",
    "\n",
    "# Driver program to test above function\n",
    "if __name__ == '__main__':\n",
    "\troot = Node(10)\n",
    "\troot.left = Node(2)\n",
    "\troot.right = Node(3)\n",
    "\troot.left.left = Node(7)\n",
    "\troot.left.right = Node(8)\n",
    "\troot.right.right = Node(15)\n",
    "\troot.right.left = Node(12)\n",
    "\troot.right.right.left = Node(14)\n",
    "\t\n",
    "\tleftView(root)"
   ]
  },
  {
   "cell_type": "code",
   "execution_count": 18,
   "metadata": {},
   "outputs": [
    {
     "name": "stdout",
     "output_type": "stream",
     "text": [
      "Bottom View Nodes:\n",
      "5 10 4 14 25 "
     ]
    }
   ],
   "source": [
    "# Python program to print bottom view of Binary Tree\n",
    "\n",
    "# A binary tree node\n",
    "class Node:\n",
    "    # Constructor to create a new node\n",
    "    def __init__(self, data):\n",
    "        self.data = data\n",
    "        self.left = None\n",
    "        self.right = None\n",
    "\n",
    "\n",
    "# Function to print the bottom view of a binary tree\n",
    "def printBottomView(root):\n",
    "    if root is None:\n",
    "        return\n",
    "\n",
    "    # Create a dictionary to store the horizontal distance and node data of each node\n",
    "    node_map = {}\n",
    "\n",
    "    # Create a queue for level-order traversal\n",
    "    queue = []\n",
    "    # Enqueue the root node with horizontal distance 0\n",
    "    queue.append((root, 0))\n",
    "\n",
    "    # Perform level-order traversal\n",
    "    while queue:\n",
    "        # Dequeue the current node and its horizontal distance\n",
    "        node, horizontal_distance = queue.pop(0)\n",
    "\n",
    "        # Update the node data for the current horizontal distance\n",
    "        node_map[horizontal_distance] = node.data\n",
    "\n",
    "        # Enqueue the left child with the updated horizontal distance\n",
    "        if node.left:\n",
    "            queue.append((node.left, horizontal_distance - 1))\n",
    "\n",
    "        # Enqueue the right child with the updated horizontal distance\n",
    "        if node.right:\n",
    "            queue.append((node.right, horizontal_distance + 1))\n",
    "\n",
    "    # Print the bottom view nodes in the order of their horizontal distance\n",
    "    for distance in sorted(node_map):\n",
    "        print(node_map[distance], end=\" \")\n",
    "\n",
    "\n",
    "# Driver program to test above function\n",
    "if __name__ == '__main__':\n",
    "    root = Node(20)\n",
    "    root.left = Node(8)\n",
    "    root.right = Node(22)\n",
    "    root.left.left = Node(5)\n",
    "    root.left.right = Node(3)\n",
    "    root.right.left = Node(4)\n",
    "    root.right.right = Node(25)\n",
    "    root.left.right.left = Node(10)\n",
    "    root.left.right.right = Node(14)\n",
    "\n",
    "    print(\"Bottom View Nodes:\")\n",
    "    printBottomView(root)\n"
   ]
  },
  {
   "cell_type": "code",
   "execution_count": null,
   "metadata": {},
   "outputs": [],
   "source": []
  }
 ],
 "metadata": {
  "kernelspec": {
   "display_name": "cnn",
   "language": "python",
   "name": "python3"
  },
  "language_info": {
   "codemirror_mode": {
    "name": "ipython",
    "version": 3
   },
   "file_extension": ".py",
   "mimetype": "text/x-python",
   "name": "python",
   "nbconvert_exporter": "python",
   "pygments_lexer": "ipython3",
   "version": "3.11.4"
  },
  "orig_nbformat": 4
 },
 "nbformat": 4,
 "nbformat_minor": 2
}
