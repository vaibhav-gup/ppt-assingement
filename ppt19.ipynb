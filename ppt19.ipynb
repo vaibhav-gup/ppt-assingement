{
 "cells": [
  {
   "cell_type": "code",
   "execution_count": 83,
   "metadata": {},
   "outputs": [
    {
     "name": "stdout",
     "output_type": "stream",
     "text": [
      "[2, 1, 1, 0]\n"
     ]
    }
   ],
   "source": [
    "2\n",
    "def countSmaller(nums):\n",
    "    def sort(enum):\n",
    "        half = len(enum) // 2\n",
    "        if half:\n",
    "            left, right = sort(enum[:half]), sort(enum[half:])\n",
    "            m, n = len(left), len(right)\n",
    "            i = j = 0\n",
    "            while i < m or j < n:\n",
    "                if j == n or i < m and left[i][1] <= right[j][1]:\n",
    "                    enum[i+j] = left[i]\n",
    "                    smaller[left[i][0]] += j\n",
    "                    i += 1\n",
    "                else:\n",
    "                    enum[i+j] = right[j]\n",
    "                    j += 1\n",
    "        return enum\n",
    "    smaller = [0] * len(nums)\n",
    "    sort(list(enumerate(nums)))\n",
    "    return smaller\n",
    "\n",
    "nums = [5, 2, 6, 1]\n",
    "result = countSmaller(nums)\n",
    "print(result)"
   ]
  },
  {
   "cell_type": "code",
   "execution_count": 1,
   "metadata": {},
   "outputs": [
    {
     "data": {
      "text/plain": [
       "[0, 0, 0, 0, 1, 2, 4, 6, 7, 8, 9]"
      ]
     },
     "execution_count": 1,
     "metadata": {},
     "output_type": "execute_result"
    }
   ],
   "source": [
    "3\n",
    "def sorting(nums):\n",
    "    if len(nums)<=1:\n",
    "        return nums\n",
    "    \n",
    "    mid =len(nums)//2\n",
    "    left=nums[:mid]\n",
    "    right=nums[mid:]\n",
    "    sorting(left)\n",
    "    sorting(right)\n",
    "    \n",
    "    i=j=k=0\n",
    "    \n",
    "    while i<len(left)and j<len(right):\n",
    "        if left[i]<=right[j]:\n",
    "            nums[k]=left[i]\n",
    "            i+=1\n",
    "            \n",
    "        else:\n",
    "            nums[k]=right[j]\n",
    "            j+=1\n",
    "        k+=1\n",
    "        \n",
    "    while i<len(left):\n",
    "        nums[k]=left[i]\n",
    "        i+=1\n",
    "        k+=1\n",
    "    while j<len(right):\n",
    "        nums[k]=right[j]\n",
    "        j+=1\n",
    "        k+=1\n",
    "        \n",
    "    return nums\n",
    "\n",
    "nums=[1, 9, 8, 4, 0, 0, 2, 7, 0, 6, 0]\n",
    "sorting(nums)"
   ]
  },
  {
   "cell_type": "code",
   "execution_count": 89,
   "metadata": {},
   "outputs": [
    {
     "data": {
      "text/plain": [
       "[1, 9, 8, 4, 2, 7, 6, 0, 0, 0, 0]"
      ]
     },
     "execution_count": 89,
     "metadata": {},
     "output_type": "execute_result"
    }
   ],
   "source": [
    "4\n",
    "def pushZerosToEnd(arr):\n",
    "    if len(arr)<=1:\n",
    "        return arr\n",
    "    i = j= 0\n",
    "    \n",
    "    while i<len(arr):\n",
    "        if arr[i]!=0:\n",
    "            arr[j]=arr[i]\n",
    "            j+=1\n",
    "        i+=1\n",
    "        \n",
    "    while j<len(arr):\n",
    "            arr[j]=0\n",
    "            j+=1\n",
    "    return arr\n",
    "        \n",
    "            \n",
    "arr = [1, 9, 8, 4, 0, 0, 2, 7, 0, 6, 0]\n",
    "pushZerosToEnd(arr)\n",
    "\n",
    "    "
   ]
  },
  {
   "cell_type": "code",
   "execution_count": 86,
   "metadata": {},
   "outputs": [
    {
     "name": "stdout",
     "output_type": "stream",
     "text": [
      "[-4, 1, -1, 2, 3, 4]\n"
     ]
    }
   ],
   "source": [
    "5\n",
    "def alternate_positive_negative(a):\n",
    "    pos = 0\n",
    "    neg = 0\n",
    "    index = 0\n",
    "    while index < len(a):\n",
    "        if a[index] > 0:\n",
    "            pos += 1\n",
    "        else:\n",
    "            neg += 1\n",
    "        index += 1\n",
    "\n",
    "    i = 0\n",
    "    j = 1\n",
    "    temp = 0\n",
    "\n",
    "    while pos > 0 and neg > 0:\n",
    "        if a[i] > 0:\n",
    "            pos -= 1\n",
    "            if a[j] < 0:\n",
    "                # Move to the next positive and negative positions\n",
    "                i += 2\n",
    "                j += 2\n",
    "                neg -= 1\n",
    "            else:\n",
    "                while a[j] > 0:\n",
    "                    j += 1\n",
    "                neg -= 1\n",
    "                while j > i:\n",
    "                    # Swap the positive and negative numbers\n",
    "                    temp = a[j]\n",
    "                    a[j] = a[j - 1]\n",
    "                    a[j - 1] = temp\n",
    "                    j -= 1\n",
    "                i += 2\n",
    "                j += 2\n",
    "        else:\n",
    "            while a[i] < 0:\n",
    "                i += 1\n",
    "            while i > (j - 1):\n",
    "                # Move the positive number to the appropriate place\n",
    "                temp = a[i]\n",
    "                a[i] = a[i - 1]\n",
    "                a[i - 1] = temp\n",
    "                i -= 1\n",
    "\n",
    "    return a\n",
    "\n",
    "a = [1, 2, 3, -4, -1, 4]\n",
    "result = alternate_positive_negative(a)\n",
    "print(result)\n"
   ]
  },
  {
   "cell_type": "code",
   "execution_count": 77,
   "metadata": {},
   "outputs": [
    {
     "data": {
      "text/plain": [
       "[1, 2, 3, 4, 4, 5, 6, 8]"
      ]
     },
     "execution_count": 77,
     "metadata": {},
     "output_type": "execute_result"
    }
   ],
   "source": [
    "6\n",
    "def merge_sorted_arrays(arr1, arr2):\n",
    "    merged = []\n",
    "    i = j = 0\n",
    "    \n",
    "    while i < len(arr1) and j < len(arr2):\n",
    "        if arr1[i] <= arr2[j]:\n",
    "            merged.append(arr1[i])\n",
    "            i += 1\n",
    "        else:\n",
    "            merged.append(arr2[j])\n",
    "            j += 1\n",
    "    \n",
    "    # Append the remaining elements from arr1, if any\n",
    "    while i < len(arr1):\n",
    "        merged.append(arr1[i])\n",
    "        i += 1\n",
    "    \n",
    "    # Append the remaining elements from arr2, if any\n",
    "    while j < len(arr2):\n",
    "        merged.append(arr2[j])\n",
    "        j += 1\n",
    "    \n",
    "    return merged\n",
    "\n",
    "# Example usage\n",
    "arr1 = [1, 3, 4, 5]\n",
    "arr2 = [2, 4, 6, 8]\n",
    "merge_sorted_arrays(arr1, arr2)\n",
    "\n",
    "\n"
   ]
  },
  {
   "cell_type": "code",
   "execution_count": 79,
   "metadata": {},
   "outputs": [
    {
     "data": {
      "text/plain": [
       "[2]"
      ]
     },
     "execution_count": 79,
     "metadata": {},
     "output_type": "execute_result"
    }
   ],
   "source": [
    "7\n",
    "def merge_sort(arr):\n",
    "    if len(arr) <= 1:\n",
    "        return arr\n",
    "    \n",
    "    mid = len(arr) // 2\n",
    "    left = arr[:mid]\n",
    "    right = arr[mid:]\n",
    "    \n",
    "    merge_sort(left)\n",
    "    merge_sort(right)\n",
    "    \n",
    "    i = j = k = 0\n",
    "    \n",
    "    while i < len(left) and j < len(right):\n",
    "        if left[i] <= right[j]:\n",
    "            arr[k] = left[i]\n",
    "            i += 1\n",
    "        else:\n",
    "            arr[k] = right[j]\n",
    "            j += 1\n",
    "        k += 1\n",
    "        \n",
    "    while i < len(left):\n",
    "        arr[k] = left[i]\n",
    "        i += 1\n",
    "        k += 1\n",
    "    \n",
    "    while j < len(right):\n",
    "        arr[k] = right[j]\n",
    "        j += 1\n",
    "        k += 1\n",
    "\n",
    "def intersection(nums1, nums2):\n",
    "    merge_sort(nums1)\n",
    "    merge_sort(nums2)\n",
    "    \n",
    "    intersection = []\n",
    "    i = j = 0\n",
    "    \n",
    "    while i < len(nums1) and j < len(nums2):\n",
    "        if nums1[i] == nums2[j]:\n",
    "            if not intersection or nums1[i] != intersection[-1]:\n",
    "                intersection.append(nums1[i])\n",
    "            i += 1\n",
    "            j += 1\n",
    "        elif nums1[i] < nums2[j]:\n",
    "            i += 1\n",
    "        else:\n",
    "            j += 1\n",
    "    \n",
    "    return intersection\n",
    "\n",
    "nums1 = [1,2,2,1]\n",
    "nums2 = [2,2]\n",
    "intersection(nums1, nums2)\n"
   ]
  },
  {
   "cell_type": "code",
   "execution_count": 80,
   "metadata": {},
   "outputs": [
    {
     "data": {
      "text/plain": [
       "[4, 9]"
      ]
     },
     "execution_count": 80,
     "metadata": {},
     "output_type": "execute_result"
    }
   ],
   "source": [
    "nums1 = [4,9,5]\n",
    "nums2 = [9,4,9,8,4]\n",
    "intersection(nums1, nums2)"
   ]
  },
  {
   "cell_type": "code",
   "execution_count": 81,
   "metadata": {},
   "outputs": [
    {
     "data": {
      "text/plain": [
       "[2]"
      ]
     },
     "execution_count": 81,
     "metadata": {},
     "output_type": "execute_result"
    }
   ],
   "source": [
    "nums1 = [1,2,2,1]\n",
    "nums2 = [2,2]\n",
    "intersection(nums1, nums2)"
   ]
  },
  {
   "cell_type": "code",
   "execution_count": 82,
   "metadata": {},
   "outputs": [
    {
     "data": {
      "text/plain": [
       "[2, 2]"
      ]
     },
     "execution_count": 82,
     "metadata": {},
     "output_type": "execute_result"
    }
   ],
   "source": [
    "8\n",
    "def merge_sort(arr):\n",
    "    if len(arr) <= 1:\n",
    "        return arr\n",
    "    \n",
    "    mid = len(arr) // 2\n",
    "    left = arr[:mid]\n",
    "    right = arr[mid:]\n",
    "    \n",
    "    merge_sort(left)\n",
    "    merge_sort(right)\n",
    "    \n",
    "    i = j = k = 0\n",
    "    \n",
    "    while i < len(left) and j < len(right):\n",
    "        if left[i] <= right[j]:\n",
    "            arr[k] = left[i]\n",
    "            i += 1\n",
    "        else:\n",
    "            arr[k] = right[j]\n",
    "            j += 1\n",
    "        k += 1\n",
    "        \n",
    "    while i < len(left):\n",
    "        arr[k] = left[i]\n",
    "        i += 1\n",
    "        k += 1\n",
    "    \n",
    "    while j < len(right):\n",
    "        arr[k] = right[j]\n",
    "        j += 1\n",
    "        k += 1\n",
    "\n",
    "def intersection(nums1, nums2):\n",
    "    merge_sort(nums1)\n",
    "    merge_sort(nums2)\n",
    "    \n",
    "    intersection = []\n",
    "    i = j = 0\n",
    "    \n",
    "    while i < len(nums1) and j < len(nums2):\n",
    "        if nums1[i] == nums2[j]:\n",
    "            intersection.append(nums1[i])\n",
    "            i += 1\n",
    "            j += 1\n",
    "        elif nums1[i] < nums2[j]:\n",
    "            i += 1\n",
    "        else:\n",
    "            j += 1\n",
    "    \n",
    "    return intersection\n",
    "\n",
    "nums1 = [1,2,2,1]\n",
    "nums2 = [2,2]\n",
    "intersection(nums1, nums2)"
   ]
  },
  {
   "cell_type": "code",
   "execution_count": null,
   "metadata": {},
   "outputs": [],
   "source": []
  }
 ],
 "metadata": {
  "kernelspec": {
   "display_name": "Python 3",
   "language": "python",
   "name": "python3"
  },
  "language_info": {
   "codemirror_mode": {
    "name": "ipython",
    "version": 3
   },
   "file_extension": ".py",
   "mimetype": "text/x-python",
   "name": "python",
   "nbconvert_exporter": "python",
   "pygments_lexer": "ipython3",
   "version": "3.11.2"
  },
  "orig_nbformat": 4
 },
 "nbformat": 4,
 "nbformat_minor": 2
}
