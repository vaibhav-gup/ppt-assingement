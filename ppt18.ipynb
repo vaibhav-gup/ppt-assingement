{
 "cells": [
  {
   "cell_type": "code",
   "execution_count": 18,
   "metadata": {},
   "outputs": [],
   "source": [
    "2\n",
    "def mergesort(arr):\n",
    "    if len(arr)<=1:\n",
    "        return arr\n",
    "    \n",
    "    mid = len(arr)//2\n",
    "    \n",
    "    left=arr[:mid]\n",
    "    right=arr[mid:]\n",
    "    \n",
    "    mergesort(left)\n",
    "    \n",
    "    mergesort(right)\n",
    "    \n",
    "    i=j=k=0\n",
    "    \n",
    "    while i<len(left)and j<len(right):\n",
    "        if left[i]<=right[j]:\n",
    "            arr[k]=left[i]\n",
    "            i+=1\n",
    "        else:\n",
    "            arr[k]=right[j]\n",
    "            j+=1\n",
    "        k+=1\n",
    "        \n",
    "    while i<len(left):\n",
    "            arr[k]=left[i]\n",
    "            i+=1\n",
    "            k+=1\n",
    "            \n",
    "    while j<len(right):\n",
    "            arr[k]=right[j]\n",
    "            j+=1\n",
    "            k+=1\n",
    "    return arr\n",
    "        \n",
    "    \n",
    "    "
   ]
  },
  {
   "cell_type": "code",
   "execution_count": 19,
   "metadata": {},
   "outputs": [
    {
     "data": {
      "text/plain": [
       "[0, 0, 1, 1, 2, 2]"
      ]
     },
     "execution_count": 19,
     "metadata": {},
     "output_type": "execute_result"
    }
   ],
   "source": [
    "arr = [2,0,2,1,1,0]\n",
    "mergesort(arr)"
   ]
  },
  {
   "cell_type": "code",
   "execution_count": 48,
   "metadata": {},
   "outputs": [
    {
     "name": "stdout",
     "output_type": "stream",
     "text": [
      "[2, 7]\n",
      "[1, 6]\n",
      "[1, 2, 6, 7]\n",
      "[5, 8]\n",
      "[3, 4]\n",
      "[3, 4, 5, 8]\n",
      "[1, 2, 3, 4, 5, 6, 7, 8]\n"
     ]
    },
    {
     "data": {
      "text/plain": [
       "'the max diffence is:1'"
      ]
     },
     "execution_count": 48,
     "metadata": {},
     "output_type": "execute_result"
    }
   ],
   "source": [
    "4\n",
    "def max_difference(nums):\n",
    "    if len(nums) <= 1:\n",
    "        return 0\n",
    "    \n",
    "    mid = len(nums) // 2\n",
    "    left = nums[:mid]\n",
    "    right = nums[mid:]\n",
    "    \n",
    "    max_difference(left)\n",
    "    max_difference(right)\n",
    "    \n",
    "    i = j = k = 0\n",
    "    \n",
    "    while i < len(left) and j < len(right):\n",
    "        if left[i] < right[j]:\n",
    "            nums[k] = left[i]\n",
    "            i += 1\n",
    "        else:\n",
    "            nums[k] = right[j]\n",
    "            j += 1\n",
    "        k += 1\n",
    "        \n",
    "    while i < len(left):\n",
    "        nums[k] = left[i]\n",
    "        i += 1\n",
    "        k += 1\n",
    "        \n",
    "    while j < len(right):\n",
    "        nums[k] = right[j]\n",
    "        j += 1\n",
    "        k += 1\n",
    "    print (nums)\n",
    "    \n",
    "    max_diff = 0\n",
    "    for i in range(len(nums) - 1):\n",
    "        diff = abs(nums[i] - nums[i+1])\n",
    "        max_diff = max(diff, max_diff)\n",
    "    \n",
    "    return \"the max diffence is:\"+ str(max_diff)\n",
    "\n",
    "\n",
    "my_nums = [7, 2, 1, 6, 8, 5, 3, 4]\n",
    "max_difference(my_nums)\n",
    "\n",
    "\n"
   ]
  },
  {
   "cell_type": "code",
   "execution_count": 49,
   "metadata": {},
   "outputs": [
    {
     "name": "stdout",
     "output_type": "stream",
     "text": [
      "[3, 6]\n",
      "[1, 9]\n",
      "[1, 3, 6, 9]\n"
     ]
    },
    {
     "data": {
      "text/plain": [
       "'the max diffence is:3'"
      ]
     },
     "execution_count": 49,
     "metadata": {},
     "output_type": "execute_result"
    }
   ],
   "source": [
    "nums = [3,6,9,1]\n",
    "max_difference(nums)\n",
    "\n"
   ]
  },
  {
   "cell_type": "code",
   "execution_count": 50,
   "metadata": {},
   "outputs": [
    {
     "data": {
      "text/plain": [
       "0"
      ]
     },
     "execution_count": 50,
     "metadata": {},
     "output_type": "execute_result"
    }
   ],
   "source": [
    "nums = [10]\n",
    "max_difference(nums)"
   ]
  },
  {
   "cell_type": "code",
   "execution_count": 77,
   "metadata": {},
   "outputs": [
    {
     "data": {
      "text/plain": [
       "True"
      ]
     },
     "execution_count": 77,
     "metadata": {},
     "output_type": "execute_result"
    }
   ],
   "source": [
    "5\n",
    "def duplicate(nums):\n",
    "    if len(nums) <= 1:\n",
    "        return 0\n",
    "    \n",
    "    mid = len(nums) // 2\n",
    "    left = nums[:mid]\n",
    "    right = nums[mid:]\n",
    "    \n",
    "    duplicate(left)\n",
    "    duplicate(right)\n",
    "    \n",
    "    i = j = k = 0\n",
    "    \n",
    "    while i < len(left) and j < len(right):\n",
    "        if left[i] < right[j]:\n",
    "            nums[k] = left[i]\n",
    "            i += 1\n",
    "        else:\n",
    "            nums[k] = right[j]\n",
    "            j += 1\n",
    "        k += 1\n",
    "        \n",
    "    while i < len(left):\n",
    "        nums[k] = left[i]\n",
    "        i += 1\n",
    "        k += 1\n",
    "        \n",
    "    while j < len(right):\n",
    "        nums[k] = right[j]\n",
    "        j += 1\n",
    "        k += 1\n",
    "    \n",
    "    \n",
    "    for i in range (len(nums)-1):\n",
    "        if (nums[i]==nums[i+1]):\n",
    "            return True\n",
    "        else:\n",
    "            return False\n",
    "        \n",
    "        \n",
    "        \n",
    "        \n",
    "nums = [1,1,1,3,3,4,3,2,4,2]\n",
    "duplicate(nums)\n",
    "    "
   ]
  },
  {
   "cell_type": "code",
   "execution_count": 78,
   "metadata": {},
   "outputs": [
    {
     "data": {
      "text/plain": [
       "True"
      ]
     },
     "execution_count": 78,
     "metadata": {},
     "output_type": "execute_result"
    }
   ],
   "source": [
    "nums = [1,2,3,1]\n",
    "duplicate(nums)"
   ]
  },
  {
   "cell_type": "code",
   "execution_count": 79,
   "metadata": {},
   "outputs": [
    {
     "data": {
      "text/plain": [
       "False"
      ]
     },
     "execution_count": 79,
     "metadata": {},
     "output_type": "execute_result"
    }
   ],
   "source": [
    "nums = [1,2,3,4]\n",
    "duplicate(nums)"
   ]
  },
  {
   "cell_type": "code",
   "execution_count": 1,
   "metadata": {},
   "outputs": [
    {
     "name": "stdout",
     "output_type": "stream",
     "text": [
      "4\n"
     ]
    }
   ],
   "source": [
    "7\n",
    "def lengthOfLIS(nums):\n",
    "    n = len(nums)\n",
    "    if n == 0:\n",
    "        return 0\n",
    "    \n",
    "    dp = [1] * n\n",
    "    for i in range(1, n):\n",
    "        for j in range(i):\n",
    "            if nums[i] > nums[j]:\n",
    "                dp[i] = max(dp[i], dp[j] + 1)\n",
    "    \n",
    "    return max(dp)\n",
    "\n",
    "# Input: nums = [10, 9, 2, 5, 3, 7, 101, 18]\n",
    "nums = [10, 9, 2, 5, 3, 7, 101, 18]\n",
    "result = lengthOfLIS(nums)\n",
    "print(result)\n"
   ]
  },
  {
   "cell_type": "code",
   "execution_count": 16,
   "metadata": {},
   "outputs": [
    {
     "data": {
      "text/plain": [
       "False"
      ]
     },
     "execution_count": 16,
     "metadata": {},
     "output_type": "execute_result"
    }
   ],
   "source": [
    "8\n",
    "def pattern_132(nums):\n",
    "    if len(nums) < 3:\n",
    "        return False\n",
    "    n = len(nums)\n",
    "    for i in range(n):\n",
    "        for j in range(i+1, n):\n",
    "            for k in range(j+1, n):\n",
    "                if nums[i] < nums[k] and nums[k] < nums[j]:\n",
    "                    return True\n",
    "    return False\n",
    "               \n",
    "nums  =[1,2,3,4]\n",
    "pattern_132(nums)"
   ]
  },
  {
   "cell_type": "code",
   "execution_count": 17,
   "metadata": {},
   "outputs": [
    {
     "data": {
      "text/plain": [
       "True"
      ]
     },
     "execution_count": 17,
     "metadata": {},
     "output_type": "execute_result"
    }
   ],
   "source": [
    "nums  =[3,1,4,2]\n",
    "pattern_132(nums)"
   ]
  },
  {
   "cell_type": "code",
   "execution_count": 18,
   "metadata": {},
   "outputs": [
    {
     "data": {
      "text/plain": [
       "True"
      ]
     },
     "execution_count": 18,
     "metadata": {},
     "output_type": "execute_result"
    }
   ],
   "source": [
    "nums=[-1,3,2,0]\n",
    "pattern_132(nums)"
   ]
  },
  {
   "cell_type": "code",
   "execution_count": 19,
   "metadata": {},
   "outputs": [
    {
     "name": "stdout",
     "output_type": "stream",
     "text": [
      "i: 3, j: 2\n",
      "nums[i]: 5, nums[j]: 2\n",
      "dp[i]: 2, dp[j]: 1\n",
      "i: 4, j: 2\n",
      "nums[i]: 3, nums[j]: 2\n",
      "dp[i]: 2, dp[j]: 1\n",
      "i: 5, j: 2\n",
      "nums[i]: 7, nums[j]: 2\n",
      "dp[i]: 2, dp[j]: 1\n",
      "i: 5, j: 3\n",
      "nums[i]: 7, nums[j]: 5\n",
      "dp[i]: 3, dp[j]: 2\n",
      "i: 5, j: 4\n",
      "nums[i]: 7, nums[j]: 3\n",
      "dp[i]: 3, dp[j]: 2\n",
      "i: 6, j: 0\n",
      "nums[i]: 101, nums[j]: 10\n",
      "dp[i]: 2, dp[j]: 1\n",
      "i: 6, j: 1\n",
      "nums[i]: 101, nums[j]: 9\n",
      "dp[i]: 2, dp[j]: 1\n",
      "i: 6, j: 2\n",
      "nums[i]: 101, nums[j]: 2\n",
      "dp[i]: 2, dp[j]: 1\n",
      "i: 6, j: 3\n",
      "nums[i]: 101, nums[j]: 5\n",
      "dp[i]: 3, dp[j]: 2\n",
      "i: 6, j: 4\n",
      "nums[i]: 101, nums[j]: 3\n",
      "dp[i]: 3, dp[j]: 2\n",
      "i: 6, j: 5\n",
      "nums[i]: 101, nums[j]: 7\n",
      "dp[i]: 4, dp[j]: 3\n",
      "i: 7, j: 0\n",
      "nums[i]: 18, nums[j]: 10\n",
      "dp[i]: 2, dp[j]: 1\n",
      "i: 7, j: 1\n",
      "nums[i]: 18, nums[j]: 9\n",
      "dp[i]: 2, dp[j]: 1\n",
      "i: 7, j: 2\n",
      "nums[i]: 18, nums[j]: 2\n",
      "dp[i]: 2, dp[j]: 1\n",
      "i: 7, j: 3\n",
      "nums[i]: 18, nums[j]: 5\n",
      "dp[i]: 3, dp[j]: 2\n",
      "i: 7, j: 4\n",
      "nums[i]: 18, nums[j]: 3\n",
      "dp[i]: 3, dp[j]: 2\n",
      "i: 7, j: 5\n",
      "nums[i]: 18, nums[j]: 7\n",
      "dp[i]: 4, dp[j]: 3\n",
      "4\n"
     ]
    }
   ],
   "source": [
    "def lengthOfLIS(nums):\n",
    "    if not nums:\n",
    "        return 0\n",
    "    \n",
    "    n = len(nums)\n",
    "    dp = [1] * n\n",
    "    \n",
    "    for i in range(1, n):\n",
    "        for j in range(i):\n",
    "            if nums[i] > nums[j]:\n",
    "                dp[i] = max(dp[i], dp[j] + 1)\n",
    "                \n",
    "                # Debugging statements\n",
    "                print(f\"i: {i}, j: {j}\")\n",
    "                print(f\"nums[i]: {nums[i]}, nums[j]: {nums[j]}\")\n",
    "                print(f\"dp[i]: {dp[i]}, dp[j]: {dp[j]}\")\n",
    "    \n",
    "    return max(dp)\n",
    "\n",
    "nums = [10, 9, 2, 5, 3, 7, 101, 18]\n",
    "result = lengthOfLIS(nums)\n",
    "print(result)\n",
    "\n"
   ]
  },
  {
   "cell_type": "code",
   "execution_count": null,
   "metadata": {},
   "outputs": [],
   "source": []
  }
 ],
 "metadata": {
  "kernelspec": {
   "display_name": "Python 3",
   "language": "python",
   "name": "python3"
  },
  "language_info": {
   "codemirror_mode": {
    "name": "ipython",
    "version": 3
   },
   "file_extension": ".py",
   "mimetype": "text/x-python",
   "name": "python",
   "nbconvert_exporter": "python",
   "pygments_lexer": "ipython3",
   "version": "3.11.2"
  },
  "orig_nbformat": 4
 },
 "nbformat": 4,
 "nbformat_minor": 2
}
