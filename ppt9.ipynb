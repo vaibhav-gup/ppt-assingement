{
 "cells": [
  {
   "cell_type": "code",
   "execution_count": 3,
   "metadata": {},
   "outputs": [
    {
     "data": {
      "text/plain": [
       "5050"
      ]
     },
     "execution_count": 3,
     "metadata": {},
     "output_type": "execute_result"
    }
   ],
   "source": [
    "2\n",
    "def natural(n):\n",
    "    # Base case: If n is 0, return 0\n",
    "    if n == 0:\n",
    "        return 0\n",
    "    # Recursive case: Return n plus the sum of natural numbers from 0 to n-1\n",
    "    return n + natural(n - 1)\n",
    "\n",
    "# Call the natural function with n = 100\n",
    "natural(100)\n",
    "\n",
    "\n",
    "\n",
    "#time complexity:O(n),auxiallary space O(1)"
   ]
  },
  {
   "cell_type": "code",
   "execution_count": 4,
   "metadata": {},
   "outputs": [
    {
     "data": {
      "text/plain": [
       "15"
      ]
     },
     "execution_count": 4,
     "metadata": {},
     "output_type": "execute_result"
    }
   ],
   "source": [
    "natural(5)"
   ]
  },
  {
   "cell_type": "code",
   "execution_count": 5,
   "metadata": {},
   "outputs": [
    {
     "data": {
      "text/plain": [
       "120"
      ]
     },
     "execution_count": 5,
     "metadata": {},
     "output_type": "execute_result"
    }
   ],
   "source": [
    "def factorial(n):\n",
    "    # Base case: if n is 0, return 1\n",
    "    if n == 0:\n",
    "        return 1\n",
    "\n",
    "    # Recursive case: return n multiplied by factorial of (n-1)\n",
    "    return n * factorial(n-1)\n",
    "#time complexity :O(n),Auxillary space:O(n)\n",
    "\n",
    "factorial(5)"
   ]
  },
  {
   "cell_type": "code",
   "execution_count": 6,
   "metadata": {},
   "outputs": [
    {
     "data": {
      "text/plain": [
       "3628800"
      ]
     },
     "execution_count": 6,
     "metadata": {},
     "output_type": "execute_result"
    }
   ],
   "source": [
    "factorial(10)"
   ]
  },
  {
   "cell_type": "code",
   "execution_count": 7,
   "metadata": {},
   "outputs": [
    {
     "data": {
      "text/plain": [
       "25"
      ]
     },
     "execution_count": 7,
     "metadata": {},
     "output_type": "execute_result"
    }
   ],
   "source": [
    "def power(n, p):\n",
    "    # Base case: if p is 0, return 1\n",
    "    if p == 0:\n",
    "        return 1\n",
    "\n",
    "    # Recursive case: return n multiplied by power of n raised to (p-1)\n",
    "    return n * power(n, p - 1)\n",
    "#time complexity O(p),space complexity O(p)\n",
    "\n",
    "power(5,2)  "
   ]
  },
  {
   "cell_type": "code",
   "execution_count": 8,
   "metadata": {},
   "outputs": [
    {
     "data": {
      "text/plain": [
       "1267650600228229401496703205376"
      ]
     },
     "execution_count": 8,
     "metadata": {},
     "output_type": "execute_result"
    }
   ],
   "source": [
    "power(2,100)\n"
   ]
  },
  {
   "cell_type": "code",
   "execution_count": 11,
   "metadata": {},
   "outputs": [
    {
     "name": "stdout",
     "output_type": "stream",
     "text": [
      "False\n"
     ]
    }
   ],
   "source": [
    "def powerof2(n):\n",
    "    if n==0:\n",
    "        return False\n",
    "    elif n<=0 or n%2!=0:\n",
    "        return False\n",
    "    else:\n",
    "        return powerof2(n//2)\n",
    "    \n",
    "print(powerof2(16))"
   ]
  },
  {
   "cell_type": "code",
   "execution_count": 12,
   "metadata": {},
   "outputs": [],
   "source": [
    "def findmaximum(arr):\n",
    "    # Base case: if the array is empty, return None or any appropriate value\n",
    "    if len(arr) == 0:\n",
    "        return None\n",
    "\n",
    "    # Base case: if there is only one element in the array, return that element\n",
    "    if len(arr) == 1:\n",
    "        return arr[0]\n",
    "\n",
    "    # Recursive case: find the maximum between the first element and the maximum of the rest of the array\n",
    "    return max(arr[0], findmaximum(arr[1:]))\n",
    "\n",
    "     "
   ]
  },
  {
   "cell_type": "code",
   "execution_count": 13,
   "metadata": {},
   "outputs": [
    {
     "data": {
      "text/plain": [
       "8"
      ]
     },
     "execution_count": 13,
     "metadata": {},
     "output_type": "execute_result"
    }
   ],
   "source": [
    "arr = [1, 4, 3, -5, -4, 8, 6]\n",
    "findmaximum(arr)"
   ]
  },
  {
   "cell_type": "code",
   "execution_count": 14,
   "metadata": {},
   "outputs": [
    {
     "data": {
      "text/plain": [
       "18"
      ]
     },
     "execution_count": 14,
     "metadata": {},
     "output_type": "execute_result"
    }
   ],
   "source": [
    "def findproduct(arr):\n",
    "    # Base case: if the array is empty, return None or any appropriate value\n",
    "    if len(arr) == 0:\n",
    "        return None\n",
    "\n",
    "    # Base case: if there is only one element in the array, return that element\n",
    "    if len(arr) == 1:\n",
    "        return arr[0]\n",
    "\n",
    "    # Recursive case: find the maximum between the first element and the maximum of the rest of the array\n",
    "    return (arr[0]*findproduct(arr[1:]))\n",
    "\n",
    "\n",
    "arr = [1, 6, 3]\n",
    "findproduct(arr)"
   ]
  },
  {
   "cell_type": "code",
   "execution_count": 15,
   "metadata": {},
   "outputs": [
    {
     "data": {
      "text/plain": [
       "120"
      ]
     },
     "execution_count": 15,
     "metadata": {},
     "output_type": "execute_result"
    }
   ],
   "source": [
    " arr = [1, 2, 3, 4, 5]\n",
    " findproduct(arr)"
   ]
  },
  {
   "cell_type": "code",
   "execution_count": 20,
   "metadata": {},
   "outputs": [],
   "source": [
    "def arthimeatic(a,d,n):\n",
    "    if n==1:\n",
    "        return a\n",
    "    \n",
    "    return arthimeatic(a+d,d,n-1)\n",
    "    \n",
    "    "
   ]
  },
  {
   "cell_type": "code",
   "execution_count": 23,
   "metadata": {},
   "outputs": [
    {
     "data": {
      "text/plain": [
       "6"
      ]
     },
     "execution_count": 23,
     "metadata": {},
     "output_type": "execute_result"
    }
   ],
   "source": [
    "a = 2  # First term\n",
    "d = 1  # Common difference\n",
    "n = 5  # Position of the term\n",
    "\n",
    "arthimeatic(a, d, n) \n"
   ]
  },
  {
   "cell_type": "code",
   "execution_count": 24,
   "metadata": {},
   "outputs": [],
   "source": [
    "def permute(s, left, right):\n",
    "    if left == right:\n",
    "        print(\"\".join(s))\n",
    "    else:\n",
    "        for i in range(left, right + 1):\n",
    "            s[left], s[i] = s[i], s[left]  # Swap the characters\n",
    "            permute(s, left + 1, right)    # Recursively generate permutations for the remaining characters\n",
    "            s[left], s[i] = s[i], s[left]  # Undo the swap\n",
    "\n",
    "def printPermutations(string):\n",
    "    n = len(string)\n",
    "    s = list(string)\n",
    "    permute(s, 0, n - 1)\n"
   ]
  },
  {
   "cell_type": "code",
   "execution_count": 25,
   "metadata": {},
   "outputs": [
    {
     "name": "stdout",
     "output_type": "stream",
     "text": [
      "ABC\n",
      "ACB\n",
      "BAC\n",
      "BCA\n",
      "CBA\n",
      "CAB\n"
     ]
    }
   ],
   "source": [
    "string = \"ABC\"\n",
    "printPermutations(string)\n"
   ]
  },
  {
   "cell_type": "code",
   "execution_count": null,
   "metadata": {},
   "outputs": [],
   "source": []
  }
 ],
 "metadata": {
  "kernelspec": {
   "display_name": "Python 3",
   "language": "python",
   "name": "python3"
  },
  "language_info": {
   "codemirror_mode": {
    "name": "ipython",
    "version": 3
   },
   "file_extension": ".py",
   "mimetype": "text/x-python",
   "name": "python",
   "nbconvert_exporter": "python",
   "pygments_lexer": "ipython3",
   "version": "3.11.2"
  },
  "orig_nbformat": 4
 },
 "nbformat": 4,
 "nbformat_minor": 2
}
