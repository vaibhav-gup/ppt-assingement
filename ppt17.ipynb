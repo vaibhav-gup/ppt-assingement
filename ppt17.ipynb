{
 "cells": [
  {
   "cell_type": "code",
   "execution_count": 10,
   "metadata": {},
   "outputs": [],
   "source": [
    "1\n",
    "def first_non_repeating_character(s):\n",
    "    char_count = {}\n",
    "    \n",
    "    # Count the occurrences of each character\n",
    "    for char in s:\n",
    "        if char in char_count:\n",
    "            char_count[char] += 1\n",
    "        else:\n",
    "            char_count[char] = 1\n",
    "    \n",
    "    # Find the first non-repeating character and return its index\n",
    "    for index, char in enumerate(s):\n",
    "        if char_count[char] == 1:\n",
    "            return index\n",
    "    \n",
    "    return -1  # Return -1 if no non-repeating character is found\n",
    "\n",
    "                "
   ]
  },
  {
   "cell_type": "code",
   "execution_count": 12,
   "metadata": {},
   "outputs": [
    {
     "data": {
      "text/plain": [
       "0"
      ]
     },
     "execution_count": 12,
     "metadata": {},
     "output_type": "execute_result"
    }
   ],
   "source": [
    "s = \"leetcode\"\n",
    "first_non_repeating_character(s)"
   ]
  },
  {
   "cell_type": "code",
   "execution_count": 16,
   "metadata": {},
   "outputs": [],
   "source": [
    "3\n",
    "from collections import deque\n",
    "\n",
    "def stundent_sandwich(students, sandwiches):\n",
    "    student_queue = deque(students)\n",
    "    sandwich_stack = sandwiches[::-1]  # Reverse the order of sandwiches to simulate a stack\n",
    "\n",
    "    while student_queue:\n",
    "        if student_queue[0] == sandwich_stack[-1]:\n",
    "            student_queue.popleft()\n",
    "            sandwich_stack.pop()\n",
    "        else:\n",
    "            # Rotate the queue by moving the front student to the end\n",
    "            student_queue.append(student_queue.popleft())\n",
    "\n",
    "        # Check if we have rotated the queue back to its initial state\n",
    "        if student_queue[0] == student_queue[-1]:\n",
    "            break\n",
    "\n",
    "    return len(student_queue)\n"
   ]
  },
  {
   "cell_type": "code",
   "execution_count": 17,
   "metadata": {},
   "outputs": [
    {
     "data": {
      "text/plain": [
       "5"
      ]
     },
     "execution_count": 17,
     "metadata": {},
     "output_type": "execute_result"
    }
   ],
   "source": [
    "students = [1,1,1,0,0,1]\n",
    "sandwiches = [1,0,0,0,1,1]\n",
    "stundent_sandwich(students, sandwiches)"
   ]
  },
  {
   "cell_type": "code",
   "execution_count": null,
   "metadata": {},
   "outputs": [],
   "source": [
    "4\n",
    "class RecentCounter:\n",
    "    def __init__(self):\n",
    "        self.request=[]\n",
    "    def ping(self,t:int)->int:\n",
    "        self.request.append(t)\n",
    "        start_time=t-3000\n",
    "        while self.request[0]<start_time:\n",
    "            self.request.pop(0)\n",
    "        return len(self.request)\n",
    "        "
   ]
  },
  {
   "cell_type": "code",
   "execution_count": null,
   "metadata": {},
   "outputs": [
    {
     "name": "stdout",
     "output_type": "stream",
     "text": [
      "1\n"
     ]
    }
   ],
   "source": [
    "counter = RecentCounter()\n",
    "print(counter.ping(100))"
   ]
  },
  {
   "cell_type": "code",
   "execution_count": null,
   "metadata": {},
   "outputs": [],
   "source": [
    "5\n",
    "from collections import deque\n",
    "\n",
    "class MyClass:\n",
    "    def __init__(self):\n",
    "        self.queue = deque()\n",
    "\n",
    "    def clockwise(self, n, k):\n",
    "        for i in range(1, n + 1):\n",
    "            self.queue.append(i)\n",
    "        print(\"Initial queue:\", self.queue)\n",
    "\n",
    "        while len(self.queue) > 1:\n",
    "            print(\"Current queue:\", self.queue)\n",
    "            for _ in range(k - 1):\n",
    "                # Move k-1 steps in the clockwise direction\n",
    "                self.queue.rotate(-1)\n",
    "            removed_element = self.queue.popleft()\n",
    "            print(\"Removed element:\", removed_element)\n",
    "\n",
    "        print(\"Final queue:\", self.queue)\n",
    "        return self.queue[0]\n",
    "\n",
    "\n",
    "    \n"
   ]
  },
  {
   "cell_type": "code",
   "execution_count": null,
   "metadata": {},
   "outputs": [
    {
     "name": "stdout",
     "output_type": "stream",
     "text": [
      "Initial queue: deque([1, 2, 3, 4, 5])\n",
      "Current queue: deque([1, 2, 3, 4, 5])\n",
      "Removed element: 2\n",
      "Current queue: deque([3, 4, 5, 1])\n",
      "Removed element: 4\n",
      "Current queue: deque([5, 1, 3])\n",
      "Removed element: 1\n",
      "Current queue: deque([3, 5])\n",
      "Removed element: 5\n",
      "Final queue: deque([3])\n",
      "Winner: 3\n"
     ]
    }
   ],
   "source": [
    "# Create an instance of the MyClass\n",
    "my_obj = MyClass()\n",
    "\n",
    "# Call the clockwise method\n",
    "result = my_obj.clockwise(5, 2)\n",
    "\n",
    "# Print the result\n",
    "print(\"Winner:\", result)\n"
   ]
  },
  {
   "cell_type": "code",
   "execution_count": null,
   "metadata": {},
   "outputs": [
    {
     "name": "stdout",
     "output_type": "stream",
     "text": [
      "Initial queue: deque([1, 2, 3, 4, 5, 6, 7])\n",
      "Current queue: deque([1, 2, 3, 4, 5, 6, 7])\n",
      "Removed element: 4\n",
      "Current queue: deque([5, 6, 7, 1, 2, 3])\n",
      "Removed element: 7\n",
      "Current queue: deque([1, 2, 3, 5, 6])\n",
      "Removed element: 2\n",
      "Current queue: deque([3, 5, 6, 1])\n",
      "Removed element: 3\n",
      "Current queue: deque([5, 6, 1])\n",
      "Removed element: 1\n",
      "Current queue: deque([5, 6])\n",
      "Removed element: 5\n",
      "Final queue: deque([6])\n",
      "Winner: 6\n"
     ]
    }
   ],
   "source": [
    "# Create an instance of the MyClass\n",
    "my_obj = MyClass()\n",
    "\n",
    "# Call the clockwise method\n",
    "result = my_obj.clockwise(7, 3)\n",
    "\n",
    "# Print the result\n",
    "print(\"Winner:\", result)"
   ]
  },
  {
   "cell_type": "code",
   "execution_count": null,
   "metadata": {},
   "outputs": [],
   "source": [
    "from collections import deque\n",
    "\n",
    "def reveal_cards(deck):\n",
    "    # Sort the deck in descending order\n",
    "    deck.sort(reverse=True)\n",
    "    \n",
    "    # Create a deque to simulate the deck of cards\n",
    "    deck_queue = deque(deck)\n",
    "    print(\"Initial deck:\", deck_queue)\n",
    "    \n",
    "    # Create a list to store the revealed cards\n",
    "    revealed = []\n",
    "    \n",
    "    while deck_queue:\n",
    "        # Move the top card from the deck_queue to the revealed list\n",
    "        revealed.append(deck_queue.popleft())\n",
    "        print(\"Revealed cards:\", revealed)\n",
    "        \n",
    "        # If there are still cards in the deck_queue,\n",
    "        # move the next top card to the bottom of the deck\n",
    "        if deck_queue:\n",
    "            deck_queue.append(deck_queue.popleft())\n",
    "            print(\"Deck after moving card to the bottom:\", deck_queue)\n",
    "    \n",
    "    # Reverse the revealed list to obtain the ordering in increasing order\n",
    "    revealed.reverse()\n",
    "    print(\"Final ordering:\", revealed)\n",
    "    \n",
    "    return revealed\n"
   ]
  },
  {
   "cell_type": "code",
   "execution_count": null,
   "metadata": {},
   "outputs": [
    {
     "name": "stdout",
     "output_type": "stream",
     "text": [
      "Initial deck: deque([17, 13, 11, 7, 5, 3, 2])\n",
      "Revealed cards: [17]\n",
      "Deck after moving card to the bottom: deque([11, 7, 5, 3, 2, 13])\n",
      "Revealed cards: [17, 11]\n",
      "Deck after moving card to the bottom: deque([5, 3, 2, 13, 7])\n",
      "Revealed cards: [17, 11, 5]\n",
      "Deck after moving card to the bottom: deque([2, 13, 7, 3])\n",
      "Revealed cards: [17, 11, 5, 2]\n",
      "Deck after moving card to the bottom: deque([7, 3, 13])\n",
      "Revealed cards: [17, 11, 5, 2, 7]\n",
      "Deck after moving card to the bottom: deque([13, 3])\n",
      "Revealed cards: [17, 11, 5, 2, 7, 13]\n",
      "Deck after moving card to the bottom: deque([3])\n",
      "Revealed cards: [17, 11, 5, 2, 7, 13, 3]\n",
      "Final ordering: [3, 13, 7, 2, 5, 11, 17]\n",
      "Final ordering: [3, 13, 7, 2, 5, 11, 17]\n"
     ]
    }
   ],
   "source": [
    "deck = [17, 13, 11, 2, 3, 5, 7]\n",
    "result = reveal_cards(deck)\n",
    "print(\"Final ordering:\", result)\n"
   ]
  },
  {
   "cell_type": "code",
   "execution_count": 8,
   "metadata": {},
   "outputs": [],
   "source": [
    "from collections import deque\n",
    "\n",
    "def reveal_cards(deck):\n",
    "    # Step 1: Sort the deck in ascending order\n",
    "    deck.sort()\n",
    "\n",
    "    # Step 2: Create a deque to simulate the deck of cards\n",
    "    deck_queue = deque(deck)\n",
    "\n",
    "    # Step 3: Create an empty list to store the revealed cards\n",
    "    revealed = []\n",
    "\n",
    "    # Step 4: Iterate while the deck_queue is not empty\n",
    "    while deck_queue:\n",
    "        # Step 4a: Pop the leftmost card from the deck_queue and append it to the revealed list\n",
    "        revealed.append(deck_queue.popleft())\n",
    "\n",
    "        # Step 4b: If the deck_queue is not empty, pop the leftmost card again and append it to the right end of the deck_queue\n",
    "        if deck_queue:\n",
    "            deck_queue.append(deck_queue.popleft())\n",
    "\n",
    "    # Step 5: Reverse the revealed list to obtain the ordering in increasing order\n",
    "    revealed.reverse()\n",
    "\n",
    "    # Step 6: Return the revealed list\n",
    "    return revealed\n"
   ]
  },
  {
   "cell_type": "code",
   "execution_count": 9,
   "metadata": {},
   "outputs": [
    {
     "name": "stdout",
     "output_type": "stream",
     "text": [
      "Ordering of revealed cards: [13, 3, 7, 17, 11, 5, 2]\n"
     ]
    }
   ],
   "source": [
    "deck = [17, 13, 11, 2, 3, 5, 7]\n",
    "result = reveal_cards(deck)\n",
    "print(\"Ordering of revealed cards:\", result)\n"
   ]
  },
  {
   "cell_type": "code",
   "execution_count": null,
   "metadata": {},
   "outputs": [],
   "source": [
    "from collections import deque\n",
    "\n",
    "class FrontMiddleBack:\n",
    "    def __init__(self):\n",
    "        self.queue = deque()\n",
    "\n",
    "    def pushFront(self, val: int) -> None:\n",
    "        self.queue.appendleft(val)\n",
    "\n",
    "    def pushMiddle(self, val: int) -> None:\n",
    "        middle = len(self.queue) // 2\n",
    "        self.queue.insert(middle, val)\n",
    "\n",
    "    def pushBack(self, val: int) -> None:\n",
    "        self.queue.append(val)\n",
    "\n",
    "    def popFront(self) -> int:\n",
    "        if self.queue:\n",
    "            return self.queue.popleft()\n",
    "        else:\n",
    "            return -1\n",
    "\n",
    "    def popMiddle(self) -> int:\n",
    "        if self.queue:\n",
    "            middle = len(self.queue) // 2\n",
    "            return self.queue.remove(middle)\n",
    "        else:\n",
    "            return -1\n",
    "\n",
    "    def popBack(self) -> int:\n",
    "        if self.queue:\n",
    "            return self.queue.pop()\n",
    "        else:\n",
    "            return -1\n",
    "\n",
    "            \n"
   ]
  },
  {
   "cell_type": "code",
   "execution_count": 4,
   "metadata": {},
   "outputs": [],
   "source": [
    "class DataStream:\n",
    "    def __init__(self, value: int, k: int):\n",
    "        self.value = value\n",
    "        self.k = k\n",
    "        self.stream = []\n",
    "\n",
    "    def consec(self, num: int) -> bool:\n",
    "        self.stream.append(num)\n",
    "        if len(self.stream) >= self.k:\n",
    "            return self.stream[-self.k:] == [self.value] * self.k\n",
    "        else:\n",
    "            return False\n"
   ]
  },
  {
   "cell_type": "code",
   "execution_count": 5,
   "metadata": {},
   "outputs": [
    {
     "name": "stdout",
     "output_type": "stream",
     "text": [
      "False\n",
      "False\n",
      "False\n",
      "True\n",
      "False\n"
     ]
    }
   ],
   "source": [
    "data_stream = DataStream(5, 3)\n",
    "print(data_stream.consec(1))  # Output: False\n",
    "print(data_stream.consec(5))  # Output: False\n",
    "print(data_stream.consec(5))  # Output: True\n",
    "print(data_stream.consec(5))  # Output: True\n",
    "print(data_stream.consec(2))  # Output: False\n"
   ]
  },
  {
   "cell_type": "code",
   "execution_count": 18,
   "metadata": {},
   "outputs": [],
   "source": [
    "2\n",
    "def max_subarray_sum_circular(nums):\n",
    "    # Kadane's algorithm for finding maximum sum subarray (Case 1)\n",
    "    def kadane(arr):\n",
    "        max_sum = float('-inf')\n",
    "        curr_sum = 0\n",
    "        for num in arr:\n",
    "            curr_sum = max(curr_sum + num, num)\n",
    "            max_sum = max(max_sum, curr_sum)\n",
    "        return max_sum\n",
    "\n",
    "    # Case 1: Maximum sum subarray is not circular\n",
    "    max_sum_case1 = kadane(nums)\n",
    "\n",
    "    # Case 2: Maximum sum subarray is circular\n",
    "    # Find the minimum sum subarray by inverting the signs\n",
    "    min_sum = kadane([-num for num in nums])\n",
    "\n",
    "    # Calculate the total sum of all elements in the array\n",
    "    total_sum = sum(nums)\n",
    "\n",
    "    # Case 2: Compare total sum minus minimum sum with maximum sum\n",
    "    max_sum_case2 = total_sum - min_sum\n",
    "\n",
    "    # Return the maximum of Case 1 and Case 2\n",
    "    return max(max_sum_case1, max_sum_case2)\n"
   ]
  },
  {
   "cell_type": "code",
   "execution_count": 19,
   "metadata": {},
   "outputs": [
    {
     "name": "stdout",
     "output_type": "stream",
     "text": [
      "Maximum sum of a non-empty subarray: 3\n"
     ]
    }
   ],
   "source": [
    "nums = [1, -2, 3, -2]\n",
    "result = max_subarray_sum_circular(nums)\n",
    "print(\"Maximum sum of a non-empty subarray:\", result)"
   ]
  },
  {
   "cell_type": "code",
   "execution_count": null,
   "metadata": {},
   "outputs": [],
   "source": []
  }
 ],
 "metadata": {
  "kernelspec": {
   "display_name": "Python 3",
   "language": "python",
   "name": "python3"
  },
  "language_info": {
   "codemirror_mode": {
    "name": "ipython",
    "version": 3
   },
   "file_extension": ".py",
   "mimetype": "text/x-python",
   "name": "python",
   "nbconvert_exporter": "python",
   "pygments_lexer": "ipython3",
   "version": "3.11.2"
  },
  "orig_nbformat": 4
 },
 "nbformat": 4,
 "nbformat_minor": 2
}
