{
 "cells": [
  {
   "cell_type": "code",
   "execution_count": 7,
   "metadata": {},
   "outputs": [
    {
     "data": {
      "text/plain": [
       "'olleh'"
      ]
     },
     "execution_count": 7,
     "metadata": {},
     "output_type": "execute_result"
    }
   ],
   "source": [
    "def reverse_string(s):\n",
    "    if len(s)<=1:\n",
    "        return s\n",
    "    rev=\"\"\n",
    "    n=len(s)\n",
    "    for i in range (n-1,-1,-1):\n",
    "        rev+=s[i]\n",
    "    return rev\n",
    "        \n",
    "        \n",
    "reverse_string(\"hello\")"
   ]
  },
  {
   "cell_type": "code",
   "execution_count": 13,
   "metadata": {},
   "outputs": [
    {
     "data": {
      "text/plain": [
       "True"
      ]
     },
     "execution_count": 13,
     "metadata": {},
     "output_type": "execute_result"
    }
   ],
   "source": [
    "def check_palindrome(str):\n",
    "    if len(str)<=1:\n",
    "        return str\n",
    "    \n",
    "    start=0\n",
    "    end=len(str)-1\n",
    "    while start<=end:\n",
    "        if str[start]==str[end]:\n",
    "            start+=1\n",
    "            end-=1\n",
    "        else:\n",
    "            return False\n",
    "    return True\n",
    "\n",
    "check_palindrome(\"nitin\")"
   ]
  },
  {
   "cell_type": "code",
   "execution_count": 15,
   "metadata": {},
   "outputs": [
    {
     "name": "stdout",
     "output_type": "stream",
     "text": [
      "9\n"
     ]
    }
   ],
   "source": [
    "def largest_element(list):\n",
    "    if len(list)<=1:\n",
    "        return list\n",
    "    list.sort()\n",
    "    print(list[-1])\n",
    "\n",
    "\n",
    "list=[0,9,8,7,6,5,4,3,2,1]\n",
    "largest_element(list)"
   ]
  },
  {
   "cell_type": "code",
   "execution_count": 16,
   "metadata": {},
   "outputs": [
    {
     "name": "stdout",
     "output_type": "stream",
     "text": [
      "8\n"
     ]
    }
   ],
   "source": [
    "def second_largest_element(list):\n",
    "    if len(list)<=1:\n",
    "        return list\n",
    "    list.sort()\n",
    "    print(list[-2])\n",
    "\n",
    "\n",
    "list=[0,9,8,7,6,5,4,3,2,1]\n",
    "second_largest_element(list)"
   ]
  },
  {
   "cell_type": "code",
   "execution_count": 30,
   "metadata": {},
   "outputs": [
    {
     "data": {
      "text/plain": [
       "[3, 4]"
      ]
     },
     "execution_count": 30,
     "metadata": {},
     "output_type": "execute_result"
    }
   ],
   "source": [
    "def occurance(lis):\n",
    "    if len(lis)<=1:\n",
    "        return list\n",
    "    count=1\n",
    "    new=[]\n",
    "    list.sort()\n",
    "    for i in range (len(lis)-1):\n",
    "        if lis[i]==lis[i+1]:\n",
    "            count+=1\n",
    "        else:\n",
    "            new.append(count)\n",
    "            count=1\n",
    "        \n",
    "    new.append(count)        \n",
    "    return new\n",
    "   \n",
    "list=[2,2,1,1,1,2,2]\n",
    "occurance(list)  \n",
    "            "
   ]
  },
  {
   "cell_type": "code",
   "execution_count": 36,
   "metadata": {},
   "outputs": [
    {
     "data": {
      "text/plain": [
       "{0, 1, 2, 3, 4, 5, 6, 7, 8, 9}"
      ]
     },
     "execution_count": 36,
     "metadata": {},
     "output_type": "execute_result"
    }
   ],
   "source": [
    "def duplicate(lis):\n",
    "    if len(lis)<=1:\n",
    "        return lis\n",
    "    lis.sort()\n",
    "    new=[]\n",
    "    for i in range(len(lis)-1):\n",
    "        if lis[i]!=lis[i+1]:\n",
    "            new.append(lis[i])\n",
    "    return new\n",
    "   \n",
    "lis=[0,9,8,7,6,5,4,3,2,1,1,2,3,4,5]\n",
    "duplicate(lis)\n",
    "\n",
    "\n",
    "    "
   ]
  },
  {
   "cell_type": "code",
   "execution_count": 37,
   "metadata": {},
   "outputs": [
    {
     "data": {
      "text/plain": [
       "{0, 1, 2, 3, 4, 5, 6, 7, 8, 9}"
      ]
     },
     "execution_count": 37,
     "metadata": {},
     "output_type": "execute_result"
    }
   ],
   "source": [
    "def duplicate2(lit):\n",
    "    if len(lis)<=1:\n",
    "        return lis\n",
    "    lit=set(lit)\n",
    "    return lit\n",
    "lis=[0,9,8,7,6,5,4,3,2,1,1,2,3,4,5]\n",
    "duplicate2(lis)"
   ]
  },
  {
   "cell_type": "code",
   "execution_count": 43,
   "metadata": {},
   "outputs": [
    {
     "data": {
      "text/plain": [
       "120"
      ]
     },
     "execution_count": 43,
     "metadata": {},
     "output_type": "execute_result"
    }
   ],
   "source": [
    "def factioral(n):\n",
    "    if n==0:\n",
    "        return 1\n",
    "    \n",
    "    return n*factioral(n-1)\n",
    "\n",
    "factioral(5)\n",
    "\n",
    "       "
   ]
  },
  {
   "cell_type": "code",
   "execution_count": 44,
   "metadata": {},
   "outputs": [],
   "source": [
    "def primr_no(n):\n",
    "    if n==0:\n",
    "        return None\n",
    "    \n",
    "    for i in range(2,n-1):\n",
    "        if i%1==0:\n",
    "            return False\n",
    "        \n",
    "    return True"
   ]
  },
  {
   "cell_type": "code",
   "execution_count": 45,
   "metadata": {},
   "outputs": [],
   "source": [
    "def sorting(lis):\n",
    "    lis.sort()\n",
    "    print(lis)\n",
    "#or   \n",
    "def sorting2(lis):\n",
    "    for i in range (len(lis)-1):\n",
    "        if lis[i]>lis[i+1]:\n",
    "            lis[i],lis[i+1]=lis[i+1],lis[i]\n",
    "        return lis"
   ]
  },
  {
   "cell_type": "code",
   "execution_count": 46,
   "metadata": {},
   "outputs": [],
   "source": [
    "def sum(lis):\n",
    "    s=0\n",
    "    for i in range (len(lis)):\n",
    "        s+=lis[i]\n",
    "    return s"
   ]
  },
  {
   "cell_type": "code",
   "execution_count": 1,
   "metadata": {},
   "outputs": [],
   "source": [
    "def same_elements(lis1,lis2):\n",
    "    if len(lis1)<1 or len(lis2)<1:\n",
    "        return None\n",
    "    \n",
    "    lis=[]\n",
    "    for i in range(len(lis1)):\n",
    "        for j in range (len(lis2)):\n",
    "            if lis1[i]==lis2[j]:\n",
    "                lis.append(lis1[i])\n",
    "                \n",
    "    return lis"
   ]
  },
  {
   "cell_type": "code",
   "execution_count": 3,
   "metadata": {},
   "outputs": [
    {
     "name": "stdout",
     "output_type": "stream",
     "text": [
      "listen and silent are anagrams.\n"
     ]
    }
   ],
   "source": [
    "def is_anagram(str1, str2):\n",
    "    # Remove any whitespace and convert strings to lowercase\n",
    "    str1 = str1.replace(\" \", \"\").lower()\n",
    "    str2 = str2.replace(\" \", \"\").lower()\n",
    "    \n",
    "    # Check if the lengths of the strings are different\n",
    "    if len(str1) != len(str2):\n",
    "        return False\n",
    "    \n",
    "    # Count the occurrences of each character in both strings\n",
    "    char_count = {}\n",
    "    for char in str1:\n",
    "        if char in char_count:\n",
    "            char_count[char] += 1\n",
    "        else:\n",
    "            char_count[char] = 1\n",
    "    \n",
    "    # Subtract the counts for characters in str2\n",
    "    for char in str2:\n",
    "        if char in char_count:\n",
    "            char_count[char] -= 1\n",
    "        else:\n",
    "            # Found a character in str2 that is not in str1\n",
    "            return False\n",
    "    \n",
    "    # Check if all character counts are zero\n",
    "    for count in char_count.values():\n",
    "        if count != 0:\n",
    "            return False\n",
    "    \n",
    "    # If all checks pass, the strings are anagrams\n",
    "    return True\n",
    "\n",
    "# Example usage:\n",
    "str1 = \"listen\"\n",
    "str2 = \"silent\"\n",
    "if is_anagram(str1, str2):\n",
    "    print(f\"{str1} and {str2} are anagrams.\")\n",
    "else:\n",
    "    print(f\"{str1} and {str2} are not anagrams.\")\n"
   ]
  },
  {
   "cell_type": "code",
   "execution_count": 5,
   "metadata": {},
   "outputs": [],
   "source": [
    "def fibonacci_serise(n):\n",
    "    seq=[]\n",
    "    \n",
    "    if n>=1:\n",
    "        seq.append(0)\n",
    "    if n>=2:\n",
    "        seq.append(1)\n",
    "        \n",
    "    for i in range (2,n):\n",
    "        new_no=seq[i-1]+seq[i-2]\n",
    "        seq.append(new_no)\n",
    "    return seq"
   ]
  },
  {
   "cell_type": "code",
   "execution_count": 7,
   "metadata": {},
   "outputs": [],
   "source": [
    "def median_of_list(lis):\n",
    "    if len(lis)<=1:\n",
    "        return lis\n",
    "    lis.sort()\n",
    "    mid=len(lis)%2\n",
    "    if mid==0:\n",
    "        median=lis[mid]\n",
    "    else:\n",
    "        median= lis[mid-1]+lis[mid]\n",
    "    return median\n",
    "        \n",
    "        "
   ]
  },
  {
   "cell_type": "code",
   "execution_count": 14,
   "metadata": {},
   "outputs": [
    {
     "name": "stdout",
     "output_type": "stream",
     "text": [
      "True\n",
      "False\n"
     ]
    }
   ],
   "source": [
    "def ascending_order(arr):\n",
    "    if len(arr)<=1:\n",
    "        return arr\n",
    "    for i in range (len(arr)-1):\n",
    "        if arr[i]>arr[i+1]:\n",
    "            return False\n",
    "       \n",
    "    return True\n",
    "     \n",
    "arr1 = [1, 2, 3, 4, 5]\n",
    "arr2 = [1, 3, 2, 4, 5]\n",
    "print(ascending_order(arr1))  \n",
    "print(ascending_order(arr2))   \n",
    "            "
   ]
  },
  {
   "cell_type": "code",
   "execution_count": 16,
   "metadata": {},
   "outputs": [],
   "source": [
    "def list_intersection(l1,l2):\n",
    "    if len(l1)<1 or len(l2)<1:\n",
    "        return None\n",
    "    \n",
    "    l1=set(l1)\n",
    "    l2=set(l2)\n",
    "    intersection_set=set.intersection(l1,l2)\n",
    "    print(intersection_set)\n",
    "    \n",
    "#or \n",
    "\n",
    "def list_intersection(l1,l2):\n",
    "    if len(l1)<1 or len(l2)<1:\n",
    "        return None\n",
    "    \n",
    "    intersection_set=[]\n",
    "    i=j=0\n",
    "    while i<=len(l1) and j<=len(l2):\n",
    "        if l1[i]==l2[j]:\n",
    "            intersection_set.append(l1[i])\n",
    "    return intersection_set\n",
    "    "
   ]
  },
  {
   "cell_type": "code",
   "execution_count": 18,
   "metadata": {},
   "outputs": [],
   "source": [
    "def max_subarray_sum(arr):\n",
    "    if len(arr)<2:\n",
    "        return arr\n",
    "    \n",
    "    curr_sum=arr[0]\n",
    "    global_sum=arr[0]\n",
    "    \n",
    "    endIndex = 0\n",
    "    startIndex = 0\n",
    "    globalMaxStartIndex = 0\n",
    "    \n",
    "    for i in range (1,len(arr)):\n",
    "        if arr[i]>arr[i]+curr_sum:\n",
    "            curr_sum=arr[i]\n",
    "            startIndex=0\n",
    "            \n",
    "        elif arr[i]<arr[i]+curr_sum:\n",
    "            curr_sum+=arr[i]\n",
    "            \n",
    "        if curr_sum> global_sum:\n",
    "            global_sum=curr_sum\n",
    "            globalMaxStartIndex=startIndex\n",
    "        for i in range(globalMaxStartIndex, endIndex + 1):\n",
    "            print(arr[i], end=' ')\n",
    "            \n",
    "            \n",
    "    \n",
    "    "
   ]
  },
  {
   "cell_type": "code",
   "execution_count": 98,
   "metadata": {},
   "outputs": [],
   "source": [
    "def max_subarray_sum(nums):\n",
    "    if not nums:\n",
    "        return 0\n",
    "\n",
    "    max_sum = current_sum = nums[0]\n",
    "\n",
    "    for i in range(1, len(nums)):\n",
    "        current_sum = max(nums[i], current_sum + nums[i])\n",
    "        max_sum = max(max_sum, current_sum)\n",
    "\n",
    "    return max_sum\n"
   ]
  },
  {
   "cell_type": "code",
   "execution_count": 20,
   "metadata": {},
   "outputs": [],
   "source": [
    "def vowelstring(str):\n",
    "    if len(str)<1:\n",
    "        return \"\"\n",
    "    \n",
    "    str.lower()\n",
    "\n",
    "    vowel=[\"a\",\"e\",\"i\",\"o\",\"u\"]\n",
    "    result=\"\"\n",
    "    for char in str:\n",
    "        if char not in vowel:\n",
    "            result+=char\n",
    "    return result\n",
    "    \n",
    "    "
   ]
  },
  {
   "cell_type": "code",
   "execution_count": 21,
   "metadata": {},
   "outputs": [],
   "source": [
    "def permute(s, left, right):\n",
    "    if left == right:\n",
    "        print(\"\".join(s))\n",
    "    else:\n",
    "        for i in range(left, right + 1):\n",
    "            s[left], s[i] = s[i], s[left]  # Swap the characters\n",
    "            permute(s, left + 1, right)    # Recursively generate permutations for the remaining characters\n",
    "            s[left], s[i] = s[i], s[left]  # Undo the swap\n",
    "\n",
    "def printPermutations(string):\n",
    "    n = len(string)\n",
    "    s = list(string)\n",
    "    permute(s, 0, n - 1)\n"
   ]
  },
  {
   "cell_type": "code",
   "execution_count": 22,
   "metadata": {},
   "outputs": [],
   "source": [
    "def reversed_sentence(word):\n",
    "    words = sentence.split(\" \")\n",
    "    reversed_sentence = \" \".join(reversed(words))\n",
    "    print(\"Reversed String:\", reversed_sentence)\n",
    "        "
   ]
  },
  {
   "cell_type": "code",
   "execution_count": 26,
   "metadata": {},
   "outputs": [],
   "source": [
    "def non_repeating(word):\n",
    "    if len(word) < 2:\n",
    "        return word\n",
    "\n",
    "    for i in range(len(word)):\n",
    "        is_unique = True\n",
    "        for j in range(len(word)):\n",
    "            if i != j and word[i] == word[j]:\n",
    "                is_unique = False\n",
    "                break\n",
    "        if is_unique:\n",
    "            return word[i]\n",
    "\n",
    "    \n",
    "        \n",
    "        \n",
    "        "
   ]
  },
  {
   "cell_type": "code",
   "execution_count": 28,
   "metadata": {},
   "outputs": [],
   "source": [
    "def poewr_of_two(n):\n",
    "    if n<=0:\n",
    "        return False\n",
    "    \n",
    "    while n>1:\n",
    "        if n%2!=0:\n",
    "            return False\n",
    "        \n",
    "        n=n//2\n",
    "    return true\n",
    "        \n",
    "    "
   ]
  },
  {
   "cell_type": "code",
   "execution_count": 31,
   "metadata": {},
   "outputs": [],
   "source": [
    "def merge_list(l1,l2):\n",
    "    l3=[]\n",
    "    for i in range (len(l1)):\n",
    "        for j in range (len(l2)):\n",
    "            if l1[i]>l2[j]:\n",
    "                l3.append(l1[i])\n",
    "            else:\n",
    "                l3.append(l2[j])\n",
    "                \n",
    "    for i in range (len(l3)-1):\n",
    "        if l3[i]>l3[i+1]:\n",
    "            l3[i],l3[i+1]=l3[i+1],l3[i]\n",
    "    return l3"
   ]
  },
  {
   "cell_type": "code",
   "execution_count": 33,
   "metadata": {},
   "outputs": [
    {
     "name": "stdout",
     "output_type": "stream",
     "text": [
      "Mode: 4\n"
     ]
    }
   ],
   "source": [
    "def find_mode(arr):\n",
    "    if len(arr) <= 1:\n",
    "        return arr\n",
    "    \n",
    "    arr.sort()\n",
    "    count = 1\n",
    "    max_count = 0\n",
    "    mode = None\n",
    "    \n",
    "    for i in range(len(arr) - 1):\n",
    "        if arr[i] == arr[i+1]:\n",
    "            count += 1\n",
    "        else:\n",
    "            if count > max_count:\n",
    "                max_count = count\n",
    "                mode = arr[i]\n",
    "            count = 1\n",
    "    \n",
    "    # Check the count of the last element\n",
    "    if count > max_count:\n",
    "        mode = arr[-1]\n",
    "    \n",
    "    return mode\n",
    "\n",
    "# Example usage:\n",
    "array = [1, 2, 2, 3, 3, 3, 4, 4, 4, 4]\n",
    "mode_value = find_mode(array)\n",
    "print(\"Mode:\", mode_value)\n",
    "\n",
    "        "
   ]
  },
  {
   "cell_type": "code",
   "execution_count": 34,
   "metadata": {},
   "outputs": [],
   "source": [
    "import math\n",
    "\n",
    "def square_root(n):\n",
    "    if n<=0:\n",
    "        return n\n",
    "    root=math.isqrt(n)\n",
    "    return root\n",
    "    "
   ]
  },
  {
   "cell_type": "code",
   "execution_count": 40,
   "metadata": {},
   "outputs": [
    {
     "name": "stdout",
     "output_type": "stream",
     "text": [
      "False\n",
      "True\n",
      "False\n"
     ]
    }
   ],
   "source": [
    "def palindrome_string(text):\n",
    "    new_string = \"\"\n",
    "    for char in text:\n",
    "        if char.isalnum():\n",
    "            new_string += char\n",
    "\n",
    "    left = 0\n",
    "    right = len(new_string) - 1\n",
    "    while left <= right:\n",
    "        if new_string[left] == new_string[right]:\n",
    "            left += 1\n",
    "            right -= 1\n",
    "        else:\n",
    "            return False\n",
    "    return True\n",
    "\n",
    "# Example usage:\n",
    "text1 = \"A man, a plan, a canal: Panama\"\n",
    "text2 = \"racecar\"\n",
    "text3 = \"hello\"\n",
    "\n",
    "print(palindrome_string(text1))  # True\n",
    "print(palindrome_string(text2))  # True\n",
    "print(palindrome_string(text3))  # False\n",
    "  "
   ]
  },
  {
   "cell_type": "code",
   "execution_count": 42,
   "metadata": {},
   "outputs": [],
   "source": [
    "def rotated_array(arr):\n",
    "    n=len(arr)\n",
    "    l-0\n",
    "    r=n-1\n",
    "    while l<r:\n",
    "        if arr[l]<arr[r]:\n",
    "            return arr[l]\n",
    "        mid=1+(r-1)//2\n",
    "        if arr[mid]>arr[r]:\n",
    "            l=mid+1# using for recursive approach replace it rotated_arrary(arr,mid+1,r)\n",
    "        else:\n",
    "            r=midusing #for recursive approach replace it rotated_arrary(arr,l,mid)\n",
    "    return arr[l]"
   ]
  },
  {
   "cell_type": "code",
   "execution_count": 44,
   "metadata": {},
   "outputs": [],
   "source": [
    "def even_sum(arr):\n",
    "    if len(arr)<=1:\n",
    "        return arr\n",
    "    sum=0\n",
    "    for i in range (len(arr)):\n",
    "        if arr[i]%2==0:\n",
    "            sum+=arr[i]\n",
    "    return sum\n",
    "        "
   ]
  },
  {
   "cell_type": "code",
   "execution_count": 45,
   "metadata": {},
   "outputs": [
    {
     "name": "stdout",
     "output_type": "stream",
     "text": [
      "2 raised to the power of 3 is: 8\n"
     ]
    }
   ],
   "source": [
    "def power(base, exponent):\n",
    "    if exponent == 0:\n",
    "        return 1\n",
    "    elif exponent < 0:\n",
    "        return 1 / power(base, -exponent)\n",
    "    else:\n",
    "        return base * power(base, exponent - 1)\n",
    "\n",
    "# Example usage:\n",
    "base = 2\n",
    "exponent = 3\n",
    "result = power(base, exponent)\n",
    "print(f\"{base} raised to the power of {exponent} is: {result}\")\n"
   ]
  },
  {
   "cell_type": "code",
   "execution_count": 46,
   "metadata": {},
   "outputs": [],
   "source": [
    "def duplicate(lis):\n",
    "    if len(lis)<=1:\n",
    "        return lis\n",
    "    result=[]\n",
    "    for i in range (len(lis)):\n",
    "        if lis[i] not in result:\n",
    "            result.append(lis[i])\n",
    "    return result"
   ]
  },
  {
   "cell_type": "code",
   "execution_count": 47,
   "metadata": {},
   "outputs": [
    {
     "name": "stdout",
     "output_type": "stream",
     "text": [
      "Longest Common Prefix: fl\n"
     ]
    }
   ],
   "source": [
    "def longest_common_prefix(strs):\n",
    "    if not strs:  # If the list is empty\n",
    "        return \"\"\n",
    "\n",
    "    prefix = \"\"\n",
    "    for i in range(len(strs[0])):\n",
    "        current_char = strs[0][i]\n",
    "        for j in range(1, len(strs)):\n",
    "            if i >= len(strs[j]) or strs[j][i] != current_char:\n",
    "                return prefix\n",
    "        prefix += current_char\n",
    "\n",
    "    return prefix\n",
    "\n",
    "# Example usage:\n",
    "strings = [\"flower\", \"flow\", \"flight\"]\n",
    "common_prefix = longest_common_prefix(strings)\n",
    "print(\"Longest Common Prefix:\", common_prefix)\n"
   ]
  },
  {
   "cell_type": "code",
   "execution_count": 50,
   "metadata": {},
   "outputs": [],
   "source": [
    "import math\n",
    "def prefect_square(n):\n",
    "    if n<0:\n",
    "        return none  \n",
    "    \n",
    "    sqrt=matn.isqrt(n)\n",
    "    return sqrt*sqrt==n\n",
    "       \n",
    "    \n",
    "      \n",
    "        "
   ]
  },
  {
   "cell_type": "code",
   "execution_count": 52,
   "metadata": {},
   "outputs": [],
   "source": [
    "def product_list(arr):\n",
    "    if len(arr)<=1:\n",
    "        return arr\n",
    "    product=1\n",
    "    for i in range (len(arr)):\n",
    "        product*=arr[i]\n",
    "    return product\n",
    "        "
   ]
  },
  {
   "cell_type": "code",
   "execution_count": 56,
   "metadata": {},
   "outputs": [],
   "source": [
    "def reverse_order(text):\n",
    "    if len(text)<=0:\n",
    "        return \"\"\n",
    "    \n",
    "    result=\"\"\n",
    "    for i in range (len(text)-1,-1,-1):\n",
    "        result+=text[i]\n",
    "    return result\n",
    "#or\n",
    "def reverse_order(text):\n",
    "    if len(text)<=0:\n",
    "        return \"\"\n",
    "    \n",
    "    result=text[::-1]\n",
    "    return result\n",
    "    \n",
    "  #or  \n",
    "def reverse_order(text):\n",
    "    if len(text) <= 0:\n",
    "        return \"\"\n",
    "    \n",
    "    result = ''.join(reversed(text))\n",
    "    return result\n",
    "        "
   ]
  },
  {
   "cell_type": "code",
   "execution_count": 59,
   "metadata": {},
   "outputs": [],
   "source": [
    "def missing_number(arr):\n",
    "    if len(arr)<=1:\n",
    "        return arr\n",
    "    arr.sort()\n",
    "    for i in range(len(arr)-1):\n",
    "        if arr[i+1]!=arr[i]+1:\n",
    "            return arr[i]+1\n",
    "    return no_missing\n",
    "        "
   ]
  },
  {
   "cell_type": "code",
   "execution_count": 63,
   "metadata": {},
   "outputs": [
    {
     "data": {
      "text/plain": [
       "15"
      ]
     },
     "execution_count": 63,
     "metadata": {},
     "output_type": "execute_result"
    }
   ],
   "source": [
    "def sum_of_digit(digit):\n",
    "    sum=0\n",
    "    while digit!=0:\n",
    "        last_digit=digit%10\n",
    "        digit=digit//10\n",
    "        sum+=last_digit\n",
    "    return sum\n",
    "\n",
    "\n",
    "digit=12345 \n",
    "sum_of_digit(digit)\n",
    "    "
   ]
  },
  {
   "cell_type": "code",
   "execution_count": 65,
   "metadata": {},
   "outputs": [],
   "source": [
    "def palindrome_string(text):\n",
    "    left = 0\n",
    "    right = len(text) - 1\n",
    "    while left <= right:\n",
    "        if text[left] != text[right]:\n",
    "            return False\n",
    "            \n",
    "        else:\n",
    "            left += 1\n",
    "            right -= 1\n",
    "            \n",
    "    return True"
   ]
  },
  {
   "cell_type": "code",
   "execution_count": 69,
   "metadata": {},
   "outputs": [
    {
     "name": "stdout",
     "output_type": "stream",
     "text": [
      "2\n"
     ]
    }
   ],
   "source": [
    "def find_smallest_positive_integer(arr):\n",
    "    left = 0\n",
    "    right = len(arr) - 1\n",
    "    smallest = None\n",
    "    \n",
    "    \n",
    "    arr.sort()\n",
    "    while left <= right:\n",
    "        mid = (left + right) // 2\n",
    "        if arr[mid] <= 0:\n",
    "            left = mid + 1\n",
    "        else:\n",
    "            smallest = arr[mid]\n",
    "            right = mid - 1\n",
    "\n",
    "    return smallest\n",
    "    \n",
    "array = [0,-5, 2,-3, 4, 6, -1]\n",
    "sorted_array = sorted(array)  # Sorting the array in ascending order\n",
    "result = find_smallest_positive_integer(sorted_array)\n",
    "print(result)   "
   ]
  },
  {
   "cell_type": "code",
   "execution_count": 96,
   "metadata": {},
   "outputs": [],
   "source": [
    "def longest_palindrome(s):\n",
    "    n = len(s)\n",
    "    if n < 2:\n",
    "        return s\n",
    "\n",
    "    start, max_len = 0, 1  # Initialize start index and maximum length of palindrome substring\n",
    "\n",
    "    # Create a table to store the results of subproblems\n",
    "    dp = [[False] * n for _ in range(n)]\n",
    "\n",
    "    # Every individual character is a palindrome of length 1\n",
    "    for i in range(n):\n",
    "        dp[i][i] = True\n",
    "\n",
    "    # Check for palindromes of length 2\n",
    "    for i in range(n - 1):\n",
    "        if s[i] == s[i + 1]:\n",
    "            dp[i][i + 1] = True\n",
    "            start = i\n",
    "            max_len = 2\n",
    "\n",
    "    # Check for palindromes of length greater than 2\n",
    "    for length in range(3, n + 1):\n",
    "        for i in range(n - length + 1):\n",
    "            j = i + length - 1\n",
    "            if s[i] == s[j] and dp[i + 1][j - 1]:\n",
    "                dp[i][j] = True\n",
    "                start = i\n",
    "                max_len = length\n",
    "\n",
    "    return s[start : start + max_len]\n",
    "\n",
    "            \n",
    "        "
   ]
  },
  {
   "cell_type": "code",
   "execution_count": 87,
   "metadata": {},
   "outputs": [
    {
     "name": "stdout",
     "output_type": "stream",
     "text": [
      "[1, 1, 2, 2, 2, 3, 3, 3, 4, 4]\n",
      "[2, 3, 3, 2]\n"
     ]
    }
   ],
   "source": [
    "def occurrence_of_num(arr):\n",
    "    if len(arr) <= 0:\n",
    "        return []\n",
    "    count = 1\n",
    "    occurrence = []\n",
    "    arr.sort()\n",
    "    print(arr)\n",
    "    for i in range(len(arr) - 1):\n",
    "        if arr[i] == arr[i + 1]:\n",
    "            count += 1\n",
    "        else:\n",
    "            occurrence.append(count)\n",
    "            count = 1\n",
    "    occurrence.append(count)  # Add the count for the last element\n",
    "    return occurrence\n",
    "\n",
    "# Example usage\n",
    "array = [3, 1, 2, 2, 1, 3, 2, 4, 4, 3]\n",
    "result = occurrence_of_num(array)\n",
    "print(result)  # Output: [2, 2, 2, 3, 3, 4, 4, 4, 5, 5]\n"
   ]
  },
  {
   "cell_type": "code",
   "execution_count": 93,
   "metadata": {},
   "outputs": [
    {
     "data": {
      "text/plain": [
       "True"
      ]
     },
     "execution_count": 93,
     "metadata": {},
     "output_type": "execute_result"
    }
   ],
   "source": [
    "def perfect_number(n):\n",
    "    if n==0:\n",
    "        return n\n",
    "    sum=0\n",
    "    \n",
    "    for i in range (1,n):\n",
    "        if n%i==0:\n",
    "            sum+=i\n",
    "            \n",
    "    if sum!=n:\n",
    "        return False\n",
    "    return True \n",
    "\n",
    "\n",
    "perfect_number(6)"
   ]
  },
  {
   "cell_type": "code",
   "execution_count": 94,
   "metadata": {},
   "outputs": [],
   "source": [
    "def duplicate_char(txt):\n",
    "    if len(txt)<=0:\n",
    "        return \"\"\n",
    "    result=\"\"\n",
    "    for char in txt:\n",
    "        if char not in result:\n",
    "            result+=char\n",
    "    return result"
   ]
  },
  {
   "cell_type": "code",
   "execution_count": 95,
   "metadata": {},
   "outputs": [],
   "source": [
    "def find_first_missing_positive(nums):\n",
    "    n = len(nums)\n",
    "    left, right = 0, n - 1\n",
    "\n",
    "    # Check if the first missing positive is 1\n",
    "    if nums[0] > 1:\n",
    "        return 1\n",
    "\n",
    "    while left <= right:\n",
    "        mid = (left + right) // 2\n",
    "\n",
    "        # If the mid element is equal to mid + 1, the missing positive is on the right side\n",
    "        if nums[mid] == mid + 1:\n",
    "            left = mid + 1\n",
    "        else:\n",
    "            # If the mid element is not equal to mid + 1, the missing positive is on the left side\n",
    "            if mid == 0 or nums[mid - 1] == mid:\n",
    "                return mid + 1\n",
    "            right = mid - 1\n",
    "\n",
    "    # All elements are present from 1 to n, so the missing positive is n + 1\n",
    "    return n + 1\n"
   ]
  },
  {
   "cell_type": "code",
   "execution_count": 97,
   "metadata": {},
   "outputs": [
    {
     "data": {
      "text/plain": [
       "5"
      ]
     },
     "execution_count": 97,
     "metadata": {},
     "output_type": "execute_result"
    }
   ],
   "source": [
    "def gcd(a, b):\n",
    "    while b != 0:\n",
    "        a, b = b, a % b\n",
    "    return a\n",
    "\n",
    "gcd(20, 15)\n"
   ]
  },
  {
   "cell_type": "code",
   "execution_count": null,
   "metadata": {},
   "outputs": [],
   "source": []
  }
 ],
 "metadata": {
  "kernelspec": {
   "display_name": "Python 3",
   "language": "python",
   "name": "python3"
  },
  "language_info": {
   "codemirror_mode": {
    "name": "ipython",
    "version": 3
   },
   "file_extension": ".py",
   "mimetype": "text/x-python",
   "name": "python",
   "nbconvert_exporter": "python",
   "pygments_lexer": "ipython3",
   "version": "3.11.4"
  },
  "orig_nbformat": 4
 },
 "nbformat": 4,
 "nbformat_minor": 2
}
