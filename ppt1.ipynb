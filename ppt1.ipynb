{
 "cells": [
  {
   "cell_type": "code",
   "execution_count": null,
   "metadata": {},
   "outputs": [
    {
     "ename": "",
     "evalue": "",
     "output_type": "error",
     "traceback": [
      "\u001b[1;31mRunning cells with 'c:\\Users\\Vaibhav Gupta\\AppData\\Local\\Microsoft\\WindowsApps\\python3.10.exe' requires the ipykernel package.\n",
      "\u001b[1;31mRun the following command to install 'ipykernel' into the Python environment. \n",
      "\u001b[1;31mCommand: '\"c:/Users/Vaibhav Gupta/AppData/Local/Microsoft/WindowsApps/python3.10.exe\" -m pip install ipykernel -U --user --force-reinstall'"
     ]
    }
   ],
   "source": [
    "1\n",
    "def target(nums, target):\n",
    "    n = len(nums)\n",
    "    sum = 0\n",
    "    i = 0\n",
    "    for j in range(i + 1, n):  # Outer loop iterating over n elements\n",
    "        sum = nums[i] + nums[j]\n",
    "        if sum == target:\n",
    "            return (i, j)  # Return the indices of the pair that sums up to the target\n",
    "        else:\n",
    "            sum = 0\n",
    "            \n",
    "            \n",
    "the time complexity is O(n).\n",
    " Space Complexity: O(1)"
   ]
  },
  {
   "cell_type": "code",
   "execution_count": null,
   "metadata": {},
   "outputs": [],
   "source": [
    "#2\n",
    "def target(nums, target):\n",
    "    n = len(nums)\n",
    "    sum = 0\n",
    "    i = 0\n",
    "    for j in range(i + 1, n):  # Outer loop iterating over n elements\n",
    "        sum = nums[i] + nums[j]  # Calculate the sum of the pair at indices i and j\n",
    "        if sum == target:\n",
    "            return (i, j)  # Return the indices of the pair that sums up to the target\n",
    "        else:\n",
    "            sum = 0  # Reset the sum to 0 for the next iteration\n",
    "\n",
    "\n",
    "Time Complexity: O(n)\n",
    "Space Complexity: O(1)"
   ]
  },
  {
   "cell_type": "code",
   "execution_count": null,
   "metadata": {},
   "outputs": [],
   "source": [
    "#3\n",
    "def check(arr, k):\n",
    "    n = len(arr)\n",
    "    left, right = 0, n - 1\n",
    "    \n",
    "    while left <= right:\n",
    "        mid = (left + right) // 2# initalizing the middle index\n",
    "        \n",
    "        if arr[mid] == k:\n",
    "            return mid#if no found it middle  return mid index\n",
    "        elif arr[mid] < k:\n",
    "            left = mid + #if no not found it middle  left  index\n",
    "        else:\n",
    "            right = mid - 1#if no not found it rigth  left  index\n",
    "    \n",
    "    return left #By returning the value of left at the end, we indicate the index where the target value would be inserted in the sorted array.\n",
    " \n",
    " #O(log n) runtime complexity\n",
    " # Space Complexity: O(1)"
   ]
  },
  {
   "cell_type": "code",
   "execution_count": null,
   "metadata": {},
   "outputs": [
    {
     "ename": "",
     "evalue": "",
     "output_type": "error",
     "traceback": [
      "\u001b[1;31mRunning cells with 'c:\\Users\\Vaibhav Gupta\\AppData\\Local\\Microsoft\\WindowsApps\\python3.10.exe' requires the ipykernel package.\n",
      "\u001b[1;31mRun the following command to install 'ipykernel' into the Python environment. \n",
      "\u001b[1;31mCommand: '\"c:/Users/Vaibhav Gupta/AppData/Local/Microsoft/WindowsApps/python3.10.exe\" -m pip install ipykernel -U --user --force-reinstall'"
     ]
    }
   ],
   "source": [
    "#4\n",
    "def oneplus(digits):\n",
    "    n = len(digits)\n",
    "    \n",
    "    for i in range(n - 1, -1, -1):  # Iterate through the digits from right to left\n",
    "        if digits[i] < 9:\n",
    "            digits[i] += 1  # Increment the current digit by 1\n",
    "            return digits\n",
    "        else:\n",
    "            digits[i] = 0  # Set the current digit to 0 if it is 9\n",
    "        \n",
    "    return [1] + digits  # If all digits were 9, add a new digit 1 at the beginning\n",
    "\n",
    "#Time complexity is :O(n)\n",
    "#space complexity is :O(1)\n",
    "    "
   ]
  },
  {
   "cell_type": "code",
   "execution_count": null,
   "metadata": {},
   "outputs": [],
   "source": [
    "#5\n",
    "def merge(num1, num2, m, n):\n",
    "    copynum1 = num1[:m]  # Create a copy of num1 with only the valid elements\n",
    "    p1 = p2 = 0  # Pointers for num1 and num2\n",
    "    p = 0  # Pointer for the merged array\n",
    "    \n",
    "    while p < m + n:\n",
    "        if p2 >= n or (p1 < m and copynum1[p1] < num2[p2]):\n",
    "            num1[p] = copynum1[p1]  # Merge an element from copynum1\n",
    "            p1 += 1\n",
    "        else:\n",
    "            num1[p] = num2[p2]  # Merge an element from num2\n",
    "            p2 += 1\n",
    "        \n",
    "        p += 1  # Move the pointer for the merged array\n",
    "    \n",
    "    # No need to increment p outside the while loop\n",
    "    \n",
    "    #Time complexity is :O(m+n)\n",
    "    #space compleity is :O(m) \n",
    "        \n",
    "         "
   ]
  },
  {
   "cell_type": "code",
   "execution_count": null,
   "metadata": {},
   "outputs": [],
   "source": [
    "#6\n",
    "def true(arr,n):\n",
    "    n=len(arr)\n",
    "    c=0\n",
    "    for i in range(0,n):\n",
    "        for j in range (0,n):\n",
    "            if arr[i]==arr[j] and c==2:\n",
    "                return True\n",
    "            else:\n",
    "                return false\n",
    "            \n",
    " #Time complexity is:O(n^2) \n",
    " #space complexity is:O(1)  "
   ]
  },
  {
   "cell_type": "code",
   "execution_count": null,
   "metadata": {},
   "outputs": [],
   "source": [
    "#7\n",
    "def countzero(arr, n):\n",
    "    count = 0  # Variable to keep track of the non-zero elements\n",
    "    n = len(arr)  # Update the value of n\n",
    "    \n",
    "    for i in range(n):\n",
    "        if arr[i] != 0:  # Check if the current element is non-zero\n",
    "            arr[count] = arr[i]  # Move the non-zero element to the front of the array\n",
    "            count += 1  # Increment the count\n",
    "    \n",
    "    while count < n:\n",
    "        arr[count] = 0  # Fill the remaining elements with zeroes\n",
    "        count += 1\n",
    "        \n",
    "#Time complexity is O(n)\n",
    "#space complexity is O(1)"
   ]
  },
  {
   "cell_type": "code",
   "execution_count": null,
   "metadata": {},
   "outputs": [],
   "source": [
    "#8\n",
    "def replace(s, n):\n",
    "    n = len(s)  # Update the value of n\n",
    "    \n",
    "    for i in range(n):\n",
    "        for j in range(n):\n",
    "            if s[i] == s[j]:  # Check if the characters at positions i and j are equal\n",
    "                s[j] += 1  # Replace the character at position j with its next ASCII character\n",
    "    \n",
    "    # The return statement is placed outside the loops\n",
    "    return (s[i], s[j])\n",
    "\n",
    "\n",
    "#timee complexity :O(n^2)\n",
    "#Space complexity :O(1)"
   ]
  }
 ],
 "metadata": {
  "kernelspec": {
   "display_name": "Python 3",
   "language": "python",
   "name": "python3"
  },
  "language_info": {
   "codemirror_mode": {
    "name": "ipython",
    "version": 3
   },
   "file_extension": ".py",
   "mimetype": "text/x-python",
   "name": "python",
   "nbconvert_exporter": "python",
   "pygments_lexer": "ipython3",
   "version": "3.10.11"
  },
  "orig_nbformat": 4
 },
 "nbformat": 4,
 "nbformat_minor": 2
}
